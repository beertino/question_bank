{
 "cells": [
  {
   "cell_type": "code",
   "execution_count": 6,
   "metadata": {},
   "outputs": [
    {
     "data": {
      "text/plain": [
       "-1"
      ]
     },
     "execution_count": 6,
     "metadata": {},
     "output_type": "execute_result"
    }
   ],
   "source": [
    "def linear_search(ls,k):\n",
    "    min_idx = -1\n",
    "    min_larger_than_k = None\n",
    "    for idx in range(len(ls)):\n",
    "        if ls[idx] > k:\n",
    "            if min_larger_than_k == None:\n",
    "                min_larger_than_k = ls[idx]\n",
    "                min_idx = idx\n",
    "            else:\n",
    "                if min_larger_than_k > ls[idx]:\n",
    "                    min_larger_than_k = ls[idx]\n",
    "                    min_idx = idx\n",
    "    return min_idx\n",
    "\n",
    "linear_search([17,39,37,47,15],48)"
   ]
  },
  {
   "cell_type": "code",
   "execution_count": 12,
   "metadata": {},
   "outputs": [
    {
     "data": {
      "text/plain": [
       "-1"
      ]
     },
     "execution_count": 12,
     "metadata": {},
     "output_type": "execute_result"
    }
   ],
   "source": [
    "def helper(ls,k,lower_bound,upper_bound):\n",
    "    if lower_bound > upper_bound:\n",
    "        return -1\n",
    "    else:\n",
    "        mid = (lower_bound+upper_bound)//2\n",
    "        if ls[mid] == k:\n",
    "            return mid\n",
    "        else:\n",
    "            if ls[mid]<k:\n",
    "                return helper(ls,k,mid+1,upper_bound)\n",
    "            else: #ls[mid]>k\n",
    "                return helper(ls,k,lower_bound,mid-1)\n",
    "\n",
    "def binary_search(ls,k):\n",
    "   return helper(ls,k,0,len(ls)-1)\n",
    "\n",
    "binary_search([17,39,37,47,15],48)"
   ]
  },
  {
   "cell_type": "code",
   "execution_count": null,
   "metadata": {},
   "outputs": [],
   "source": []
  }
 ],
 "metadata": {
  "interpreter": {
   "hash": "bfb4883d108fc92ac768439090a2e92bb9a1f760a54beeecfd6762b5dcd70fe3"
  },
  "kernelspec": {
   "display_name": "Python 3.10.2 64-bit",
   "language": "python",
   "name": "python3"
  },
  "language_info": {
   "codemirror_mode": {
    "name": "ipython",
    "version": 3
   },
   "file_extension": ".py",
   "mimetype": "text/x-python",
   "name": "python",
   "nbconvert_exporter": "python",
   "pygments_lexer": "ipython3",
   "version": "3.10.2"
  },
  "orig_nbformat": 4
 },
 "nbformat": 4,
 "nbformat_minor": 2
}
