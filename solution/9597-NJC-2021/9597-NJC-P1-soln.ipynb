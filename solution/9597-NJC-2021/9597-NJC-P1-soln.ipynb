{
 "cells": [
  {
   "cell_type": "code",
   "execution_count": 1,
   "metadata": {},
   "outputs": [
    {
     "data": {
      "text/plain": [
       "2"
      ]
     },
     "execution_count": 1,
     "metadata": {},
     "output_type": "execute_result"
    }
   ],
   "source": [
    "# (c)\n",
    "def linear_search(ls,k):\n",
    "    min_idx = -1\n",
    "    min_larger_than_k = None\n",
    "    for idx in range(len(ls)):\n",
    "        if ls[idx] > k:\n",
    "            if min_larger_than_k == None:\n",
    "                min_larger_than_k = ls[idx]\n",
    "                min_idx = idx\n",
    "            else:\n",
    "                if min_larger_than_k > ls[idx]:\n",
    "                    min_larger_than_k = ls[idx]\n",
    "                    min_idx = idx\n",
    "    return min_idx\n",
    "\n",
    "linear_search([17,39,37,47,15],17)"
   ]
  },
  {
   "cell_type": "code",
   "execution_count": 3,
   "metadata": {},
   "outputs": [
    {
     "data": {
      "text/plain": [
       "2"
      ]
     },
     "execution_count": 3,
     "metadata": {},
     "output_type": "execute_result"
    }
   ],
   "source": [
    "# (e)\n",
    "def helper(ls,k,lower_bound,upper_bound):\n",
    "    if lower_bound > upper_bound:\n",
    "        return -1\n",
    "    else:\n",
    "        mid = (lower_bound+upper_bound)//2\n",
    "        if ls[mid] == k:\n",
    "            return mid\n",
    "        else:\n",
    "            if ls[mid]<k:\n",
    "                return helper(ls,k,mid+1,upper_bound) #search right half\n",
    "            else: #ls[mid]>k\n",
    "                return helper(ls,k,lower_bound,mid-1) #search left half\n",
    "\n",
    "def binary_search(ls,k):\n",
    "   return helper(ls,k,0,len(ls)-1) \n",
    "\n",
    "binary_search([15,17,37,37,39,47],37)"
   ]
  },
  {
   "cell_type": "code",
   "execution_count": 18,
   "metadata": {},
   "outputs": [
    {
     "name": "stdout",
     "output_type": "stream",
     "text": [
      "1\n",
      "1\n",
      "1\n"
     ]
    },
    {
     "data": {
      "text/plain": [
       "15"
      ]
     },
     "execution_count": 18,
     "metadata": {},
     "output_type": "execute_result"
    }
   ],
   "source": [
    "# (f)\n",
    "def binary_search_iter(arr,k):\n",
    "    lower_bound = 0\n",
    "    upper_bound = len(arr) - 1\n",
    "    ret = -999999999999999999999999\n",
    "    while lower_bound <= upper_bound:\n",
    "        mid = (lower_bound+upper_bound)//2\n",
    "        if arr[mid] < k: #search right half\n",
    "            if arr[mid] > ret:\n",
    "                ret = arr[mid]\n",
    "            lower_bound = mid + 1 \n",
    "        else: #search left half\n",
    "            upper_bound = mid - 1            \n",
    "    if ret > -999999999999999999999999:\n",
    "        return ret\n",
    "    else:\n",
    "        return -1\n",
    "\n",
    "binary_search_iter([15,17,37,37,39,47],17)"
   ]
  },
  {
   "cell_type": "code",
   "execution_count": 28,
   "metadata": {},
   "outputs": [
    {
     "data": {
      "text/plain": [
       "[2, 6]"
      ]
     },
     "execution_count": 28,
     "metadata": {},
     "output_type": "execute_result"
    }
   ],
   "source": [
    "# (h)\n",
    "# helper function to help us search the left or right half \n",
    "def helper_h(arr,k,lb,ub,flag,idx):\n",
    "    #idx is the index to return\n",
    "    #so -1 if it's not found\n",
    "    if lb > ub:\n",
    "        return idx\n",
    "    \n",
    "    mid = (lb+ub)//2\n",
    "\n",
    "    if arr[mid] == k:\n",
    "        idx = mid\n",
    "        if flag == 'L':\n",
    "            return helper_h(arr,k,lb,mid-1,flag,idx)\n",
    "        elif flag == 'R':\n",
    "            return helper_h(arr,k,mid+1,ub,flag,idx)\n",
    "    else:\n",
    "        if k < arr[mid]:\n",
    "            return helper_h(arr,k,lb,mid-1,flag,idx)\n",
    "        else:\n",
    "            return helper_h(arr,k,mid+1,ub,flag,idx)\n",
    "\n",
    "def binary_search_h(arr,k):\n",
    "    result = []\n",
    "    N = len(arr)\n",
    "    result.append(helper_h(arr,k,0,N-1,\"L\",-1))\n",
    "    result.append(helper_h(arr,k,0,N-1,\"R\",-1))\n",
    "    return result\n",
    "\n",
    "binary_search_h([15,17,37,37,37,37,37,39,39,47],37)"
   ]
  },
  {
   "cell_type": "code",
   "execution_count": 40,
   "metadata": {},
   "outputs": [
    {
     "name": "stdout",
     "output_type": "stream",
     "text": [
      "[15, 17]\n",
      "[37, 47, 49]\n"
     ]
    },
    {
     "data": {
      "text/plain": [
       "[2]"
      ]
     },
     "execution_count": 40,
     "metadata": {},
     "output_type": "execute_result"
    }
   ],
   "source": [
    "test_arr = [15,17,37,47,49]\n",
    "\n",
    "def binary_search_h_alt(arr,k):\n",
    "    result = []\n",
    "    N = len(arr)\n",
    "    left_arr = arr[:N//2]\n",
    "    right_arr = arr[N//2:]\n",
    "    # print(left_arr)\n",
    "    # print(right_arr)\n",
    "    right_arr = [-i for i in right_arr]\n",
    "    right_arr.reverse()\n",
    "    if binary_search(left_arr,k) != -1:\n",
    "        result.append(binary_search(left_arr,k))\n",
    "    if binary_search(right_arr,-k) != -1:\n",
    "        result.append(N//2+len(right_arr)-binary_search(right_arr,-k)-1)\n",
    "    if result:\n",
    "        return result\n",
    "    else:\n",
    "        return -1\n",
    "\n",
    "binary_search_h_alt(test_arr,37)"
   ]
  },
  {
   "cell_type": "code",
   "execution_count": null,
   "metadata": {},
   "outputs": [],
   "source": []
  }
 ],
 "metadata": {
  "interpreter": {
   "hash": "bfb4883d108fc92ac768439090a2e92bb9a1f760a54beeecfd6762b5dcd70fe3"
  },
  "kernelspec": {
   "display_name": "Python 3.10.2 64-bit",
   "language": "python",
   "name": "python3"
  },
  "language_info": {
   "codemirror_mode": {
    "name": "ipython",
    "version": 3
   },
   "file_extension": ".py",
   "mimetype": "text/x-python",
   "name": "python",
   "nbconvert_exporter": "python",
   "pygments_lexer": "ipython3",
   "version": "3.10.2"
  },
  "orig_nbformat": 4
 },
 "nbformat": 4,
 "nbformat_minor": 2
}
