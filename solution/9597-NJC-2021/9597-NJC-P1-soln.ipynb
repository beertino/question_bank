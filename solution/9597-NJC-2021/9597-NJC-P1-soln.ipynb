{
 "cells": [
  {
   "cell_type": "code",
   "execution_count": 1,
   "metadata": {},
   "outputs": [
    {
     "data": {
      "text/plain": [
       "2"
      ]
     },
     "execution_count": 1,
     "metadata": {},
     "output_type": "execute_result"
    }
   ],
   "source": [
    "# (c)\n",
    "def linear_search(ls,k):\n",
    "    min_idx = -1\n",
    "    min_larger_than_k = None\n",
    "    for idx in range(len(ls)):\n",
    "        if ls[idx] > k:\n",
    "            if min_larger_than_k == None:\n",
    "                min_larger_than_k = ls[idx]\n",
    "                min_idx = idx\n",
    "            else:\n",
    "                if min_larger_than_k > ls[idx]:\n",
    "                    min_larger_than_k = ls[idx]\n",
    "                    min_idx = idx\n",
    "    return min_idx\n",
    "\n",
    "linear_search([17,39,37,47,15],17)"
   ]
  },
  {
   "cell_type": "code",
   "execution_count": 3,
   "metadata": {},
   "outputs": [
    {
     "data": {
      "text/plain": [
       "2"
      ]
     },
     "execution_count": 3,
     "metadata": {},
     "output_type": "execute_result"
    }
   ],
   "source": [
    "# (e)\n",
    "def helper(ls,k,lower_bound,upper_bound):\n",
    "    if lower_bound > upper_bound:\n",
    "        return -1\n",
    "    else:\n",
    "        mid = (lower_bound+upper_bound)//2\n",
    "        if ls[mid] == k:\n",
    "            return mid\n",
    "        else:\n",
    "            if ls[mid]<k:\n",
    "                return helper(ls,k,mid+1,upper_bound) #search right half\n",
    "            else: #ls[mid]>k\n",
    "                return helper(ls,k,lower_bound,mid-1) #search left half\n",
    "\n",
    "def binary_search(ls,k):\n",
    "   return helper(ls,k,0,len(ls)-1) \n",
    "\n",
    "binary_search([15,17,37,37,39,47],37)"
   ]
  },
  {
   "cell_type": "code",
   "execution_count": 18,
   "metadata": {},
   "outputs": [
    {
     "name": "stdout",
     "output_type": "stream",
     "text": [
      "1\n",
      "1\n",
      "1\n"
     ]
    },
    {
     "data": {
      "text/plain": [
       "15"
      ]
     },
     "execution_count": 18,
     "metadata": {},
     "output_type": "execute_result"
    }
   ],
   "source": [
    "# (f)\n",
    "def binary_search_iter(arr,k):\n",
    "    lower_bound = 0\n",
    "    upper_bound = len(arr) - 1\n",
    "    ret = -999999999999999999999999\n",
    "    while lower_bound <= upper_bound:\n",
    "        mid = (lower_bound+upper_bound)//2\n",
    "        if arr[mid] < k: #search right half\n",
    "            if arr[mid] > ret:\n",
    "                ret = arr[mid]\n",
    "            lower_bound = mid + 1 \n",
    "        else: #search left half\n",
    "            upper_bound = mid - 1            \n",
    "    if ret > -999999999999999999999999:\n",
    "        return ret\n",
    "    else:\n",
    "        return -1\n",
    "\n",
    "binary_search_iter([15,17,37,37,39,47],17)"
   ]
  },
  {
   "cell_type": "code",
   "execution_count": 28,
   "metadata": {},
   "outputs": [
    {
     "data": {
      "text/plain": [
       "[2, 6]"
      ]
     },
     "execution_count": 28,
     "metadata": {},
     "output_type": "execute_result"
    }
   ],
   "source": [
    "# (h)\n",
    "# helper function to help us search the left or right half \n",
    "def helper_h(arr,k,lb,ub,flag,idx):\n",
    "    #idx is the index to return\n",
    "    #so -1 if it's not found\n",
    "    if lb > ub:\n",
    "        return idx\n",
    "    \n",
    "    mid = (lb+ub)//2\n",
    "\n",
    "    if arr[mid] == k:\n",
    "        idx = mid\n",
    "        if flag == 'L':\n",
    "            #try to find \n",
    "            return helper_h(arr,k,lb,mid-1,flag,idx)\n",
    "        elif flag == 'R':\n",
    "            return helper_h(arr,k,mid+1,ub,flag,idx)\n",
    "    else:\n",
    "        if k < arr[mid]:\n",
    "            return helper_h(arr,k,lb,mid-1,flag,idx)\n",
    "        else:\n",
    "            return helper_h(arr,k,mid+1,ub,flag,idx)\n",
    "\n",
    "def binary_search_h(arr,k):\n",
    "    result = []\n",
    "    N = len(arr)\n",
    "    result.append(helper_h(arr,k,0,N-1,\"L\",-1))\n",
    "    result.append(helper_h(arr,k,0,N-1,\"R\",-1))\n",
    "    return result\n",
    "\n",
    "binary_search_h([15,17,37,37,37,37,37,39,39,47],37)"
   ]
  },
  {
   "cell_type": "code",
   "execution_count": 40,
   "metadata": {},
   "outputs": [
    {
     "name": "stdout",
     "output_type": "stream",
     "text": [
      "[15, 17]\n",
      "[37, 47, 49]\n"
     ]
    },
    {
     "data": {
      "text/plain": [
       "[2]"
      ]
     },
     "execution_count": 40,
     "metadata": {},
     "output_type": "execute_result"
    }
   ],
   "source": [
    "test_arr = [15,17,37,47,49]\n",
    "\n",
    "def binary_search_h_alt(arr,k):\n",
    "    result = []\n",
    "    N = len(arr)\n",
    "    left_arr = arr[:N//2]\n",
    "    right_arr = arr[N//2:]\n",
    "    # print(left_arr)\n",
    "    # print(right_arr)\n",
    "    right_arr = [-i for i in right_arr]\n",
    "    right_arr.reverse()\n",
    "    if binary_search(left_arr,k) != -1:\n",
    "        result.append(binary_search(left_arr,k))\n",
    "    if binary_search(right_arr,-k) != -1:\n",
    "        result.append(N//2+len(right_arr)-binary_search(right_arr,-k)-1)\n",
    "    if result:\n",
    "        return result\n",
    "    else:\n",
    "        return -1\n",
    "\n",
    "binary_search_h_alt(test_arr,37)"
   ]
  },
  {
   "cell_type": "code",
   "execution_count": 7,
   "metadata": {},
   "outputs": [
    {
     "name": "stdout",
     "output_type": "stream",
     "text": [
      "There are 86 different countries in the collection\n",
      "There are 43 days in the collection.\n",
      "The start date of the data collection is 1/22/20\n",
      "The end date of the data collection is 3/4/20\n"
     ]
    }
   ],
   "source": [
    "# Task 1.1\n",
    "\n",
    "import csv\n",
    "\n",
    "with open('COVID19.CSV') as f:\n",
    "    reader = csv.reader(f)\n",
    "    reader = list(reader)\n",
    "    header = reader[0]\n",
    "    reader = reader[1:]\n",
    "\n",
    "country_list = []\n",
    "for row in reader:\n",
    "    country_list.append(row[1])\n",
    "\n",
    "country_names = set(country_list)\n",
    "\n",
    "print(f'There are {len(country_names)} different countries in the collection')\n",
    "\n",
    "number_of_days = len(header) - 4\n",
    "print(f'There are {number_of_days} days in the collection.')\n",
    "\n",
    "start_date = header[4]\n",
    "end_date = header[-1]\n",
    "\n",
    "print(f'The start date of the data collection is {start_date}')\n",
    "print(f'The end date of the data collection is {end_date}')"
   ]
  },
  {
   "cell_type": "code",
   "execution_count": 23,
   "metadata": {},
   "outputs": [],
   "source": [
    "# Task 1.2\n",
    "\n",
    "import csv\n",
    "\n",
    "country_dict = {}\n",
    "\n",
    "country_names = sorted(country_names)\n",
    "\n",
    "for country in country_names:\n",
    "    daily_count_list = []\n",
    "    for day in range(len(header)-4):\n",
    "        country_daily_total = 0\n",
    "        for row in reader: \n",
    "            if row[1] == country:\n",
    "                country_daily_total = country_daily_total + int(row[day+4])\n",
    "\n",
    "        daily_count_list.append(country_daily_total)\n",
    "    country_dict[country] = daily_count_list\n",
    "\n",
    "new_header = [header[1]] + header[4:]\n",
    "\n",
    "with open('countries.csv','w',newline ='') as f:\n",
    "    writer = csv.writer(f)\n",
    "    writer.writerow(new_header)\n",
    "    for country in country_names:\n",
    "        writer.writerow([country]+country_dict[country])"
   ]
  },
  {
   "cell_type": "code",
   "execution_count": 28,
   "metadata": {},
   "outputs": [
    {
     "name": "stdout",
     "output_type": "stream",
     "text": [
      "5\n",
      "4\n",
      "3\n"
     ]
    }
   ],
   "source": [
    "for i in range(5,2,-1):\n",
    "    print(i)"
   ]
  },
  {
   "cell_type": "code",
   "execution_count": 80,
   "metadata": {},
   "outputs": [
    {
     "name": "stdout",
     "output_type": "stream",
     "text": [
      "[523, 566, 571, 575, 576, 586, 586, 587, 599, 663, 801, 813, 835, 851, 1450, 1659, 1775, 1918, 2021, 2054, 2055, 2088, 2099, 2516, 2631, 2703, 3012, 3086, 3144, 3522, 3729, 3987, 4736, 6460, 15133]\n",
      "Mainland China 15133 2/13/20\n",
      "Mainland China 6460 2/14/20\n",
      "Mainland China 4736 2/2/20\n",
      "Mainland China 3987 2/4/20\n",
      "Mainland China 3729 2/5/20\n",
      "Mainland China 3522 2/7/20\n",
      "Mainland China 3144 2/6/20\n",
      "Mainland China 3086 2/3/20\n",
      "Mainland China 3012 2/9/20\n",
      "Mainland China 2703 2/8/20\n",
      "Mainland China 2631 1/28/20\n",
      "Mainland China 2516 2/10/20\n",
      "Mainland China 2099 2/16/20\n",
      "Mainland China 2088 2/1/20\n",
      "Mainland China 2055 2/15/20\n",
      "Mainland China 2054 1/30/20\n",
      "Mainland China 2021 2/11/20\n",
      "Mainland China 1918 2/17/20\n",
      "Mainland China 1775 2/18/20\n",
      "Mainland China 1659 1/31/20\n",
      "Mainland China 1450 2/22/20\n",
      "South Korea 851 3/3/20\n",
      "Iran 835 3/3/20\n",
      "South Korea 813 2/29/20\n",
      "Mainland China 801 1/27/20\n",
      "Mainland China 663 1/26/20\n",
      "South Korea 599 3/2/20\n",
      "Italy 587 3/4/20\n",
      "Iran 586 3/4/20\n",
      "Iran 586 3/4/20\n",
      "Mainland China 576 1/29/20\n",
      "Mainland China 575 3/1/20\n",
      "South Korea 571 2/28/20\n",
      "Italy 566 3/1/20\n",
      "Iran 523 3/2/20\n"
     ]
    }
   ],
   "source": [
    "# Task 1.3\n",
    "\n",
    "with open('countries.csv') as f:\n",
    "    reader = csv.reader(f)\n",
    "    reader = list(reader)\n",
    "    number_of_row = len(reader)\n",
    "    number_of_column = len(reader[0])\n",
    "    for i in range(1,len(reader)):\n",
    "        for j in range(len(reader[0])-1,1,-1):\n",
    "            reader[i][j] = int(reader[i][j])-int(reader[i][j-1])\n",
    "        reader[i][1] = 0\n",
    "\n",
    "def search_array_2D(arr,val):\n",
    "    # we need to search only from the 2nd row and 3rd column onwawrds\n",
    "    i = 1\n",
    "    found = False\n",
    "    while i < len(arr):\n",
    "        j = 2\n",
    "        while j < len(arr[0]):\n",
    "            if arr[i][j] == val:\n",
    "                print(arr[i][0], val, arr[0][j])\n",
    "                found = True\n",
    "                return\n",
    "            j += 1\n",
    "        i += 1\n",
    "\n",
    "\n",
    "numbers_to_search = []\n",
    "\n",
    "for row in range(1,len(reader)):\n",
    "    numbers_to_search.extend(reader[row][2:])\n",
    "\n",
    "numbers_to_search = sorted(numbers_to_search)\n",
    "\n",
    "print(numbers_to_search[-35:])\n",
    "\n",
    "for idx in range(34,-1,-1):\n",
    "    search_array_2D(reader,numbers_to_search[-35:][idx])\n"
   ]
  },
  {
   "cell_type": "code",
   "execution_count": 38,
   "metadata": {},
   "outputs": [
    {
     "name": "stdout",
     "output_type": "stream",
     "text": [
      "5\n",
      "4\n",
      "3\n",
      "2\n",
      "1\n"
     ]
    }
   ],
   "source": [
    "for i in range(5,0,-1):\n",
    "    print(i)"
   ]
  },
  {
   "cell_type": "code",
   "execution_count": 71,
   "metadata": {},
   "outputs": [
    {
     "name": "stdout",
     "output_type": "stream",
     "text": [
      "Row1 3 Column3\n"
     ]
    }
   ],
   "source": [
    "arr = [[None,'Column1','Column2','Column3'],['Row1',1,2,3],['Row2',4,5,6]]\n",
    "\n",
    "def search_array_2D(arr,val):\n",
    "    # we need to search only from the 2nd row and 3rd column onwawrds\n",
    "    i = 1\n",
    "    found = False\n",
    "    while i < len(arr):\n",
    "        j = 2\n",
    "        while j < len(arr[0]):\n",
    "            if arr[i][j] == val:\n",
    "                print(arr[i][0], val, arr[0][j])\n",
    "                found = True\n",
    "                return\n",
    "            j += 1\n",
    "        i += 1\n",
    "\n",
    "\n",
    "search_array_2D(arr,3)"
   ]
  },
  {
   "cell_type": "code",
   "execution_count": 62,
   "metadata": {},
   "outputs": [
    {
     "name": "stdout",
     "output_type": "stream",
     "text": [
      "0 0\n",
      "0 1\n",
      "0 2\n",
      "0 3\n",
      "1 0\n",
      "1 1\n",
      "1 2\n",
      "1 3\n",
      "2 0\n",
      "2 1\n",
      "2 2\n",
      "2 3\n"
     ]
    }
   ],
   "source": [
    "i = 0\n",
    "\n",
    "while i < 3:\n",
    "    j = 0\n",
    "    while j < 4:\n",
    "        print(i,j)\n",
    "        j += 1\n",
    "    i += 1"
   ]
  },
  {
   "cell_type": "code",
   "execution_count": null,
   "metadata": {},
   "outputs": [],
   "source": []
  }
 ],
 "metadata": {
  "interpreter": {
   "hash": "a42ccb73e7d9bfdf27e036f1d2b8b681e55fc0743cc5586bc2474d4a60f4b886"
  },
  "kernelspec": {
   "display_name": "Python 3.10.2 64-bit",
   "language": "python",
   "name": "python3"
  },
  "language_info": {
   "codemirror_mode": {
    "name": "ipython",
    "version": 3
   },
   "file_extension": ".py",
   "mimetype": "text/x-python",
   "name": "python",
   "nbconvert_exporter": "python",
   "pygments_lexer": "ipython3",
   "version": "3.10.2"
  },
  "orig_nbformat": 4
 },
 "nbformat": 4,
 "nbformat_minor": 2
}
