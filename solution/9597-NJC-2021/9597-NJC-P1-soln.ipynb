{
 "cells": [
  {
   "cell_type": "code",
   "execution_count": 1,
   "metadata": {},
   "outputs": [
    {
     "data": {
      "text/plain": [
       "2"
      ]
     },
     "execution_count": 1,
     "metadata": {},
     "output_type": "execute_result"
    }
   ],
   "source": [
    "# (c)\n",
    "def linear_search(ls,k):\n",
    "    min_idx = -1\n",
    "    min_larger_than_k = None\n",
    "    for idx in range(len(ls)):\n",
    "        if ls[idx] > k:\n",
    "            if min_larger_than_k == None:\n",
    "                min_larger_than_k = ls[idx]\n",
    "                min_idx = idx\n",
    "            else:\n",
    "                if min_larger_than_k > ls[idx]:\n",
    "                    min_larger_than_k = ls[idx]\n",
    "                    min_idx = idx\n",
    "    return min_idx\n",
    "\n",
    "linear_search([17,39,37,47,15],17)"
   ]
  },
  {
   "cell_type": "code",
   "execution_count": 3,
   "metadata": {},
   "outputs": [
    {
     "data": {
      "text/plain": [
       "2"
      ]
     },
     "execution_count": 3,
     "metadata": {},
     "output_type": "execute_result"
    }
   ],
   "source": [
    "# (e)\n",
    "def helper(ls,k,lower_bound,upper_bound):\n",
    "    if lower_bound > upper_bound:\n",
    "        return -1\n",
    "    else:\n",
    "        mid = (lower_bound+upper_bound)//2\n",
    "        if ls[mid] == k:\n",
    "            return mid\n",
    "        else:\n",
    "            if ls[mid]<k:\n",
    "                return helper(ls,k,mid+1,upper_bound) #search right half\n",
    "            else: #ls[mid]>k\n",
    "                return helper(ls,k,lower_bound,mid-1) #search left half\n",
    "\n",
    "def binary_search(ls,k):\n",
    "   return helper(ls,k,0,len(ls)-1) \n",
    "\n",
    "binary_search([15,17,37,37,39,47],37)"
   ]
  },
  {
   "cell_type": "code",
   "execution_count": 18,
   "metadata": {},
   "outputs": [
    {
     "name": "stdout",
     "output_type": "stream",
     "text": [
      "1\n",
      "1\n",
      "1\n"
     ]
    },
    {
     "data": {
      "text/plain": [
       "15"
      ]
     },
     "execution_count": 18,
     "metadata": {},
     "output_type": "execute_result"
    }
   ],
   "source": [
    "# (f)\n",
    "def binary_search_iter(arr,k):\n",
    "    lower_bound = 0\n",
    "    upper_bound = len(arr) - 1\n",
    "    ret = -999999999999999999999999\n",
    "    while lower_bound <= upper_bound:\n",
    "        mid = (lower_bound+upper_bound)//2\n",
    "        if arr[mid] < k: #search right half\n",
    "            if arr[mid] > ret:\n",
    "                ret = arr[mid]\n",
    "            lower_bound = mid + 1 \n",
    "        else: #search left half\n",
    "            upper_bound = mid - 1            \n",
    "    if ret > -999999999999999999999999:\n",
    "        return ret\n",
    "    else:\n",
    "        return -1\n",
    "\n",
    "binary_search_iter([15,17,37,37,39,47],17)"
   ]
  },
  {
   "cell_type": "code",
   "execution_count": 28,
   "metadata": {},
   "outputs": [
    {
     "data": {
      "text/plain": [
       "[2, 6]"
      ]
     },
     "execution_count": 28,
     "metadata": {},
     "output_type": "execute_result"
    }
   ],
   "source": [
    "# (h)\n",
    "# helper function to help us search the left or right half \n",
    "def helper_h(arr,k,lb,ub,flag,idx):\n",
    "    #idx is the index to return\n",
    "    #so -1 if it's not found\n",
    "    if lb > ub:\n",
    "        return idx\n",
    "    \n",
    "    mid = (lb+ub)//2\n",
    "\n",
    "    if arr[mid] == k:\n",
    "        idx = mid\n",
    "        if flag == 'L':\n",
    "            #try to find \n",
    "            return helper_h(arr,k,lb,mid-1,flag,idx)\n",
    "        elif flag == 'R':\n",
    "            return helper_h(arr,k,mid+1,ub,flag,idx)\n",
    "    else:\n",
    "        if k < arr[mid]:\n",
    "            return helper_h(arr,k,lb,mid-1,flag,idx)\n",
    "        else:\n",
    "            return helper_h(arr,k,mid+1,ub,flag,idx)\n",
    "\n",
    "def binary_search_h(arr,k):\n",
    "    result = []\n",
    "    N = len(arr)\n",
    "    result.append(helper_h(arr,k,0,N-1,\"L\",-1))\n",
    "    result.append(helper_h(arr,k,0,N-1,\"R\",-1))\n",
    "    return result\n",
    "\n",
    "binary_search_h([15,17,37,37,37,37,37,39,39,47],37)"
   ]
  },
  {
   "cell_type": "code",
   "execution_count": 40,
   "metadata": {},
   "outputs": [
    {
     "name": "stdout",
     "output_type": "stream",
     "text": [
      "[15, 17]\n",
      "[37, 47, 49]\n"
     ]
    },
    {
     "data": {
      "text/plain": [
       "[2]"
      ]
     },
     "execution_count": 40,
     "metadata": {},
     "output_type": "execute_result"
    }
   ],
   "source": [
    "test_arr = [15,17,37,47,49]\n",
    "\n",
    "def binary_search_h_alt(arr,k):\n",
    "    result = []\n",
    "    N = len(arr)\n",
    "    left_arr = arr[:N//2]\n",
    "    right_arr = arr[N//2:]\n",
    "    # print(left_arr)\n",
    "    # print(right_arr)\n",
    "    right_arr = [-i for i in right_arr]\n",
    "    right_arr.reverse()\n",
    "    if binary_search(left_arr,k) != -1:\n",
    "        result.append(binary_search(left_arr,k))\n",
    "    if binary_search(right_arr,-k) != -1:\n",
    "        result.append(N//2+len(right_arr)-binary_search(right_arr,-k)-1)\n",
    "    if result:\n",
    "        return result\n",
    "    else:\n",
    "        return -1\n",
    "\n",
    "binary_search_h_alt(test_arr,37)"
   ]
  },
  {
   "cell_type": "code",
   "execution_count": 7,
   "metadata": {},
   "outputs": [
    {
     "name": "stdout",
     "output_type": "stream",
     "text": [
      "There are 86 different countries in the collection\n",
      "There are 43 days in the collection.\n",
      "The start date of the data collection is 1/22/20\n",
      "The end date of the data collection is 3/4/20\n"
     ]
    }
   ],
   "source": [
    "# Task 1.1\n",
    "\n",
    "import csv\n",
    "\n",
    "with open('COVID19.CSV') as f:\n",
    "    reader = csv.reader(f)\n",
    "    reader = list(reader)\n",
    "    header = reader[0]\n",
    "    reader = reader[1:]\n",
    "\n",
    "country_list = []\n",
    "for row in reader:\n",
    "    country_list.append(row[1])\n",
    "\n",
    "country_names = set(country_list)\n",
    "\n",
    "print(f'There are {len(country_names)} different countries in the collection')\n",
    "\n",
    "number_of_days = len(header) - 4\n",
    "print(f'There are {number_of_days} days in the collection.')\n",
    "\n",
    "start_date = header[4]\n",
    "end_date = header[-1]\n",
    "\n",
    "print(f'The start date of the data collection is {start_date}')\n",
    "print(f'The end date of the data collection is {end_date}')"
   ]
  },
  {
   "cell_type": "code",
   "execution_count": 23,
   "metadata": {},
   "outputs": [],
   "source": [
    "# Task 1.2\n",
    "\n",
    "import csv\n",
    "\n",
    "country_dict = {}\n",
    "\n",
    "country_names = sorted(country_names)\n",
    "\n",
    "for country in country_names:\n",
    "    daily_count_list = []\n",
    "    for day in range(len(header)-4):\n",
    "        country_daily_total = 0\n",
    "        for row in reader: \n",
    "            if row[1] == country:\n",
    "                country_daily_total = country_daily_total + int(row[day+4])\n",
    "\n",
    "        daily_count_list.append(country_daily_total)\n",
    "    country_dict[country] = daily_count_list\n",
    "\n",
    "new_header = [header[1]] + header[4:]\n",
    "\n",
    "with open('countries.csv','w',newline ='') as f:\n",
    "    writer = csv.writer(f)\n",
    "    writer.writerow(new_header)\n",
    "    for country in country_names:\n",
    "        writer.writerow([country]+country_dict[country])"
   ]
  },
  {
   "cell_type": "code",
   "execution_count": 80,
   "metadata": {},
   "outputs": [
    {
     "name": "stdout",
     "output_type": "stream",
     "text": [
      "[523, 566, 571, 575, 576, 586, 586, 587, 599, 663, 801, 813, 835, 851, 1450, 1659, 1775, 1918, 2021, 2054, 2055, 2088, 2099, 2516, 2631, 2703, 3012, 3086, 3144, 3522, 3729, 3987, 4736, 6460, 15133]\n",
      "Mainland China 15133 2/13/20\n",
      "Mainland China 6460 2/14/20\n",
      "Mainland China 4736 2/2/20\n",
      "Mainland China 3987 2/4/20\n",
      "Mainland China 3729 2/5/20\n",
      "Mainland China 3522 2/7/20\n",
      "Mainland China 3144 2/6/20\n",
      "Mainland China 3086 2/3/20\n",
      "Mainland China 3012 2/9/20\n",
      "Mainland China 2703 2/8/20\n",
      "Mainland China 2631 1/28/20\n",
      "Mainland China 2516 2/10/20\n",
      "Mainland China 2099 2/16/20\n",
      "Mainland China 2088 2/1/20\n",
      "Mainland China 2055 2/15/20\n",
      "Mainland China 2054 1/30/20\n",
      "Mainland China 2021 2/11/20\n",
      "Mainland China 1918 2/17/20\n",
      "Mainland China 1775 2/18/20\n",
      "Mainland China 1659 1/31/20\n",
      "Mainland China 1450 2/22/20\n",
      "South Korea 851 3/3/20\n",
      "Iran 835 3/3/20\n",
      "South Korea 813 2/29/20\n",
      "Mainland China 801 1/27/20\n",
      "Mainland China 663 1/26/20\n",
      "South Korea 599 3/2/20\n",
      "Italy 587 3/4/20\n",
      "Iran 586 3/4/20\n",
      "Iran 586 3/4/20\n",
      "Mainland China 576 1/29/20\n",
      "Mainland China 575 3/1/20\n",
      "South Korea 571 2/28/20\n",
      "Italy 566 3/1/20\n",
      "Iran 523 3/2/20\n"
     ]
    }
   ],
   "source": [
    "# Task 1.3\n",
    "\n",
    "with open('countries.csv') as f:\n",
    "    reader = csv.reader(f)\n",
    "    reader = list(reader)\n",
    "    number_of_row = len(reader)\n",
    "    number_of_column = len(reader[0])\n",
    "    for i in range(1,len(reader)):\n",
    "        for j in range(len(reader[0])-1,1,-1):\n",
    "            reader[i][j] = int(reader[i][j])-int(reader[i][j-1])\n",
    "        reader[i][1] = 0\n",
    "\n",
    "def search_array_2D(arr,val):\n",
    "    # we need to search only from the 2nd row and 3rd column onwawrds\n",
    "    i = 1\n",
    "    found = False\n",
    "    while i < len(arr):\n",
    "        j = 2\n",
    "        while j < len(arr[0]):\n",
    "            if arr[i][j] == val:\n",
    "                print(arr[i][0], val, arr[0][j])\n",
    "                found = True\n",
    "                return\n",
    "            j += 1\n",
    "        i += 1\n",
    "\n",
    "\n",
    "numbers_to_search = []\n",
    "\n",
    "for row in range(1,len(reader)):\n",
    "    numbers_to_search.extend(reader[row][2:])\n",
    "\n",
    "numbers_to_search = sorted(numbers_to_search)\n",
    "\n",
    "print(numbers_to_search[-35:])\n",
    "\n",
    "for idx in range(34,-1,-1):\n",
    "    search_array_2D(reader,numbers_to_search[-35:][idx])\n"
   ]
  },
  {
   "cell_type": "code",
   "execution_count": 3,
   "metadata": {},
   "outputs": [],
   "source": [
    "# Task 2.1\n",
    "\n",
    "class Employee:\n",
    "    def __init__(self,name,NRIC,contact):\n",
    "        self.name = name\n",
    "        self.NRIC = NRIC\n",
    "        self.contact = contact\n",
    "\n",
    "    def __repr__(self):\n",
    "        return f'{self.NRIC}:{self.name}'\n",
    "\n",
    "    def get_name(self):\n",
    "        return self.name\n",
    "\n",
    "    def set_name(self,name):\n",
    "        self.name = name\n",
    "\n",
    "    def get_NRIC(self):\n",
    "        return self.NRIC\n",
    "\n",
    "    def set_NRIC(self,NRIC):\n",
    "        self.NRIC = NRIC\n",
    "\n",
    "    def get_contact(self):\n",
    "        return self.contact\n",
    "\n",
    "    def set_contact(self,contact):\n",
    "        self.contact = contact\n",
    "\n",
    "    def compare_with(self,other_employee):\n",
    "        if self.name < other_employee.get_name():\n",
    "            return -1\n",
    "        if self.name > other_employee.get_name():\n",
    "            return 1\n",
    "        if self.name == other_employee.get_name():\n",
    "            return 0\n"
   ]
  },
  {
   "cell_type": "code",
   "execution_count": 17,
   "metadata": {},
   "outputs": [],
   "source": [
    "# Task 2.2\n",
    "\n",
    "class FTEmployee(Employee):\n",
    "    def __init__(self,name,NRIC,contact,monthlySalary):\n",
    "        super().__init__(name,NRIC,contact)\n",
    "        self.monthlySalary = monthlySalary\n",
    "\n",
    "    def get_monthlySalary(self):\n",
    "        return self.monthlySalary\n",
    "\n",
    "    def set_monthlySalary(self,monthlySalary):\n",
    "        self.monthlySalary = monthlySalary\n",
    "\n",
    "    def calculate_pay(self):\n",
    "        return int(self.monthlySalary)\n",
    "\n",
    "    def compare_with(self,other_employee):\n",
    "        if self.calculate_pay() < other_employee.calculate_pay():\n",
    "            return -1\n",
    "        if self.calculate_pay() > other_employee.calculate_pay():\n",
    "            return 1\n",
    "        if self.calculate_pay() == other_employee.calculate_pay():\n",
    "            return 0\n",
    "\n",
    "    def __str__(self):\n",
    "        return f'{self.get_name()}:{self.get_NRIC()}:{self.calculate_pay()}'\n",
    "\n",
    "class PTEmployee(Employee):\n",
    "    def __init__(self,name,NRIC,contact,hourlyRate,daysWorked):\n",
    "        super().__init__(name,NRIC,contact)\n",
    "        self.hourlyRate = hourlyRate\n",
    "        self.daysWorked = daysWorked\n",
    "\n",
    "    def get_hourlyRate(self):\n",
    "        return self.hourlyRate\n",
    "\n",
    "    def set_hourlyRate(self,hourlyRate):\n",
    "        self.hourlyRate = hourlyRate\n",
    "\n",
    "    def get_daysWorked(self):\n",
    "        return self.daysWorked\n",
    "\n",
    "    def set_daysWorked(self,daysWorked):\n",
    "        self.daysWorked = daysWorked\n",
    "\n",
    "    def calculate_pay(self):\n",
    "        return int(self.hourlyRate) * int(self.daysWorked)\n",
    "\n",
    "    def compare_with(self,other_employee):\n",
    "        if self.calculate_pay() < other_employee.calculate_pay():\n",
    "            return -1\n",
    "        if self.calculate_pay() > other_employee.calculate_pay():\n",
    "            return 1\n",
    "        if self.calculate_pay() == other_employee.calculate_pay():\n",
    "            return 0 \n",
    "    \n",
    "    def __str__(self):\n",
    "        return f'{self.get_name()}:{self.get_NRIC()}:{self.get_hourlyRate()}:{self.get_daysWorked()}'\n",
    "\n",
    "           "
   ]
  },
  {
   "cell_type": "code",
   "execution_count": 42,
   "metadata": {},
   "outputs": [
    {
     "name": "stdout",
     "output_type": "stream",
     "text": [
      "Harley:F2879124I:40:128\n",
      "Barris:G2162825P:40:134\n",
      "Andre:G7028612T:40:149\n",
      "Dev:G8804899R:60:56\n",
      "Florry:G5935054J:7642\n",
      "Lauritz:F3295152O:5657\n",
      "Monroe:G9637986L:3936\n",
      "Van:F4203985B:4198\n",
      "Correna:F4954357C:40:72\n",
      "Gabe:G8771450I:60:99\n",
      "Salmon:F2156653R:60:47\n",
      "Mitchell:G6928407A:5158\n",
      "Antonie:G1450945B:9563\n",
      "Babs:F9627284B:60:128\n",
      "Aurilia:F2307865W:7307\n",
      "Wilburt:S7473431H:8969\n",
      "Adamo:F0444907W:4976\n",
      "Cullan:G4832834C:60:89\n",
      "Karla:G6716982J:50:105\n",
      "Aeriela:G9993714Q:60:98\n",
      "Raviv:S1460805T:60:130\n",
      "Gillan:F8422204Y:40:43\n",
      "Joey:G8331389O:3716\n",
      "Dannie:G6716775O:60:157\n",
      "Moria:F0918909W:40:44\n",
      "Idell:T8063560X:40:142\n",
      "Marybelle:G1782103K:60:45\n",
      "Desi:G4235480H:60:81\n",
      "Salome:S7452853R:60:81\n",
      "Lynnet:G5402656M:50:85\n",
      "Hanson:G9076451U:50:110\n",
      "Luella:G1360886H:60:125\n",
      "Verina:G7553594U:6346\n",
      "Sarita:G5852056H:4601\n",
      "Benedicto:S3238298D:60:52\n",
      "Mira:G1294799R:60:104\n",
      "Trixy:G9707922O:6662\n",
      "Joelie:S2743497J:50:50\n",
      "Ardenia:F3249879K:6229\n",
      "Arlinda:F3036905T:3206\n",
      "Kacie:F4904390Z:5058\n",
      "Kermy:G4188930T:40:111\n",
      "Loretta:F0232876V:9756\n",
      "Glenn:S6439266Q:7526\n",
      "Kynthia:G0602181G:4172\n",
      "Maynord:T7211833V:8143\n",
      "Faith:G7283747K:40:46\n",
      "Avrom:G9183436R:50:94\n",
      "Stevie:T5128325K:6731\n",
      "Kevan:G7283469I:60:72\n",
      "Gretal:G7505051N:3236\n",
      "Wilburt:G6740511A:5734\n",
      "Graig:S2537969S:4951\n",
      "Doe:G6380855M:60:77\n",
      "Meggi:T8147922J:40:140\n",
      "Reuben:T6092243P:6375\n"
     ]
    }
   ],
   "source": [
    "# Task 2.3\n",
    "import csv\n",
    "\n",
    "with open('paid_employees.csv') as f:\n",
    "    reader = csv.reader(f)\n",
    "    reader = list(reader)\n",
    "\n",
    "type = 0\n",
    "nric = 1\n",
    "name = 2\n",
    "contact = 3\n",
    "rate = 4\n",
    "hours = 5\n",
    "salary = 6\n",
    "\n",
    "paid_employee = []\n",
    "\n",
    "for row in reader[1:]:\n",
    "    if row[type] == 'FT':  \n",
    "        paid_employee.append(FTEmployee(row[name],row[nric],row[contact],row[salary]))\n",
    "    if row[type] == 'PT':  \n",
    "        paid_employee.append(PTEmployee(row[name],row[nric],row[contact],row[rate],row[hours]))\n",
    "\n",
    "for employee in paid_employee:\n",
    "    print(employee)"
   ]
  },
  {
   "cell_type": "code",
   "execution_count": 48,
   "metadata": {},
   "outputs": [
    {
     "name": "stdout",
     "output_type": "stream",
     "text": [
      "Gillan:F8422204Y:40:43\n",
      "Moria:F0918909W:40:44\n",
      "Faith:G7283747K:40:46\n",
      "Joelie:S2743497J:50:50\n",
      "Marybelle:G1782103K:60:45\n",
      "Salmon:F2156653R:60:47\n",
      "Correna:F4954357C:40:72\n",
      "Benedicto:S3238298D:60:52\n",
      "Arlinda:F3036905T:3206\n",
      "Gretal:G7505051N:3236\n",
      "Dev:G8804899R:60:56\n",
      "Joey:G8331389O:3716\n",
      "Monroe:G9637986L:3936\n",
      "Kynthia:G0602181G:4172\n",
      "Van:F4203985B:4198\n",
      "Lynnet:G5402656M:50:85\n",
      "Kevan:G7283469I:60:72\n",
      "Kermy:G4188930T:40:111\n",
      "Sarita:G5852056H:4601\n",
      "Doe:G6380855M:60:77\n",
      "Avrom:G9183436R:50:94\n",
      "Desi:G4235480H:60:81\n",
      "Salome:S7452853R:60:81\n",
      "Graig:S2537969S:4951\n",
      "Adamo:F0444907W:4976\n",
      "Kacie:F4904390Z:5058\n",
      "Harley:F2879124I:40:128\n",
      "Mitchell:G6928407A:5158\n",
      "Karla:G6716982J:50:105\n",
      "Cullan:G4832834C:60:89\n",
      "Barris:G2162825P:40:134\n",
      "Hanson:G9076451U:50:110\n",
      "Meggi:T8147922J:40:140\n",
      "Lauritz:F3295152O:5657\n",
      "Idell:T8063560X:40:142\n",
      "Wilburt:G6740511A:5734\n",
      "Aeriela:G9993714Q:60:98\n",
      "Gabe:G8771450I:60:99\n",
      "Andre:G7028612T:40:149\n",
      "Ardenia:F3249879K:6229\n",
      "Mira:G1294799R:60:104\n",
      "Verina:G7553594U:6346\n",
      "Reuben:T6092243P:6375\n",
      "Trixy:G9707922O:6662\n",
      "Stevie:T5128325K:6731\n",
      "Aurilia:F2307865W:7307\n",
      "Luella:G1360886H:60:125\n",
      "Glenn:S6439266Q:7526\n",
      "Florry:G5935054J:7642\n",
      "Babs:F9627284B:60:128\n",
      "Raviv:S1460805T:60:130\n",
      "Maynord:T7211833V:8143\n",
      "Wilburt:S7473431H:8969\n",
      "Dannie:G6716775O:60:157\n",
      "Antonie:G1450945B:9563\n",
      "Loretta:F0232876V:9756\n"
     ]
    }
   ],
   "source": [
    "def insertionSort(arr):\n",
    " \n",
    "    # Traverse through 1 to len(arr)\n",
    "    for i in range(1, len(arr)):\n",
    "        key = arr[i]\n",
    "        # Move elements of arr[0..i-1], that are\n",
    "        # greater than key, to one position ahead\n",
    "        # of their current position\n",
    "        j = i-1\n",
    "        while j >= 0 and key.calculate_pay() < arr[j].calculate_pay() :\n",
    "                arr[j + 1] = arr[j]\n",
    "                j -= 1\n",
    "        arr[j + 1] = key\n",
    "\n",
    "    return arr\n",
    "\n",
    "arr = insertionSort(paid_employee)\n",
    "\n",
    "for i in arr:\n",
    "    print(i)"
   ]
  },
  {
   "cell_type": "code",
   "execution_count": 35,
   "metadata": {},
   "outputs": [
    {
     "name": "stdout",
     "output_type": "stream",
     "text": [
      "Harley\n"
     ]
    }
   ],
   "source": [
    "print(paid_employee[0].get_name())"
   ]
  },
  {
   "cell_type": "code",
   "execution_count": 37,
   "metadata": {},
   "outputs": [
    {
     "name": "stdout",
     "output_type": "stream",
     "text": [
      "[F2879124I:Harley, G2162825P:Barris, G7028612T:Andre, G8804899R:Dev, G5935054J:Florry, F3295152O:Lauritz, G9637986L:Monroe, F4203985B:Van, F4954357C:Correna, G8771450I:Gabe, F2156653R:Salmon, G6928407A:Mitchell, G1450945B:Antonie, F9627284B:Babs, F2307865W:Aurilia, S7473431H:Wilburt, F0444907W:Adamo, G4832834C:Cullan, G6716982J:Karla, G9993714Q:Aeriela, S1460805T:Raviv, F8422204Y:Gillan, G8331389O:Joey, G6716775O:Dannie, F0918909W:Moria, T8063560X:Idell, G1782103K:Marybelle, G4235480H:Desi, S7452853R:Salome, G5402656M:Lynnet, G9076451U:Hanson, G1360886H:Luella, G7553594U:Verina, G5852056H:Sarita, S3238298D:Benedicto, G1294799R:Mira, G9707922O:Trixy, S2743497J:Joelie, F3249879K:Ardenia, F3036905T:Arlinda, F4904390Z:Kacie, G4188930T:Kermy, F0232876V:Loretta, S6439266Q:Glenn, G0602181G:Kynthia, T7211833V:Maynord, G7283747K:Faith, G9183436R:Avrom, T5128325K:Stevie, G7283469I:Kevan, G7505051N:Gretal, G6740511A:Wilburt, S2537969S:Graig, G6380855M:Doe, T8147922J:Meggi, T6092243P:Reuben]\n"
     ]
    }
   ],
   "source": [
    "print(paid_employee)"
   ]
  },
  {
   "cell_type": "code",
   "execution_count": null,
   "metadata": {},
   "outputs": [],
   "source": []
  }
 ],
 "metadata": {
  "interpreter": {
   "hash": "b9c5ecd5b11d00dfada2a8c85b3b51528885c2b6bb3ffab2d81cbe97fbaa8db4"
  },
  "kernelspec": {
   "display_name": "Python 3.7.6 ('base')",
   "language": "python",
   "name": "python3"
  },
  "language_info": {
   "codemirror_mode": {
    "name": "ipython",
    "version": 3
   },
   "file_extension": ".py",
   "mimetype": "text/x-python",
   "name": "python",
   "nbconvert_exporter": "python",
   "pygments_lexer": "ipython3",
   "version": "3.7.6"
  },
  "orig_nbformat": 4
 },
 "nbformat": 4,
 "nbformat_minor": 2
}
