{
 "cells": [
  {
   "cell_type": "code",
   "execution_count": null,
   "metadata": {},
   "outputs": [],
   "source": [
    "# Task 1.1\n",
    "\n",
    "def alphabets_used(string):\n",
    "    #using set here might be problematic because the characters might not be unique and the questions is vague, in the sense that we don't know if 'e AA' and 'a EE' is considered the same. The example didn't specify this case\n",
    "    #Thus, to see if the two strings contained the same characters, a smart way is to compared the ordered list representation\n",
    "    \n",
    "    string = string.lower()\n",
    "    string = sorted(list(string))\n",
    "    \n",
    "    return string\n",
    "\n",
    "def space_positions(string):\n",
    "    position = []\n",
    "    for i in range(len(string)):\n",
    "        if string[i] == ' ':\n",
    "            position.append(i)\n",
    "    return position\n",
    "\n",
    "def task1_1(name_A,name_B):\n",
    "    return (alphabets_used(name_A) == alphabets_used(name_B)) and (space_positions(name_A) == space_positions(name_B))\n",
    "\n",
    "print(task1_1(\"Abcde\", \"Deabc\"))\n",
    "print(task1_1(\"Abcde Fgh I\", \"Ihgfe Dcb A\"))\n",
    "print(task1_1(\"Abcd Efgh I\", \"Ihgfe Dcb A\"))\n",
    "print(task1_1(\"Abcde Fzh I\", \"Ihgfe Dcb A\"))"
   ]
  },
  {
   "cell_type": "code",
   "execution_count": null,
   "metadata": {},
   "outputs": [],
   "source": [
    "# Task 1.2\n",
    "\n",
    "def task1_2():\n",
    "    with open('namelist_A.txt') as f:\n",
    "        namelist_A = f.readlines()\n",
    "        namelist_A = [name.strip() for name in namelist_A]\n",
    "\n",
    "    with open('namelist_B.txt') as f:\n",
    "        namelist_B = f.readlines()\n",
    "        namelist_B = [name.strip() for name in namelist_B]\n",
    "        \n",
    "    length = len(namelist_B)\n",
    "\n",
    "    def search_in_B(name):\n",
    "        i = 0\n",
    "        while i <len(namelist_B):\n",
    "            if task1_1(name,namelist_B[i]):\n",
    "                return namelist_B[i]\n",
    "            i += 1\n",
    "        return '*'*11+'No Match'+'*'*11\n",
    "    \n",
    "    print(\"From namelist_A.txt                         From namelist_B.txt\")\n",
    "\n",
    "\n",
    "    #Use {:n} for formatting printouts\n",
    "    for name in namelist_A:\n",
    "        print(f'{name:32}            {search_in_B(name)}')\n",
    "\n",
    "task1_2()"
   ]
  },
  {
   "cell_type": "code",
   "execution_count": null,
   "metadata": {},
   "outputs": [],
   "source": [
    "# Task 3.1\n",
    "\n",
    "import csv\n",
    "\n",
    "from pymongo import MongoClient\n",
    "\n",
    "with open('health_facilities.csv') as f:\n",
    "    reader = csv.reader(f)\n",
    "    reader = list(reader)[1:]\n",
    "\n",
    "try:\n",
    "    client = MongoClient('localhost', 27017)\n",
    "    print(\"Connected successfully!!!\")\n",
    "except:\n",
    "    print(\"Could not connect to MongoDB\")\n",
    "\n",
    "db = client['Health']\n",
    "\n",
    "coll = db['facilities']\n",
    "\n",
    "# year,institution_type,facility_type_a,public_private,no_of_facilities,no_beds\n",
    "\n",
    "for i in range(0,len(reader)):\n",
    "    coll.insert_one ({  '_id': i+1,\n",
    "                        'year': reader[i][0],\n",
    "                        'institution_type': reader[i][1],\n",
    "                        'facility_type_a': reader[i][2],\n",
    "                        'public_private': reader[i][3],\n",
    "                        'no_of_facilities': int(reader[i][4]),\n",
    "                        'no_beds': int(reader[i][5])\n",
    "                    })"
   ]
  },
  {
   "cell_type": "code",
   "execution_count": null,
   "metadata": {},
   "outputs": [],
   "source": [
    "# Task 3.2 (a)\n",
    "\n",
    "myquery = {'public_private':'Public','facility_type_a':'Acute','no_beds':{'$gt':7200}}\n",
    "\n",
    "queried_hospitals = coll.find(myquery)\n",
    "\n",
    "# Convert the cursor object into a list object for bubble sort in part (b)\n",
    "queried_hospitals = list(queried_hospitals)\n",
    "\n",
    "for hospital in queried_hospitals:\n",
    "    print(hospital)"
   ]
  },
  {
   "cell_type": "code",
   "execution_count": null,
   "metadata": {},
   "outputs": [],
   "source": [
    "# Task 3.2(b)\n",
    "\n",
    "import random\n",
    "\n",
    "# This bubble sort sorts in ascending order and in-place. Do own adjustments if uncomfortable\n",
    "def bubble_sort(arr):\n",
    "    for i in range(len(arr)-1):\n",
    "        for j in range(len(arr)-i-1):\n",
    "            if arr[j]['no_beds']/arr[j]['no_of_facilities'] > arr[j+1]['no_beds']/arr[j+1]['no_of_facilities']:\n",
    "                arr[j],arr[j+1] = arr[j+1],arr[j]\n",
    "    return arr\n",
    "\n",
    "# queried_hospitals are sorted in place\n",
    "bubble_sort(queried_hospitals)\n",
    "\n",
    "print(f\"The three years that have the highest average number of beds per facility are: {queried_hospitals[-1]['year']}, {queried_hospitals[-2]['year']} and {queried_hospitals[-3]['year']}.\")"
   ]
  },
  {
   "cell_type": "code",
   "execution_count": null,
   "metadata": {},
   "outputs": [],
   "source": [
    "# Task 3.3\n",
    "\n",
    "myquery = {'no_of_facilities':0,'public_private':'Not-for-Profit'}\n",
    "\n",
    "queried_hospitals = coll.find(myquery)\n",
    "\n",
    "# Convert the cursor object into a list object for bubble sort in part (b)\n",
    "queried_hospitals = list(queried_hospitals)\n",
    "\n",
    "for hospital in queried_hospitals:\n",
    "    print(hospital['_id'])"
   ]
  },
  {
   "cell_type": "code",
   "execution_count": null,
   "metadata": {},
   "outputs": [],
   "source": [
    "# Task 3.4\n",
    "\n",
    "import random\n",
    "\n",
    "myquery = {'public_private':'Public','facility_type_a':'Acute','no_beds':{'$gt':7200}}\n",
    "myupdate = {'$set':{'no_of_facilities':1,'no_beds':random.randint(10,20)}}\n",
    "\n",
    "queried_hospitals = list(coll.find(myquery))\n",
    "queried_ids = [hospital['_id'] for hospital in queried_hospitals ]\n",
    "\n",
    "for i in range(3):\n",
    "    coll.update_one({'_id':queried_ids[i]} , myupdate)\n",
    "\n",
    "for id in queried_ids:\n",
    "    x = coll.find({'_id':id})\n",
    "    for i in x:\n",
    "        print(i)"
   ]
  },
  {
   "cell_type": "code",
   "execution_count": null,
   "metadata": {},
   "outputs": [],
   "source": [
    "# Task 4.1\n",
<<<<<<< HEAD
    "# Refer to the sql file in the folder"
   ]
  },
  {
   "cell_type": "code",
   "execution_count": null,
   "metadata": {},
   "outputs": [],
   "source": [
    "# Task 4.2\n",
    "\n",
    "import sqlite3\n",
    "\n",
    "import csv\n",
    "\n",
    "file_names = ['customers.csv','cars.csv','rental_points.csv','rental_records.csv']\n",
    "\n",
    "connection = sqlite3.connect('car_rental.db')\n",
    "\n",
    "cursor = connection.cursor()\n",
    "\n",
    "for elem in file_names: \n",
    "    with open(elem) as f:\n",
    "        reader = list(csv.reader(f))\n",
    "        attr_names = reader[0]\n",
    "        reader = reader[1:]\n",
    "\n",
    "    attr_string = ','.join(attr_names)\n",
    "    placeholder = ','.join('?'*len(attr_names))\n",
    "\n",
    "    table_names =   {\n",
    "                        'customers.csv': 'Customer',\n",
    "                        'cars.csv': 'Car',\n",
    "                        'rental_points.csv': 'RentalPoint',\n",
    "                        'rental_records.csv' : 'RentalRecord'\n",
    "\n",
    "                    }\n",
    "\n",
    "    myquery = f\"INSERT INTO {table_names[elem]}({attr_string}) VALUES ({placeholder})\"\n",
    "    \n",
    "    for row in reader:\n",
    "        myvals = tuple(row)\n",
    "        cursor.execute(myquery,myvals)\n",
    "\n",
    "    connection.commit()\n",
    "\n",
    "connection.close()"
   ]
  },
  {
   "cell_type": "code",
   "execution_count": null,
   "metadata": {},
   "outputs": [],
   "source": [
    "# Task 4.3\n",
    "# Refer to the sql file in the folder"
   ]
  },
  {
   "cell_type": "code",
   "execution_count": 22,
   "metadata": {},
   "outputs": [
    {
     "name": "stdout",
     "output_type": "stream",
     "text": [
      "[1, 4, 8, 7, 4, 4, 9, 1, 7, 2, 7, 0, 4, 2, 7, 8, 7]\n"
     ]
    },
    {
     "data": {
      "text/plain": [
       "False"
      ]
     },
     "execution_count": 22,
     "metadata": {},
     "output_type": "execute_result"
    }
   ],
   "source": [
    "# Task 4.4\n",
    "\n",
    "def valid_vin(vin):\n",
    "    conversion_alpha   =  'ABCDEFGHJKLMNPRSTUVWXYZ'\n",
    "    conversion_numeric =  '12345678123457923456789'\n",
    "\n",
    "    weight = [8,7,6,5,4,3,2,10,0,9,8,7,6,5,4,3,2]\n",
    "\n",
    "    converted_vin = []\n",
    "\n",
    "    for i in vin:\n",
    "        if i.isalpha():\n",
    "            converted_vin.append(int(conversion_numeric[conversion_alpha.index(i)]))\n",
    "        else:\n",
    "            converted_vin.append(int(i) )\n",
    "\n",
    "    print(converted_vin)\n",
    "\n",
    "    def dot(list_A,list_B):\n",
    "        return sum([list_A[i]*list_B[i] for i in range(len(list_A))])\n",
    "\n",
    "    check_digit = 'X' if dot(weight,converted_vin) % 11 ==10 else dot(weight,converted_vin) % 11\n",
    "\n",
    "    if vin[8] == check_digit:\n",
    "        return True\n",
    "    return False\n",
    "    \n",
    "valid_vin('1M8GDM9AXKP042787')"
   ]
  },
  {
   "cell_type": "code",
   "execution_count": 23,
   "metadata": {},
   "outputs": [],
   "source": [
    "connection.close()"
   ]
  },
  {
   "cell_type": "code",
   "execution_count": null,
   "metadata": {},
   "outputs": [],
   "source": []
=======
    "\n",
    "CREATE TABLE \"Customer\" (\n",
    "\t\"CustomerID\"\tINTEGER,\n",
    "\t\"Name\"\tTEXT,\n",
    "\t\"Gender\"\tTEXT,\n",
    "\t\"Contact\"\tTEXT,\n",
    "\tPRIMARY KEY(\"CustomerID\" AUTOINCREMENT)\n",
    ");\n",
    "\n",
    "CREATE TABLE \"Car\" (\n",
    "\t\"VIN\"\tTEXT,\n",
    "\t\"Brand\"\tTEXT,\n",
    "\t\"Vehicle Type\"\tTEXT,\n",
    "\t\"Energy Source\"\tTEXT,\n",
    "\t\"DailyPrice\"\tREAL,\n",
    "\t\"Availability\"\tTEXT,\n",
    "\tPRIMARY KEY(\"VIN\")\n",
    ");\n",
    "\n",
    "CREATE TABLE \"RentalPoint\" (\n",
    "\t\"PointID\"\tINTEGER,\n",
    "\t\"Address\"\tTEXT,\n",
    "\t\"OpWeekDay\"\tTEXT,\n",
    "\t\"OpStartHr\"\tTEXT,\n",
    "\t\"OpEndHr\"\tTEXT,\n",
    "\tPRIMARY KEY(\"PointID\" AUTOINCREMENT)\n",
    ");"
   ]
>>>>>>> 93b4a4e0e80dd1194703dfff11eb238027ec0144
  }
 ],
 "metadata": {
  "interpreter": {
   "hash": "4fce611334bc080f5106af4957378decbb3fa5ba52c9bc2fa39ba9ae396411fc"
  },
  "kernelspec": {
   "display_name": "Python 3.9.2 64-bit",
   "language": "python",
   "name": "python3"
  },
  "language_info": {
   "codemirror_mode": {
    "name": "ipython",
    "version": 3
   },
   "file_extension": ".py",
   "mimetype": "text/x-python",
   "name": "python",
   "nbconvert_exporter": "python",
   "pygments_lexer": "ipython3",
   "version": "3.7.6"
  },
  "orig_nbformat": 4
 },
 "nbformat": 4,
 "nbformat_minor": 2
}
