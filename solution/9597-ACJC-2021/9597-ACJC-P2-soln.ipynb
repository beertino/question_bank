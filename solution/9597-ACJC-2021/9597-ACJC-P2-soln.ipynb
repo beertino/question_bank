{
 "cells": [
  {
   "cell_type": "code",
   "execution_count": 101,
   "metadata": {},
   "outputs": [
    {
     "name": "stdout",
     "output_type": "stream",
     "text": [
      "The string is a valid identification number.\n"
     ]
    },
    {
     "data": {
      "text/plain": [
       "True"
      ]
     },
     "execution_count": 101,
     "metadata": {},
     "output_type": "execute_result"
    }
   ],
   "source": [
    "# Task 1.1\n",
    "\n",
    "# Define the dot product\n",
    "def dot(list_A,list_B):\n",
    "    return sum([list_A[i]*list_B[i] for i in range(len(list_A))])\n",
    "\n",
    "weight = [3,1]*6\n",
    "\n",
    "def valid_id(string):\n",
    "    if len(string) != 12:\n",
    "        print('The string is not a valid identification number.')\n",
    "        return False\n",
    "    else:\n",
    "        string = [int(i) for i in string]\n",
    "        if dot(weight,string)%10 == 0:\n",
    "            print('The string is a valid identification number.')\n",
    "            return True\n",
    "        else:\n",
    "            print('The string is not a valid identification number.')\n",
    "            return False\n",
    "\n",
    "valid_id('036000291452')"
   ]
  },
  {
   "cell_type": "code",
   "execution_count": 97,
   "metadata": {},
   "outputs": [
    {
     "data": {
      "text/plain": [
       "'00000000010100011010111101010111100011010001101000110101010110110011101001100110101110010011101101100101000000000'"
      ]
     },
     "execution_count": 97,
     "metadata": {},
     "output_type": "execute_result"
    }
   ],
   "source": [
    "# Task 1.2\n",
    "\n",
    "def id_to_barcode(string):\n",
    "    quiet = '0'*9\n",
    "    start = '101'\n",
    "    mid = '01010'\n",
    "    end = '101'\n",
    "\n",
    "    encode_table =  {\n",
    "                        '0': ['0001101','1110010'],\n",
    "                        '1': ['0011001','1100110'],\n",
    "                        '2': ['0010011','1101100'],\n",
    "                        '3': ['0111101','1000010'],\n",
    "                        '4': ['0100011','1011100'],\n",
    "                        '5': ['0110001','1001110'],\n",
    "                        '6': ['0101111','1010000'],\n",
    "                        '7': ['0111011','1000100'],\n",
    "                        '8': ['0110111','1001000'],\n",
    "                        '9': ['0001011','1110100']\n",
    "                    }\n",
    "\n",
    "    first_half = [encode_table[string[i]][0] for i in range(6)]\n",
    "    first_half = ''.join(first_half)\n",
    "    second_half = [encode_table[string[6+i]][1] for i in range(6)]\n",
    "    second_half = ''.join(second_half)\n",
    "\n",
    "    return ''.join([quiet,start,first_half,mid,second_half,end,quiet])\n",
    "\n",
    "id_to_barcode('036000291452')"
   ]
  },
  {
   "cell_type": "code",
   "execution_count": 105,
   "metadata": {},
   "outputs": [
    {
     "name": "stdout",
     "output_type": "stream",
     "text": [
      "00000000010100110110111001001110101100110010111001101101010101100010110001011000111101010111101011000101000000000\n",
      "036000291452\n"
     ]
    }
   ],
   "source": [
    "def valid_start_mid_end(barcode_string):\n",
    "    quiet = '0'*9\n",
    "    start = '101'\n",
    "    mid = '01010'\n",
    "    end = '101'\n",
    "    if (barcode_string[:12] == quiet + start) and (barcode_string[54:59] == '01010') and (barcode_string[101:] == end + quiet):\n",
    "        return True\n",
    "    return False\n",
    "\n",
    "def barcode_to_id(barcode_string):\n",
    "    if valid_start_mid_end(barcode_string):\n",
    "        first_half = barcode_string[12:54]\n",
    "        second_half = barcode_string[59:101]\n",
    "        decode_first_half = {\n",
    "                            '0001101': '0',\n",
    "                            '0011001': '1',\n",
    "                            '0010011': '2',\n",
    "                            '0111101': '3',\n",
    "                            '0100011': '4',\n",
    "                            '0110001': '5',\n",
    "                            '0101111': '6',\n",
    "                            '0111011': '7',\n",
    "                            '0110111': '8',\n",
    "                            '0001011': '9'\n",
    "                            }\n",
    "        decode_second_half = {\n",
    "                            '1110010':'0',\n",
    "                            '1100110':'1',\n",
    "                            '1101100':'2',\n",
    "                            '1000010':'3',\n",
    "                            '1011100':'4',\n",
    "                            '1001110':'5',\n",
    "                            '1010000':'6',\n",
    "                            '1000100':'7',\n",
    "                            '1001000':'8',\n",
    "                            '1110100':'9'\n",
    "                            }\n",
    "\n",
    "        # no of 1s in first part must be odd and later on must be even\n",
    "        first_odd = all([first_half[7*i:7*i+7].count('1') % 2 ==1 for i in range(6)])\n",
    "        second_even = all([second_half[7*i:7*i+7].count('1') % 2 == 0 for i in range(6)])\n",
    "\n",
    "        # Valid barcode and not upside down. \n",
    "        if first_odd and second_even:\n",
    "            decoded_first = [decode_first_half[first_half[7*i:7*i+7]] for i in range(6)]\n",
    "            decoded_second = [decode_second_half[second_half[7*i:7*i+7]] for i in range(6)]\n",
    "            return ''.join(decoded_first) + ''.join(decoded_second)\n",
    "        else:\n",
    "            # if barcode is upside down and valid:\n",
    "            if not first_odd  and not second_even:            \n",
    "                second_half_reversed = ''.join(reversed(first_half))\n",
    "                first_half_reversed  = ''.join(reversed(second_half))\n",
    "                decoded_first = [decode_first_half[first_half_reversed[7*i:7*i+7]] for i in range(6)]\n",
    "                decoded_second = [decode_second_half[second_half_reversed[7*i:7*i+7]] for i in range(6)]\n",
    "                return ''.join(decoded_first) + ''.join(decoded_second)\n",
    "    print('Barcode is invalid')\n",
    "    return False\n",
    "\n",
    "# barcode_to_id('00000000010100011010111101010111100011010001101000110101010110110011101001100110101110010011101101100101000000000')\n",
    "terbalik = ''.join(reversed('00000000010100011010111101010111100011010001101000110101010110110011101001100110101110010011101101100101000000000'))\n",
    "print(terbalik)\n",
    "print(barcode_to_id(terbalik))"
   ]
  },
  {
   "cell_type": "code",
   "execution_count": null,
   "metadata": {},
   "outputs": [],
   "source": [
    "# Task 2"
   ]
  },
  {
   "cell_type": "code",
   "execution_count": 45,
   "metadata": {},
   "outputs": [
    {
     "name": "stdout",
     "output_type": "stream",
     "text": [
      "20210126\n",
      "20210305\n",
      "20211010\n"
     ]
    }
   ],
   "source": [
    "# Task 3\n",
    "\n",
    "# We will use datetime to make our lives easier, but note that there are some formatting \n",
    "# required to use datetime objects.\n",
    "# timedelta objects can be used to represent the 21 days difference \n",
    "\n",
    "from datetime import datetime, timedelta \n",
    "\n",
    "date_time_str = '2021-01-05'\n",
    "\n",
    "def second_dose_date(date):\n",
    "    date_time_str = f'{date[:4]}-{date[4:6]}-{date[6:]}'\n",
    "    date_first_vaccine = datetime.strptime(date_time_str,'%Y-%m-%d')\n",
    "    days_to_vaccine = timedelta(days=21)\n",
    "    date_second_vaccine = date_first_vaccine + days_to_vaccine\n",
    "    # Note that we're using zfill() string method to pad zeroes to match the format required\n",
    "    # another way is to modify the month and day string individually using conditionals\n",
    "    return f'{str(date_second_vaccine.year)}{str(date_second_vaccine.month).zfill(2)}{str(date_second_vaccine.day).zfill(2)}'\n",
    "\n",
    "print(second_dose_date('20210105'))\n",
    "print(second_dose_date('20210212'))\n",
    "print(second_dose_date('20210919'))"
   ]
  },
  {
   "cell_type": "code",
   "execution_count": 46,
   "metadata": {},
   "outputs": [
    {
     "name": "stdout",
     "output_type": "stream",
     "text": [
      "Connected successfully!!!\n",
      "Collection is not empty. Dropping collection first.\n"
     ]
    },
    {
     "data": {
      "text/plain": [
       "<pymongo.results.InsertManyResult at 0x1bd86826b80>"
      ]
     },
     "execution_count": 46,
     "metadata": {},
     "output_type": "execute_result"
    }
   ],
   "source": [
    "# Task 3.2\n",
    "\n",
    "from pymongo import MongoClient\n",
    "\n",
    "try:\n",
    "    client = MongoClient('localhost', 27017)\n",
    "    print(\"Connected successfully!!!\")\n",
    "except:\n",
    "    print(\"Could not connect to MongoDB\")\n",
    "\n",
    "db = client['community_centre']\n",
    "\n",
    "coll = db['management_committee']\n",
    "\n",
    "# dropping a collection with pymongo\n",
    "if list(coll.find({})) != []:\n",
    "    print('Collection is not empty. Dropping collection first.')\n",
    "    coll.drop()\n",
    "\n",
    "with open('VACCINATION.TXT') as f:\n",
    "    reader = f.readlines()\n",
    "    reader = [ i.strip().split(',') for i in reader]\n",
    "\n",
    "# the idea is to use insert_many() method of pymongo Collection object\n",
    "# so first we need to convert the imported list into json-like objects\n",
    "\n",
    "def list_to_dict(arr):\n",
    "    member = {}\n",
    "\n",
    "    # Assume the first two attributes always exist\n",
    "    member['_id'] = arr[0]\n",
    "    member['name'] = arr[1]\n",
    "    \n",
    "    # handling the dates and remarks field\n",
    "    i = 2\n",
    "    \n",
    "    while i < len(arr):\n",
    "        # if the entry in the row is an alphabet, it's straight away must be a remark\n",
    "        if arr[i].isalpha():\n",
    "            member['remarks'] = arr[i]\n",
    "        else:\n",
    "            # check if we have inserted a date as an attribute in the dictionary object\n",
    "            if 'date_first_dose' in member.keys():\n",
    "                member['date_second_dose'] = arr[i]\n",
    "            else:\n",
    "                member['date_first_dose'] = arr[i]\n",
    "        i += 1\n",
    "    return member\n",
    "\n",
    "list_json = [ list_to_dict(member) for member in reader]\n",
    "\n",
    "coll.insert_many(list_json)"
   ]
  },
  {
   "cell_type": "code",
   "execution_count": 47,
   "metadata": {},
   "outputs": [
    {
     "name": "stdout",
     "output_type": "stream",
     "text": [
      "dict_keys(['_id', 'name', 'date_first_dose'])\n",
      "Member only has first dose. The earliest date to take second dose is 20210421\n"
     ]
    }
   ],
   "source": [
    "# Task 3.3\n",
    "\n",
    "member_id = input('Please input member ID (integer) :')\n",
    "\n",
    "while not member_id.isdigit():\n",
    "        if member_id == 'stop':\n",
    "                break\n",
    "        member_id = input('Please input a valid member ID (integer) :')\n",
    "\n",
    "myquery = {'_id': member_id}\n",
    "\n",
    "member_list = list(coll.find(myquery))\n",
    "\n",
    "# This function is an afterthought as I want to make the code more modular\n",
    "def certificate_string(name,date_first_dose,date_second_dose):\n",
    "        string = [      'VACCINATION CERTIFATE\\n',\n",
    "                        '\\n',\n",
    "                        f'Name : {name}\\n',\n",
    "                        'Vaccine type: CoviDie\\n', \n",
    "                        f'Date of first dose: {date_first_dose}\\n', \n",
    "                        f'Date of second dose: {date_second_dose}'\n",
    "                ]\n",
    "        return string\n",
    "\n",
    "if member_list == []:\n",
    "        print('Member ID is not found in the database.')\n",
    "else:\n",
    "        member = member_list[0]\n",
    "        fields = member.keys()\n",
    "        if not ('date_first_dose' in fields):\n",
    "                print('Member is unvaccinated. Please take the first dose as soon as possible.')\n",
    "        elif 'date_second_dose' in fields:\n",
    "                with open('certificate.txt','w') as f:\n",
    "                        name = member['name']\n",
    "                        date_first_dose = member['date_first_dose']\n",
    "                        date_second_dose = member['date_second_dose']\n",
    "                        f.writelines(certificate_string(name,date_first_dose,date_second_dose))\n",
    "        else:   \n",
    "                date_first_dose = member['date_first_dose']\n",
    "                print(f'Member only has first dose. The earliest date to take second dose is {second_dose_date(date_first_dose)}')\n",
    "\n"
   ]
  },
  {
   "cell_type": "code",
   "execution_count": 44,
   "metadata": {},
   "outputs": [
    {
     "data": {
      "text/plain": [
       "False"
      ]
     },
     "execution_count": 44,
     "metadata": {},
     "output_type": "execute_result"
    }
   ],
   "source": [
    "# Task 4.1 \n",
    "\n",
    "# See folder for the sql file"
   ]
  },
  {
   "cell_type": "code",
   "execution_count": 2,
   "metadata": {},
   "outputs": [],
   "source": [
    "# Task 4.2\n",
    "\n",
    "import sqlite3\n",
    "\n",
    "import csv\n",
    "\n",
    "connection = sqlite3.connect('bento_company.db')\n",
    "\n",
    "cursor = connection.cursor()\n",
    "\n",
    "with open('Task4.sql') as f:\n",
    "    script = f.read()\n",
    "\n",
    "cursor.executescript(script)\n",
    "\n",
    "# Insertion in Kiosk table\n",
    "with open('KIOSK.txt') as f:\n",
    "    reader = csv.reader(f)\n",
    "    reader = list(reader)\n",
    "\n",
    "myinsert = 'INSERT INTO Kiosk(KioskID,Location,Rating) VALUES (?,?,?)'\n",
    "\n",
    "for row in reader:\n",
    "    myvals = (row[0],row[1],row[2])\n",
    "    cursor.execute(myinsert,myvals)\n",
    "\n",
    "\n",
    "# Insertion in BENTOBOX table\n",
    "with open('BENTOBOX.txt') as f:\n",
    "    reader = csv.reader(f)\n",
    "    reader = list(reader)\n",
    "\n",
    "myinsert = 'INSERT INTO BentoBox(BentoName,ProductionCost,ContainEgg,ContainNut,ContainSeafood) VALUES (?,?,?,?,?)'\n",
    "\n",
    "for row in reader:\n",
    "    myvals = (row[0],row[1],row[2],row[3],row[4])\n",
    "    cursor.execute(myinsert,myvals)\n",
    "\n",
    "# INsertion into KioskBento Table\n",
    "#Note that we can use LEFT OUTER JOIN to get the cartesian product first\n",
    "#Alternatively, you can do two iterations to insert as well\n",
    "myquery = 'SELECT * FROM Kiosk LEFT OUTER JOIN BentoBox ON kiosk.KioskID'\n",
    "\n",
    "queried_list = list(cursor.execute(myquery))\n",
    "\n",
    "myinsert = 'INSERT INTO KioskBento(KioskID,BentoName,SellPrice) VALUES (?,?,?)'\n",
    "\n",
    "price_delta = [2.6,2.9,2.4,3.1]\n",
    "\n",
    "for row in queried_list:\n",
    "    #Note that KioskID starts from index 1. As such, index used to access elements\n",
    "    #in price_delta has to be adjusted\n",
    "    myvals = (row[0],row[3],float(row[4])+price_delta[int(row[0])-1])\n",
    "    cursor.execute(myinsert,myvals)\n",
    "\n",
    "connection.commit()"
   ]
  },
  {
   "cell_type": "code",
   "execution_count": 12,
   "metadata": {},
   "outputs": [
    {
     "name": "stdout",
     "output_type": "stream",
     "text": [
      " * Serving Flask app \"__main__\" (lazy loading)\n",
      " * Environment: production\n",
      "   WARNING: This is a development server. Do not use it in a production deployment.\n",
      "   Use a production WSGI server instead.\n",
      " * Debug mode: off\n"
     ]
    },
    {
     "name": "stderr",
     "output_type": "stream",
     "text": [
      " * Running on http://127.0.0.1:5000/ (Press CTRL+C to quit)\n",
      "127.0.0.1 - - [07/Jan/2022 10:17:48] \"\u001b[37mGET /bento?location=Woodlands&egg=ContainEgg&nut=ContainNut&seafood=ContainSeafood HTTP/1.1\u001b[0m\" 200 -\n"
     ]
    },
    {
     "name": "stdout",
     "output_type": "stream",
     "text": [
      "Woodlands\n",
      "Woodlands BentoB\n",
      "SELECT BentoName, SellPrice FROM Kiosk INNER JOIN KioskBento on Kiosk.KioskID = KioskBento.KioskID WHERE Location = 'Woodlands' AND BentoName = 'BentoB'\n"
     ]
    },
    {
     "name": "stderr",
     "output_type": "stream",
     "text": [
      "127.0.0.1 - - [07/Jan/2022 10:17:52] \"\u001b[37mGET /bento?location=Woodlands&egg=ContainEgg&seafood=ContainSeafood HTTP/1.1\u001b[0m\" 200 -\n"
     ]
    }
   ],
   "source": [
    "# Task 4.3\n",
    "\n",
    "from flask import Flask, render_template, request\n",
    "\n",
    "import sqlite3\n",
    "\n",
    "app = Flask(__name__)\n",
    "\n",
    "@app.route('/')\n",
    "def index():\n",
    "    return render_template('index.html')\n",
    "\n",
    "@app.route('/bento',methods=['GET'])\n",
    "def form():\n",
    "    #Note that we're using request.values() here instead of request.form.get()\n",
    "    #Alternatively, we can use request.args.get() for GET (query string) value\n",
    "    location = request.values.get('location')\n",
    "    egg = 0 if request.values.get('egg') == None else 1\n",
    "    nut = 0 if request.values.get('nut') == None else 1\n",
    "    seafood = 0 if request.values.get('seafood') == None else 1\n",
    "    connection = sqlite3.connect('bento_company.db')\n",
    "    cursor = connection.cursor()\n",
    "   \n",
    "    def condition_allergy(egg, nut, seafood):\n",
    "        allergic_to = []\n",
    "        allergents = [egg,nut,seafood]\n",
    "        allergents_string = ['ContainEgg','ContainNut','ContainSeafood']\n",
    "        for i in range(len(allergents)):\n",
    "            if allergents[i] != 0:\n",
    "                allergic_to.append(allergents_string[i])\n",
    "        if allergic_to == []:\n",
    "            return ''\n",
    "        else:\n",
    "            allergic_string = [f'{i} = 0' for i in allergic_to]\n",
    "            return ' WHERE ' + ' AND '.join(allergic_string)\n",
    "\n",
    "    # The approach I'm going for is through modifying query conditions in the sql statement and done in 2 stages\n",
    "    # 1st. Get all the bentos that fit the requirement\n",
    "    myquery = f'SELECT BentoName FROM BentoBox{condition_allergy(egg,nut,seafood)}'\n",
    "    \n",
    "    bento_names = []\n",
    "    bento_names =  list(cursor.execute(myquery))\n",
    "    bento_names = [bento[0] for bento in bento_names]\n",
    "    \n",
    "    # Next, we will get the allowed bentos in the location specified\n",
    "    products = []\n",
    "\n",
    "    for bento in bento_names:\n",
    "        \n",
    "        #We will use Inner Join so that we can get Bentoname and SellPrice from same table\n",
    "        my_second_query = f\"SELECT BentoName, SellPrice FROM Kiosk INNER JOIN KioskBento on Kiosk.KioskID = KioskBento.KioskID WHERE Location = '{location}' AND BentoName = '{bento}'\" \n",
    "        bento = list(cursor.execute(my_second_query))\n",
    "\n",
    "        #We access the 0th element because bento is a list of single tuple\n",
    "        products.append(bento[0])\n",
    "\n",
    "    return render_template('filtered.html',products=products,location = location)\n",
    "\n",
    "app.run()"
   ]
  },
  {
   "cell_type": "code",
   "execution_count": 2,
   "metadata": {},
   "outputs": [
    {
     "data": {
      "text/plain": [
       "' WHERE ContainEgg = 0 AND ContainSeafood = 0'"
      ]
     },
     "execution_count": 2,
     "metadata": {},
     "output_type": "execute_result"
    }
   ],
   "source": [
    "def condition_allergy(egg, nut, seafood):\n",
    "    allergic_to = []\n",
    "    allergents = [egg,nut,seafood]\n",
    "    allergents_string = ['ContainEgg','ContainNut','ContainSeafood']\n",
    "    for i in range(len(allergents)):\n",
    "        if allergents[i] != 0:\n",
    "            allergic_to.append(allergents_string[i])\n",
    "    if allergic_to == []:\n",
    "        return ''\n",
    "    else:\n",
    "        allergic_string = [f'{i} = 0' for i in allergic_to]\n",
    "        return ' WHERE ' + ' AND '.join(allergic_string)\n",
    "\n",
    "myvals = (1,1,1)\n",
    "condition_allergy(1,0,1)"
   ]
  },
  {
   "cell_type": "code",
   "execution_count": 15,
   "metadata": {},
   "outputs": [
    {
     "data": {
      "text/plain": [
       "'x'"
      ]
     },
     "execution_count": 15,
     "metadata": {},
     "output_type": "execute_result"
    }
   ],
   "source": [
    "' AND '.join(['x'])"
   ]
  },
  {
   "cell_type": "code",
   "execution_count": null,
   "metadata": {},
   "outputs": [],
   "source": []
  }
 ],
 "metadata": {
  "interpreter": {
   "hash": "4fce611334bc080f5106af4957378decbb3fa5ba52c9bc2fa39ba9ae396411fc"
  },
  "kernelspec": {
   "display_name": "Python 3.9.2 64-bit",
   "language": "python",
   "name": "python3"
  },
  "language_info": {
   "codemirror_mode": {
    "name": "ipython",
    "version": 3
   },
   "file_extension": ".py",
   "mimetype": "text/x-python",
   "name": "python",
   "nbconvert_exporter": "python",
   "pygments_lexer": "ipython3",
   "version": "3.9.1"
  },
  "orig_nbformat": 4
 },
 "nbformat": 4,
 "nbformat_minor": 2
}
