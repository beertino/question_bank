{
 "cells": [
  {
   "cell_type": "code",
   "execution_count": 101,
   "metadata": {},
   "outputs": [
    {
     "name": "stdout",
     "output_type": "stream",
     "text": [
      "The string is a valid identification number.\n"
     ]
    },
    {
     "data": {
      "text/plain": [
       "True"
      ]
     },
     "execution_count": 101,
     "metadata": {},
     "output_type": "execute_result"
    }
   ],
   "source": [
    "# Task 1.1\n",
    "\n",
    "# Define the dot product\n",
    "def dot(list_A,list_B):\n",
    "    return sum([list_A[i]*list_B[i] for i in range(len(list_A))])\n",
    "\n",
    "weight = [3,1]*6\n",
    "\n",
    "def valid_id(string):\n",
    "    if len(string) != 12:\n",
    "        print('The string is not a valid identification number.')\n",
    "        return False\n",
    "    else:\n",
    "        string = [int(i) for i in string]\n",
    "        if dot(weight,string)%10 == 0:\n",
    "            print('The string is a valid identification number.')\n",
    "            return True\n",
    "        else:\n",
    "            print('The string is not a valid identification number.')\n",
    "            return False\n",
    "\n",
    "valid_id('036000291452')"
   ]
  },
  {
   "cell_type": "code",
   "execution_count": 97,
   "metadata": {},
   "outputs": [
    {
     "data": {
      "text/plain": [
       "'00000000010100011010111101010111100011010001101000110101010110110011101001100110101110010011101101100101000000000'"
      ]
     },
     "execution_count": 97,
     "metadata": {},
     "output_type": "execute_result"
    }
   ],
   "source": [
    "# Task 1.2\n",
    "\n",
    "def id_to_barcode(string):\n",
    "    quiet = '0'*9\n",
    "    start = '101'\n",
    "    mid = '01010'\n",
    "    end = '101'\n",
    "\n",
    "    encode_table =  {\n",
    "                        '0': ['0001101','1110010'],\n",
    "                        '1': ['0011001','1100110'],\n",
    "                        '2': ['0010011','1101100'],\n",
    "                        '3': ['0111101','1000010'],\n",
    "                        '4': ['0100011','1011100'],\n",
    "                        '5': ['0110001','1001110'],\n",
    "                        '6': ['0101111','1010000'],\n",
    "                        '7': ['0111011','1000100'],\n",
    "                        '8': ['0110111','1001000'],\n",
    "                        '9': ['0001011','1110100']\n",
    "                    }\n",
    "\n",
    "    first_half = [encode_table[string[i]][0] for i in range(6)]\n",
    "    first_half = ''.join(first_half)\n",
    "    second_half = [encode_table[string[6+i]][1] for i in range(6)]\n",
    "    second_half = ''.join(second_half)\n",
    "\n",
    "    return ''.join([quiet,start,first_half,mid,second_half,end,quiet])\n",
    "\n",
    "id_to_barcode('036000291452')"
   ]
  },
  {
   "cell_type": "code",
   "execution_count": 105,
   "metadata": {},
   "outputs": [
    {
     "name": "stdout",
     "output_type": "stream",
     "text": [
      "00000000010100110110111001001110101100110010111001101101010101100010110001011000111101010111101011000101000000000\n",
      "036000291452\n"
     ]
    }
   ],
   "source": [
    "# Task 1.3\n",
    "def valid_start_mid_end(barcode_string):\n",
    "    quiet = '0'*9\n",
    "    start = '101'\n",
    "    mid = '01010'\n",
    "    end = '101'\n",
    "    if (barcode_string[:12] == quiet + start) and (barcode_string[54:59] == '01010') and (barcode_string[101:] == end + quiet):\n",
    "        return True\n",
    "    return False\n",
    "\n",
    "def barcode_to_id(barcode_string):\n",
    "    if valid_start_mid_end(barcode_string):\n",
    "        first_half = barcode_string[12:54]\n",
    "        second_half = barcode_string[59:101]\n",
    "        decode_first_half = {\n",
    "                            '0001101': '0',\n",
    "                            '0011001': '1',\n",
    "                            '0010011': '2',\n",
    "                            '0111101': '3',\n",
    "                            '0100011': '4',\n",
    "                            '0110001': '5',\n",
    "                            '0101111': '6',\n",
    "                            '0111011': '7',\n",
    "                            '0110111': '8',\n",
    "                            '0001011': '9'\n",
    "                            }\n",
    "        decode_second_half = {\n",
    "                            '1110010':'0',\n",
    "                            '1100110':'1',\n",
    "                            '1101100':'2',\n",
    "                            '1000010':'3',\n",
    "                            '1011100':'4',\n",
    "                            '1001110':'5',\n",
    "                            '1010000':'6',\n",
    "                            '1000100':'7',\n",
    "                            '1001000':'8',\n",
    "                            '1110100':'9'\n",
    "                            }\n",
    "\n",
    "        # no of 1s in first part must be odd and later on must be even\n",
    "        first_odd = all([first_half[7*i:7*i+7].count('1') % 2 ==1 for i in range(6)])\n",
    "        second_even = all([second_half[7*i:7*i+7].count('1') % 2 == 0 for i in range(6)])\n",
    "\n",
    "        # Valid barcode and not upside down. \n",
    "        if first_odd and second_even:\n",
    "            decoded_first = [decode_first_half[first_half[7*i:7*i+7]] for i in range(6)]\n",
    "            decoded_second = [decode_second_half[second_half[7*i:7*i+7]] for i in range(6)]\n",
    "            return ''.join(decoded_first) + ''.join(decoded_second)\n",
    "        else:\n",
    "            # if barcode is upside down and valid:\n",
    "            if not first_odd  and not second_even:            \n",
    "                second_half_reversed = ''.join(reversed(first_half))\n",
    "                first_half_reversed  = ''.join(reversed(second_half))\n",
    "                decoded_first = [decode_first_half[first_half_reversed[7*i:7*i+7]] for i in range(6)]\n",
    "                decoded_second = [decode_second_half[second_half_reversed[7*i:7*i+7]] for i in range(6)]\n",
    "                return ''.join(decoded_first) + ''.join(decoded_second)\n",
    "    print('Barcode is invalid')\n",
    "    return False\n",
    "\n",
    "# barcode_to_id('00000000010100011010111101010111100011010001101000110101010110110011101001100110101110010011101101100101000000000')\n",
    "terbalik = ''.join(reversed('00000000010100011010111101010111100011010001101000110101010110110011101001100110101110010011101101100101000000000'))\n",
    "print(terbalik)\n",
    "print(barcode_to_id(terbalik))"
   ]
  },
  {
   "cell_type": "code",
   "execution_count": 3,
   "metadata": {},
   "outputs": [],
   "source": [
    "# Task 2.1\n",
    "class Node:\n",
    "    def __init__(self,data= None,left=None,right=None):\n",
    "        #data is a tuple of (<character>,<frequency>)\n",
    "        self.data = data\n",
    "        self.left = left\n",
    "        self.right = right\n",
    "\n",
    "    def get_data(self):\n",
    "        if self.data:\n",
    "            return self.data\n",
    "\n",
    "    def set_data(self,data):\n",
    "        self.data = data\n",
    "\n",
    "    def set_left(self,left):\n",
    "        self.left = left\n",
    "    \n",
    "    def set_right(self,right):\n",
    "        self.right = right\n",
    "    \n",
    "    def get_left(self):\n",
    "        return self.left\n",
    "    \n",
    "    def get_right(self):\n",
    "        return self.right\n",
    "\n",
    "    def display(self):\n",
    "        print(f'({self.get_data()},{self.get_left().get_data() if self.get_left() != None else None},{self.get_right().get_data() if self.get_right() != None else None})')\n",
    "\n",
    "class Tree:\n",
    "    def __init__(self,root=None):\n",
    "        self.root = root\n",
    "    \n",
    "    def addNodes(self,node1=None,node2=None):\n",
    "        node1_freq = node1.get_data()[1]\n",
    "        node1_char = node1.get_data()[0]\n",
    "        node2_freq = node2.get_data()[1]\n",
    "        node2_char = node2.get_data()[0]\n",
    "        if node1_freq <= node2_freq:\n",
    "            new_node = Node()\n",
    "            new_node.set_data((f'{node1_char}{node2_char}',node1_freq+node2_freq))\n",
    "            new_node.set_left(node1)\n",
    "            new_node.set_right(node2)\n",
    "        else:\n",
    "            new_node = Node()\n",
    "            new_node.set_data((f'{node2_char}{node1_char}',node1_freq+node2_freq))\n",
    "            new_node.set_left(node2)\n",
    "            new_node.set_right(node1)\n",
    "        self.root = new_node\n",
    "        return new_node\n",
    "\n",
    "    def get_root(self):\n",
    "        return self.root\n"
   ]
  },
  {
   "cell_type": "code",
   "execution_count": 6,
   "metadata": {},
   "outputs": [
    {
     "name": "stdout",
     "output_type": "stream",
     "text": [
      "('æ', 1)\n",
      "('à', 1)\n",
      "('&', 6)\n",
      "('J', 9)\n",
      "('‘', 40)\n",
      "('V', 44)\n",
      "('Z', 50)\n",
      "('z', 75)\n",
      "(':', 95)\n",
      "('j', 102)\n",
      "('q', 106)\n",
      "('-', 110)\n",
      "('Q', 113)\n",
      "('Y', 141)\n",
      "('—', 144)\n",
      "('x', 174)\n",
      "(']', 177)\n",
      "('[', 177)\n",
      "('K', 184)\n",
      "('!', 200)\n",
      "('D', 227)\n",
      "('F', 246)\n",
      "('B', 270)\n",
      "('U', 275)\n",
      "('P', 302)\n",
      "('G', 354)\n",
      "('C', 378)\n",
      "('_', 384)\n",
      "(';', 387)\n",
      "('?', 448)\n",
      "('W', 529)\n",
      "('R', 615)\n",
      "('M', 617)\n",
      "('S', 672)\n",
      "('N', 766)\n",
      "('L', 944)\n",
      "('O', 951)\n",
      "('H', 966)\n",
      "('’', 1067)\n",
      "('k', 1087)\n",
      "('E', 1168)\n",
      "('v', 1188)\n",
      "('I', 1391)\n",
      "('A', 1463)\n",
      "('T', 1484)\n",
      "('b', 1553)\n",
      "('p', 1713)\n",
      "('g', 2073)\n",
      "('c', 2420)\n",
      "('f', 2490)\n",
      "('w', 2599)\n",
      "('y', 3069)\n",
      "(',', 3217)\n",
      "('.', 3265)\n",
      "('m', 3663)\n",
      "('u', 4186)\n",
      "('\\n', 4689)\n",
      "('d', 4908)\n",
      "('l', 5427)\n",
      "('r', 7325)\n",
      "('i', 7494)\n",
      "('h', 7736)\n",
      "('n', 7926)\n",
      "('s', 7995)\n",
      "('a', 8825)\n",
      "('o', 10527)\n",
      "('t', 11004)\n",
      "('e', 14505)\n",
      "(' ', 28909)\n"
     ]
    }
   ],
   "source": [
    "# Task 2.2\n",
    "\n",
    "with open('HAMLET.txt') as f:\n",
    "    lines = f.readlines()\n",
    "    chars = set(lines[0])\n",
    "    for line in lines[1:]:\n",
    "        chars = chars.union(set(line))\n",
    "    char_count = {}\n",
    "    for char in chars:\n",
    "        char_count[char] = 0\n",
    "        for line in lines:\n",
    "            char_count[char] = char_count[char] + line.count(char)\n",
    "\n",
    "node_list = []    \n",
    "for k, v in char_count.items():\n",
    "    node_list.append(Node(data=(k,v)))\n",
    "\n",
    "node_list = sorted(node_list, key = lambda x: x.get_data()[1])\n",
    "\n",
    "for i in node_list:\n",
    "    print(i.get_data())"
   ]
  },
  {
   "cell_type": "code",
   "execution_count": 7,
   "metadata": {},
   "outputs": [
    {
     "name": "stdout",
     "output_type": "stream",
     "text": [
      "{';': '101010011', 'S': '01101111', 'A': '1010000', ']': '1000111010', 'U': '001111011', 'u': '00110', 'Q': '11111110001', 'b': '1010101', 'H': '11111101', ':': '10001111011', ',': '101011', 'F': '1111111010', 'P': '011011100', ' ': '110', 'd': '01100', 'r': '10111', 'p': '1011010', 'o': '0111', '.': '101100', '—': '0110111010', 'M': '01101101', 'Z': '100011110101', '[': '1000111011', 's': '0010', 'n': '0001', 'k': '0011111', 'z': '00111101001', 'æ': '001111010000000', '&': '00111101000001', 'm': '111110', 'T': '1010001', 'h': '0000', 'W': '00111100', '\\n': '01010', 'V': '100011110100', 'C': '100011111', 'G': '100011100', 'q': '10110110011', 'f': '011010', '!': '1011011000', 't': '1001', 'v': '0101101', '‘': '001111010001', 'E': '0101100', '?': '101101101', 'à': '001111010000001', 'w': '100010', '_': '101010010', 'I': '1000110', 'N': '10101000', 'e': '1110', 'c': '010111', 'y': '101001', 'l': '10000', 'J': '0011110100001', '’': '11111111', 'x': '0110111011', 'j': '10110110010', 'B': '1111111011', 'g': '001110', 'Y': '0011110101', 'D': '1111111001', 'L': '10110111', 'O': '11111100', 'K': '1000111100', 'R': '01101100', 'i': '11110', '-': '11111110000', 'a': '0100'}\n"
     ]
    }
   ],
   "source": [
    "# Task 2.3 \n",
    "encode_tree = Tree()\n",
    "\n",
    "while len(node_list)>=2:\n",
    "    node_to_insert_back = encode_tree.addNodes(node_list[0],node_list[1])\n",
    "    node_list.append(node_to_insert_back)\n",
    "    node_list.sort(key=lambda x:x.get_data()[1])\n",
    "    node_list = node_list[2:]\n",
    "\n",
    "def get_encoding(symb):\n",
    "    current_node = encode_tree.get_root()\n",
    "    encoded = ''\n",
    "    while current_node != None and (current_node.get_left() != None or current_node.get_right() != None):\n",
    "        if symb in current_node.get_left().get_data()[0]:\n",
    "            encoded = encoded + '0'\n",
    "            current_node = current_node.get_left()\n",
    "        elif symb in current_node.get_right().get_data()[0]:\n",
    "            encoded = encoded + '1'\n",
    "            current_node = current_node.get_right()\n",
    "    return encoded\n",
    "\n",
    "chars = [i for i in char_count.keys()]\n",
    "\n",
    "encode_dict = {}\n",
    "for c in chars:\n",
    "    encode_dict[c] = get_encoding(c)\n",
    "\n",
    "print(encode_dict)\n"
   ]
  },
  {
   "cell_type": "code",
   "execution_count": 76,
   "metadata": {},
   "outputs": [],
   "source": [
    "# Task 2.4\n",
    "\n",
    "def encoded_version(line):\n",
    "    to_return =''\n",
    "    for ch in line:\n",
    "        to_return += encode_dict[ch]\n",
    "    return to_return\n",
    "\n",
    "for i in range(len(lines)):\n",
    "    lines[i]=encoded_version(lines[i])\n",
    "\n",
    "with open('HAMLET_compressed.txt','w') as f:\n",
    "    f.writelines(lines)\n",
    "\n",
    "# the 'compressed' file end up bigger than original text file. lol."
   ]
  },
  {
   "cell_type": "code",
   "execution_count": 10,
   "metadata": {},
   "outputs": [],
   "source": [
    "d = encode_dict\n",
    "\n",
    "def decode():\n",
    "    with open(\"TEXT.txt\", \"a\") as ff:\n",
    "        with open(\"HAMLET_COMPRESSED.txt\", \"r\") as f:\n",
    "            s = \"\"\n",
    "            dd = {i: j for j, i in d.items()}\n",
    "            for i in f.read():\n",
    "                s += i\n",
    "                if s in dd:\n",
    "                    ff.write(dd[s])\n",
    "                    s = \"\"\n",
    "\n",
    "decode()"
   ]
  },
  {
   "cell_type": "code",
   "execution_count": 45,
   "metadata": {},
   "outputs": [
    {
     "name": "stdout",
     "output_type": "stream",
     "text": [
      "20210126\n",
      "20210305\n",
      "20211010\n"
     ]
    }
   ],
   "source": [
    "# Task 3\n",
    "\n",
    "# We will use datetime to make our lives easier, but note that there are some formatting \n",
    "# required to use datetime objects.\n",
    "# timedelta objects can be used to represent the 21 days difference \n",
    "\n",
    "from datetime import datetime, timedelta \n",
    "\n",
    "date_time_str = '2021-01-05'\n",
    "\n",
    "def second_dose_date(date):\n",
    "    date_time_str = f'{date[:4]}-{date[4:6]}-{date[6:]}'\n",
    "    date_first_vaccine = datetime.strptime(date_time_str,'%Y-%m-%d')\n",
    "    days_to_vaccine = timedelta(days=21)\n",
    "    date_second_vaccine = date_first_vaccine + days_to_vaccine\n",
    "    # Note that we're using zfill() string method to pad zeroes to match the format required\n",
    "    # another way is to modify the month and day string individually using conditionals\n",
    "    return f'{str(date_second_vaccine.year)}{str(date_second_vaccine.month).zfill(2)}{str(date_second_vaccine.day).zfill(2)}'\n",
    "\n",
    "print(second_dose_date('20210105'))\n",
    "print(second_dose_date('20210212'))\n",
    "print(second_dose_date('20210919'))"
   ]
  },
  {
   "cell_type": "code",
   "execution_count": 46,
   "metadata": {},
   "outputs": [
    {
     "name": "stdout",
     "output_type": "stream",
     "text": [
      "Connected successfully!!!\n",
      "Collection is not empty. Dropping collection first.\n"
     ]
    },
    {
     "data": {
      "text/plain": [
       "<pymongo.results.InsertManyResult at 0x1bd86826b80>"
      ]
     },
     "execution_count": 46,
     "metadata": {},
     "output_type": "execute_result"
    }
   ],
   "source": [
    "# Task 3.2\n",
    "\n",
    "from pymongo import MongoClient\n",
    "\n",
    "try:\n",
    "    client = MongoClient('localhost', 27017)\n",
    "    print(\"Connected successfully!!!\")\n",
    "except:\n",
    "    print(\"Could not connect to MongoDB\")\n",
    "\n",
    "db = client['community_centre']\n",
    "\n",
    "coll = db['management_committee']\n",
    "\n",
    "# dropping a collection with pymongo\n",
    "if list(coll.find({})) != []:\n",
    "    print('Collection is not empty. Dropping collection first.')\n",
    "    coll.drop()\n",
    "\n",
    "with open('VACCINATION.TXT') as f:\n",
    "    reader = f.readlines()\n",
    "    reader = [ i.strip().split(',') for i in reader]\n",
    "\n",
    "# the idea is to use insert_many() method of pymongo Collection object\n",
    "# so first we need to convert the imported list into json-like objects\n",
    "\n",
    "def list_to_dict(arr):\n",
    "    member = {}\n",
    "\n",
    "    # Assume the first two attributes always exist\n",
    "    member['_id'] = arr[0]\n",
    "    member['name'] = arr[1]\n",
    "    \n",
    "    # handling the dates and remarks field\n",
    "    i = 2\n",
    "    \n",
    "    while i < len(arr):\n",
    "        # if the entry in the row is an alphabet, it's straight away must be a remark\n",
    "        if arr[i].isalpha():\n",
    "            member['remarks'] = arr[i]\n",
    "        else:\n",
    "            # check if we have inserted a date as an attribute in the dictionary object\n",
    "            if 'date_first_dose' in member.keys():\n",
    "                member['date_second_dose'] = arr[i]\n",
    "            else:\n",
    "                member['date_first_dose'] = arr[i]\n",
    "        i += 1\n",
    "    return member\n",
    "\n",
    "list_json = [ list_to_dict(member) for member in reader]\n",
    "\n",
    "coll.insert_many(list_json)"
   ]
  },
  {
   "cell_type": "code",
   "execution_count": 47,
   "metadata": {},
   "outputs": [
    {
     "name": "stdout",
     "output_type": "stream",
     "text": [
      "dict_keys(['_id', 'name', 'date_first_dose'])\n",
      "Member only has first dose. The earliest date to take second dose is 20210421\n"
     ]
    }
   ],
   "source": [
    "# Task 3.3\n",
    "\n",
    "member_id = input('Please input member ID (integer) :')\n",
    "\n",
    "while not member_id.isdigit():\n",
    "        if member_id == 'stop':\n",
    "                break\n",
    "        member_id = input('Please input a valid member ID (integer) :')\n",
    "\n",
    "myquery = {'_id': member_id}\n",
    "\n",
    "member_list = list(coll.find(myquery))\n",
    "\n",
    "# This function is an afterthought as I want to make the code more modular\n",
    "def certificate_string(name,date_first_dose,date_second_dose):\n",
    "        string = [      'VACCINATION CERTIFATE\\n',\n",
    "                        '\\n',\n",
    "                        f'Name : {name}\\n',\n",
    "                        'Vaccine type: CoviDie\\n', \n",
    "                        f'Date of first dose: {date_first_dose}\\n', \n",
    "                        f'Date of second dose: {date_second_dose}'\n",
    "                ]\n",
    "        return string\n",
    "\n",
    "if member_list == []:\n",
    "        print('Member ID is not found in the database.')\n",
    "else:\n",
    "        member = member_list[0]\n",
    "        fields = member.keys()\n",
    "        if not ('date_first_dose' in fields):\n",
    "                print('Member is unvaccinated. Please take the first dose as soon as possible.')\n",
    "        elif 'date_second_dose' in fields:\n",
    "                with open('certificate.txt','w') as f:\n",
    "                        name = member['name']\n",
    "                        date_first_dose = member['date_first_dose']\n",
    "                        date_second_dose = member['date_second_dose']\n",
    "                        f.writelines(certificate_string(name,date_first_dose,date_second_dose))\n",
    "        else:   \n",
    "                date_first_dose = member['date_first_dose']\n",
    "                print(f'Member only has first dose. The earliest date to take second dose is {second_dose_date(date_first_dose)}')\n",
    "\n"
   ]
  },
  {
   "cell_type": "code",
   "execution_count": 44,
   "metadata": {},
   "outputs": [
    {
     "data": {
      "text/plain": [
       "False"
      ]
     },
     "execution_count": 44,
     "metadata": {},
     "output_type": "execute_result"
    }
   ],
   "source": [
    "# Task 4.1 \n",
    "\n",
    "# See folder for the sql file"
   ]
  },
  {
   "cell_type": "code",
   "execution_count": 2,
   "metadata": {},
   "outputs": [],
   "source": [
    "# Task 4.2\n",
    "\n",
    "import sqlite3\n",
    "\n",
    "import csv\n",
    "\n",
    "connection = sqlite3.connect('bento_company.db')\n",
    "\n",
    "cursor = connection.cursor()\n",
    "\n",
    "with open('Task4.sql') as f:\n",
    "    script = f.read()\n",
    "\n",
    "cursor.executescript(script)\n",
    "\n",
    "# Insertion in Kiosk table\n",
    "with open('KIOSK.txt') as f:\n",
    "    reader = csv.reader(f)\n",
    "    reader = list(reader)\n",
    "\n",
    "myinsert = 'INSERT INTO Kiosk(KioskID,Location,Rating) VALUES (?,?,?)'\n",
    "\n",
    "for row in reader:\n",
    "    myvals = (row[0],row[1],row[2])\n",
    "    cursor.execute(myinsert,myvals)\n",
    "\n",
    "\n",
    "# Insertion in BENTOBOX table\n",
    "with open('BENTOBOX.txt') as f:\n",
    "    reader = csv.reader(f)\n",
    "    reader = list(reader)\n",
    "\n",
    "myinsert = 'INSERT INTO BentoBox(BentoName,ProductionCost,ContainEgg,ContainNut,ContainSeafood) VALUES (?,?,?,?,?)'\n",
    "\n",
    "for row in reader:\n",
    "    myvals = (row[0],row[1],row[2],row[3],row[4])\n",
    "    cursor.execute(myinsert,myvals)\n",
    "\n",
    "# INsertion into KioskBento Table\n",
    "#Note that we can use LEFT OUTER JOIN to get the cartesian product first\n",
    "#Alternatively, you can do two iterations to insert as well\n",
    "myquery = 'SELECT * FROM Kiosk LEFT OUTER JOIN BentoBox ON kiosk.KioskID'\n",
    "\n",
    "queried_list = list(cursor.execute(myquery))\n",
    "\n",
    "myinsert = 'INSERT INTO KioskBento(KioskID,BentoName,SellPrice) VALUES (?,?,?)'\n",
    "\n",
    "price_delta = [2.6,2.9,2.4,3.1]\n",
    "\n",
    "for row in queried_list:\n",
    "    #Note that KioskID starts from index 1. As such, index used to access elements\n",
    "    #in price_delta has to be adjusted\n",
    "    myvals = (row[0],row[3],float(row[4])+price_delta[int(row[0])-1])\n",
    "    cursor.execute(myinsert,myvals)\n",
    "\n",
    "connection.commit()"
   ]
  },
  {
   "cell_type": "code",
   "execution_count": 12,
   "metadata": {},
   "outputs": [
    {
     "name": "stdout",
     "output_type": "stream",
     "text": [
      " * Serving Flask app \"__main__\" (lazy loading)\n",
      " * Environment: production\n",
      "   WARNING: This is a development server. Do not use it in a production deployment.\n",
      "   Use a production WSGI server instead.\n",
      " * Debug mode: off\n"
     ]
    },
    {
     "name": "stderr",
     "output_type": "stream",
     "text": [
      " * Running on http://127.0.0.1:5000/ (Press CTRL+C to quit)\n",
      "127.0.0.1 - - [07/Jan/2022 10:17:48] \"\u001b[37mGET /bento?location=Woodlands&egg=ContainEgg&nut=ContainNut&seafood=ContainSeafood HTTP/1.1\u001b[0m\" 200 -\n"
     ]
    },
    {
     "name": "stdout",
     "output_type": "stream",
     "text": [
      "Woodlands\n",
      "Woodlands BentoB\n",
      "SELECT BentoName, SellPrice FROM Kiosk INNER JOIN KioskBento on Kiosk.KioskID = KioskBento.KioskID WHERE Location = 'Woodlands' AND BentoName = 'BentoB'\n"
     ]
    },
    {
     "name": "stderr",
     "output_type": "stream",
     "text": [
      "127.0.0.1 - - [07/Jan/2022 10:17:52] \"\u001b[37mGET /bento?location=Woodlands&egg=ContainEgg&seafood=ContainSeafood HTTP/1.1\u001b[0m\" 200 -\n"
     ]
    }
   ],
   "source": [
    "# Task 4.3\n",
    "\n",
    "from flask import Flask, render_template, request\n",
    "\n",
    "import sqlite3\n",
    "\n",
    "app = Flask(__name__)\n",
    "\n",
    "@app.route('/')\n",
    "def index():\n",
    "    return render_template('index.html')\n",
    "\n",
    "@app.route('/bento',methods=['GET'])\n",
    "def form():\n",
    "    #Note that we're using request.values() here instead of request.form.get()\n",
    "    #Alternatively, we can use request.args.get() for GET (query string) value\n",
    "    location = request.values.get('location')\n",
    "    egg = 0 if request.values.get('egg') == None else 1\n",
    "    nut = 0 if request.values.get('nut') == None else 1\n",
    "    seafood = 0 if request.values.get('seafood') == None else 1\n",
    "    connection = sqlite3.connect('bento_company.db')\n",
    "    cursor = connection.cursor()\n",
    "   \n",
    "    def condition_allergy(egg, nut, seafood):\n",
    "        allergic_to = []\n",
    "        allergents = [egg,nut,seafood]\n",
    "        allergents_string = ['ContainEgg','ContainNut','ContainSeafood']\n",
    "        for i in range(len(allergents)):\n",
    "            if allergents[i] != 0:\n",
    "                allergic_to.append(allergents_string[i])\n",
    "        if allergic_to == []:\n",
    "            return ''\n",
    "        else:\n",
    "            allergic_string = [f'{i} = 0' for i in allergic_to]\n",
    "            return ' WHERE ' + ' AND '.join(allergic_string)\n",
    "\n",
    "    # The approach I'm going for is through modifying query conditions in the sql statement and done in 2 stages\n",
    "    # 1st. Get all the bentos that fit the requirement\n",
    "    myquery = f'SELECT BentoName FROM BentoBox{condition_allergy(egg,nut,seafood)}'\n",
    "    \n",
    "    bento_names = []\n",
    "    bento_names =  list(cursor.execute(myquery))\n",
    "    bento_names = [bento[0] for bento in bento_names]\n",
    "    \n",
    "    # Next, we will get the allowed bentos in the location specified\n",
    "    products = []\n",
    "\n",
    "    for bento in bento_names:\n",
    "        \n",
    "        #We will use Inner Join so that we can get Bentoname and SellPrice from same table\n",
    "        my_second_query = f\"SELECT BentoName, SellPrice FROM Kiosk INNER JOIN KioskBento on Kiosk.KioskID = KioskBento.KioskID WHERE Location = '{location}' AND BentoName = '{bento}'\" \n",
    "        bento = list(cursor.execute(my_second_query))\n",
    "\n",
    "        #We access the 0th element because bento is a list of single tuple\n",
    "        products.append(bento[0])\n",
    "\n",
    "    return render_template('filtered.html',products=products,location = location)\n",
    "\n",
    "app.run()"
   ]
  },
  {
   "cell_type": "code",
   "execution_count": 2,
   "metadata": {},
   "outputs": [
    {
     "data": {
      "text/plain": [
       "' WHERE ContainEgg = 0 AND ContainSeafood = 0'"
      ]
     },
     "execution_count": 2,
     "metadata": {},
     "output_type": "execute_result"
    }
   ],
   "source": [
    "def condition_allergy(egg, nut, seafood):\n",
    "    allergic_to = []\n",
    "    allergents = [egg,nut,seafood]\n",
    "    allergents_string = ['ContainEgg','ContainNut','ContainSeafood']\n",
    "    for i in range(len(allergents)):\n",
    "        if allergents[i] != 0:\n",
    "            allergic_to.append(allergents_string[i])\n",
    "    if allergic_to == []:\n",
    "        return ''\n",
    "    else:\n",
    "        allergic_string = [f'{i} = 0' for i in allergic_to]\n",
    "        return ' WHERE ' + ' AND '.join(allergic_string)\n",
    "\n",
    "myvals = (1,1,1)\n",
    "condition_allergy(1,0,1)"
   ]
  },
  {
   "cell_type": "code",
   "execution_count": 15,
   "metadata": {},
   "outputs": [
    {
     "data": {
      "text/plain": [
       "'x'"
      ]
     },
     "execution_count": 15,
     "metadata": {},
     "output_type": "execute_result"
    }
   ],
   "source": [
    "' AND '.join(['x'])"
   ]
  },
  {
   "cell_type": "code",
   "execution_count": null,
   "metadata": {},
   "outputs": [],
   "source": []
  }
 ],
 "metadata": {
  "interpreter": {
   "hash": "4fce611334bc080f5106af4957378decbb3fa5ba52c9bc2fa39ba9ae396411fc"
  },
  "kernelspec": {
   "display_name": "Python 3.9.2 64-bit",
   "language": "python",
   "name": "python3"
  },
  "language_info": {
   "codemirror_mode": {
    "name": "ipython",
    "version": 3
   },
   "file_extension": ".py",
   "mimetype": "text/x-python",
   "name": "python",
   "nbconvert_exporter": "python",
   "pygments_lexer": "ipython3",
   "version": "3.7.6"
  },
  "orig_nbformat": 4
 },
 "nbformat": 4,
 "nbformat_minor": 2
}
