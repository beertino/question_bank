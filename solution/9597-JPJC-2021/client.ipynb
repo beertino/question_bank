{
 "cells": [
  {
   "cell_type": "code",
   "execution_count": 22,
   "metadata": {},
   "outputs": [],
   "source": [
    "import socket\n",
    "client_socket = socket.socket()\n",
    "DISCONNECT_MESSAGE = '!dc'\n",
    "\n",
    "# address = input('Enter IPv4 address of server: ')\n",
    "# port = int(input('Enter port number of server: '))\n",
    "\n",
    "address = '127.0.0.1'\n",
    "port = 5678\n",
    "\n",
    "client_socket.connect((address, port))\n",
    "\n",
    "def send(data):\n",
    "    message = data.encode()\n",
    "    client_socket.sendall(message)\n",
    "\n",
    "\n",
    "send('god bless')\n",
    "send('wotafk')"
   ]
  },
  {
   "cell_type": "code",
   "execution_count": 23,
   "metadata": {},
   "outputs": [
    {
     "ename": "ValueError",
     "evalue": "invalid literal for int() with base 10: ''",
     "output_type": "error",
     "traceback": [
      "\u001b[1;31m---------------------------------------------------------------------------\u001b[0m",
      "\u001b[1;31mValueError\u001b[0m                                Traceback (most recent call last)",
      "\u001b[1;32m<ipython-input-23-e428eebda114>\u001b[0m in \u001b[0;36m<module>\u001b[1;34m\u001b[0m\n\u001b[0;32m      2\u001b[0m \u001b[0mclient_socket\u001b[0m \u001b[1;33m=\u001b[0m \u001b[0msocket\u001b[0m\u001b[1;33m.\u001b[0m\u001b[0msocket\u001b[0m\u001b[1;33m(\u001b[0m\u001b[1;33m)\u001b[0m\u001b[1;33m\u001b[0m\u001b[1;33m\u001b[0m\u001b[0m\n\u001b[0;32m      3\u001b[0m \u001b[0maddress\u001b[0m \u001b[1;33m=\u001b[0m \u001b[0minput\u001b[0m\u001b[1;33m(\u001b[0m\u001b[1;34m'Enter IPv4 address of server: '\u001b[0m\u001b[1;33m)\u001b[0m\u001b[1;33m\u001b[0m\u001b[1;33m\u001b[0m\u001b[0m\n\u001b[1;32m----> 4\u001b[1;33m \u001b[0mport\u001b[0m \u001b[1;33m=\u001b[0m \u001b[0mint\u001b[0m\u001b[1;33m(\u001b[0m\u001b[0minput\u001b[0m\u001b[1;33m(\u001b[0m\u001b[1;34m'Enter port number of server: '\u001b[0m\u001b[1;33m)\u001b[0m\u001b[1;33m)\u001b[0m\u001b[1;33m\u001b[0m\u001b[1;33m\u001b[0m\u001b[0m\n\u001b[0m\u001b[0;32m      5\u001b[0m \u001b[0mclient_socket\u001b[0m\u001b[1;33m.\u001b[0m\u001b[0mconnect\u001b[0m\u001b[1;33m(\u001b[0m\u001b[1;33m(\u001b[0m\u001b[0maddress\u001b[0m\u001b[1;33m,\u001b[0m \u001b[0mport\u001b[0m\u001b[1;33m)\u001b[0m\u001b[1;33m)\u001b[0m\u001b[1;33m\u001b[0m\u001b[1;33m\u001b[0m\u001b[0m\n\u001b[0;32m      6\u001b[0m \u001b[1;33m\u001b[0m\u001b[0m\n",
      "\u001b[1;31mValueError\u001b[0m: invalid literal for int() with base 10: ''"
     ]
    }
   ],
   "source": [
    "import socket\n",
    "client_socket = socket.socket()\n",
    "address = input('Enter IPv4 address of server: ')\n",
    "port = int(input('Enter port number of server: '))\n",
    "client_socket.connect((address, port))\n",
    "\n",
    "while True:\n",
    "    data = client_socket.recv(1024)\n",
    "    if b\"Enter\" in data:\n",
    "        choice = input(data.decode())\n",
    "        client_socket.sendall(choice.encode())\n",
    "        print()\n",
    "    else:\n",
    "        print(data.decode())\n",
    "        if b\"GAME OVER\" in data or b\"YOU WON\" in data:\n",
    "            break\n",
    "        \n",
    "client_socket.close()"
   ]
  },
  {
   "cell_type": "code",
   "execution_count": 27,
   "metadata": {},
   "outputs": [
    {
     "name": "stdout",
     "output_type": "stream",
     "text": [
      "O\tO\tO\tO\tO\n",
      "O\tO\tO\tO\tO\n",
      "O\tO\tO\tO\tO\n",
      "O\tO\tO\tO\tO\n"
     ]
    }
   ],
   "source": [
    "def InitialiseGrid():\n",
    "    return [['O']*5]*4\n",
    "\n",
    "def DisplayGrid(grid):\n",
    "    for row in grid:\n",
    "        # client_socket.sendall(('\\t'.join(row)+'\\n').encode())    \n",
    "        print('\\t'.join(row))\n",
    "\n",
    "grid=InitialiseGrid()\n",
    "DisplayGrid(grid)"
   ]
  },
  {
   "cell_type": "code",
   "execution_count": 28,
   "metadata": {},
   "outputs": [
    {
     "name": "stdout",
     "output_type": "stream",
     "text": [
      "[['O', 'O', 5, 'O', 'O'], ['O', 'O', 5, 'O', 'O'], ['O', 'O', 5, 'O', 'O'], ['O', 'O', 5, 'O', 'O']]\n"
     ]
    }
   ],
   "source": [
    "grid = [[\"O\"] * 5] * 4\n",
    "grid [3][2] = 5\n",
    "print(grid)"
   ]
  },
  {
   "cell_type": "code",
   "execution_count": null,
   "metadata": {},
   "outputs": [],
   "source": []
  }
 ],
 "metadata": {
  "interpreter": {
   "hash": "c033495ff33b6ae6bbb854f60f0b22c00aadda8fd4b57960c9779686661c8796"
  },
  "kernelspec": {
   "display_name": "Python 3.8.3 64-bit ('base': conda)",
   "language": "python",
   "name": "python3"
  },
  "language_info": {
   "codemirror_mode": {
    "name": "ipython",
    "version": 3
   },
   "file_extension": ".py",
   "mimetype": "text/x-python",
   "name": "python",
   "nbconvert_exporter": "python",
   "pygments_lexer": "ipython3",
   "version": "3.8.3"
  },
  "orig_nbformat": 4
 },
 "nbformat": 4,
 "nbformat_minor": 2
}
