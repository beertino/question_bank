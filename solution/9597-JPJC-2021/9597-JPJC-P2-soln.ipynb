{
 "cells": [
  {
   "cell_type": "code",
   "execution_count": 1,
   "metadata": {},
   "outputs": [
    {
     "name": "stdout",
     "output_type": "stream",
     "text": [
      "Number of DNF: 30\n",
      "Total number of athletes: 106\n",
      "Percentage of athletes who finished race: 71.7\n"
     ]
    }
   ],
   "source": [
    "#Task 1.1\n",
    "import csv\n",
    "\n",
    "with open('marathon.csv') as f:\n",
    "    reader = csv.reader(f)\n",
    "    athletes = list(reader)[1:]\n",
    "\n",
    "dnf_athletes = [a for a in athletes if a[2]=='DNF']\n",
    "\n",
    "x = len(dnf_athletes)\n",
    "y = len(athletes)\n",
    "z =  (y-x)/y\n",
    "\n",
    "print(f'Number of DNF: {x}')\n",
    "print(f'Total number of athletes: {y}')\n",
    "print(f'Percentage of athletes who finished race: {round(z*100,1)}')"
   ]
  },
  {
   "cell_type": "code",
   "execution_count": 2,
   "metadata": {},
   "outputs": [
    {
     "data": {
      "text/plain": [
       "[3, 4, 5, 6, 7, 98, 99]"
      ]
     },
     "execution_count": 2,
     "metadata": {},
     "output_type": "execute_result"
    }
   ],
   "source": [
    "#Task 1.2\n",
    "def insert_element(arr,elem):\n",
    "    i = 0\n",
    "    while elem <= arr[-1-i]:\n",
    "        i +=1 \n",
    "        if i == len(arr):\n",
    "            return [elem]+arr\n",
    "    if i == 0:\n",
    "        return arr+[elem]\n",
    "    else:\n",
    "        return arr[:-i]+[elem]+arr[-i:]\n",
    "\n",
    "def insertionSort(arr):\n",
    "    sorted_subarr=[arr[0]]\n",
    "    for i in range(1,len(arr)):\n",
    "        if arr[i]>sorted_subarr[-1]:\n",
    "            sorted_subarr.append(arr[i])\n",
    "        else:\n",
    "            sorted_subarr=insert_element(sorted_subarr,arr[i])\n",
    "    return sorted_subarr\n",
    "        \n",
    "insertionSort([4,99,98,3,5,7,6])\n"
   ]
  },
  {
   "cell_type": "code",
   "execution_count": 3,
   "metadata": {},
   "outputs": [
    {
     "data": {
      "text/plain": [
       "[3, 4, 98, 99]"
      ]
     },
     "execution_count": 3,
     "metadata": {},
     "output_type": "execute_result"
    }
   ],
   "source": [
    "def insert_element(arr,elem):\n",
    "    i = 0\n",
    "    while elem <= arr[-1-i]:\n",
    "        i +=1 \n",
    "        if i == len(arr):\n",
    "            return [elem]+arr\n",
    "    if i == 0:\n",
    "        return arr+[elem]\n",
    "    else:\n",
    "        return arr[:-i]+[elem]+arr[-i:]\n",
    "\n",
    "insert_element([4,98,99],3)"
   ]
  },
  {
   "cell_type": "code",
   "execution_count": 10,
   "metadata": {},
   "outputs": [
    {
     "name": "stdout",
     "output_type": "stream",
     "text": [
      "Rank\tCountry         \tName            \tTiming          \n",
      "0\tKEN             \tEliud KIPCHOGE  \t2:08:38         \n",
      "1\tNED             \tAbdi NAGEEYE    \t2:09:58         \n",
      "2\tBEL             \tBashir ABDI     \t2:10:00         \n",
      "3\tKEN             \tLawrence CHERONO\t2:10:02         \n",
      "4\tESP             \tAyad LAMDASSEM  \t2:10:16         \n",
      "5\tJPN             \tSuguru OSAKO    \t2:10:41         \n",
      "6\tTAN             \tAlphonce Felix SIMBU\t2:11:35         \n",
      "7\tUSA             \tGalen RUPP      \t2:11:41         \n",
      "8\tMAR             \tOthmane EL GOUMRI\t2:11:58         \n",
      "9\tBEL             \tKoen NAERT      \t2:12:13         \n",
      "10\tMAR             \tMohamed Reda EL AARABY\t2:12:22         \n",
      "11\tFRA             \tNicolas NAVARRO \t2:12:50         \n",
      "12\tISR             \tMaru TEFERI     \t2:13:02         \n",
      "13\tERI             \tGoitom KIFLE    \t2:13:22         \n",
      "14\tCOL             \tJeison Alexander SUAREZ\t2:13:29         \n",
      "15\tART             \tTachlowini GABRIYESOS\t2:14:02         \n",
      "16\tFRA             \tMorhad AMDOUNI  \t2:14:33         \n",
      "17\tMAR             \tHamza SAHLI     \t2:14:48         \n",
      "18\tCHN             \tShaohui YANG    \t2:14:58         \n",
      "19\tITA             \tEyob GHEBREHIWET FANIEL\t2:15:11         \n"
     ]
    }
   ],
   "source": [
    "#Task 1.3\n",
    "qualified_athletes = [a for a in athletes if a[2]!='DNF']\n",
    "qualified_athletes = sorted(qualified_athletes, key=lambda arr: arr[2])[:20]\n",
    "print(f'{\"Rank\"}\\t{\"Country\":16}\\t{\"Name\":16}\\t{\"Timing\":16}')\n",
    "\n",
    "for i in range(len(qualified_athletes)):\n",
    "    print(f'{i}\\t{qualified_athletes[i][1]:16}\\t{qualified_athletes[i][0]:16}\\t{qualified_athletes[i][2]:16}')"
   ]
  },
  {
   "cell_type": "code",
   "execution_count": null,
   "metadata": {},
   "outputs": [],
   "source": [
    "# Task 2.1\n",
    "# Modify before giving to student, the original modularisation is weird.\n",
    "\n",
    "import random, socket\n",
    "\n",
    "def InitialiseGrid():\n",
    "    # Note that using grid = ['O'*5]*4 will cause wrong grid to displayed because of referencing issues\n",
    "    # see https://stackoverflow.com/questions/240178/list-of-lists-changes-reflected-across-sublists-unexpectedly\n",
    "    grid = []\n",
    "    for i in range(4):\n",
    "        grid.append(['O','O','O','O','O'])\n",
    "    return grid\n",
    "\n",
    "def DisplayGrid(grid,client_socket):\n",
    "    for row in grid:\n",
    "        client_socket.sendall((\"\\t\".join(row)+\"\\n\").encode())    \n",
    "    client_socket.sendall(b\"\\n\")\n",
    "\n",
    "def ValidateRow(row): #range check only\n",
    "    return row >= 0 and row <= 3\n",
    "\n",
    "def ValidateCol(col): #range check only\n",
    "    return col >= 0 and col <= 4\n",
    "\n",
    "def CheckResult(row, col,ship_row,ship_col):\n",
    "    if ship_row == row and ship_col == col: #player guessed correctly\n",
    "        grid[row][col] = \"S\"\n",
    "        return True\n",
    "    else:\n",
    "        grid[row][col] = \"X\" #player guessed wrongly\n",
    "        return False\n"
   ]
  },
  {
   "cell_type": "code",
   "execution_count": null,
   "metadata": {},
   "outputs": [],
   "source": [
    "# Task 2.2\n",
    "\n",
    "server_socket = socket.socket()\n",
    "server_socket.bind(('127.0.0.1',6789))\n",
    "server_socket.listen()\n",
    "\n",
    "client_socket, addr = server_socket.accept() #establish connection with client\n",
    "\n",
    "def getInput():\n",
    "    while True:\n",
    "        client_socket.sendall(b\"Enter row number (0 to 3):\\n\") \n",
    "        row = client_socket.recv(1024).decode() #receives number from client and decode the byte content\n",
    "        row = int(row)\n",
    "        if ValidateRow(row):\n",
    "            break\n",
    "\n",
    "    while True:    \n",
    "        client_socket.sendall(b\"Enter col number (0 to 4):\\n\")\n",
    "        col = client_socket.recv(1024).decode()\n",
    "        col = int(col)\n",
    "        if ValidateCol(col):\n",
    "            break\n",
    "\n",
    "    return (row, col)\n",
    "\n",
    "ship_row = random.randint(0,3)\n",
    "ship_col = random.randint(0,4)\n",
    "print(f'The ship is at position [{ship_row}, {ship_col}]')\n",
    "\n",
    "number_guesses = 0\n",
    "\n",
    "grid = InitialiseGrid()\n",
    "\n",
    "client_socket.sendall(b\"Welcome to Battleship!\\n\")\n",
    "\n",
    "DisplayGrid(grid,client_socket=client_socket)\n",
    "\n",
    "while number_guesses < 3: \n",
    "    row, col = getInput()  \n",
    "    won = CheckResult( row, col,ship_row=ship_row,ship_col=ship_col)\n",
    "    \n",
    "    if won == True:\n",
    "        DisplayGrid(grid,client_socket=client_socket)\n",
    "        client_socket.sendall(b\"YOU WON!\\n\")\n",
    "        break\n",
    "    \n",
    "    number_guesses += 1\n",
    "\n",
    "    DisplayGrid(grid,client_socket=client_socket)\n",
    "\n",
    "if won == False:\n",
    "    client_socket.sendall(b\"GAME OVER...\\n\")\n",
    "\n",
    "client_socket.close()\n",
    "server_socket.close() "
   ]
  },
  {
   "cell_type": "code",
   "execution_count": null,
   "metadata": {},
   "outputs": [],
   "source": [
    "# Task 3.1\n",
    "\n",
    "from datetime import date\n",
    "\n",
    "class Member:\n",
    "    def __init__(self,memberID,first_name,surname,contact_number,memberType,last_visit=str(date.today())):\n",
    "        self.memberID = memberID\n",
    "        self.first_name = first_name\n",
    "        self.surname = surname\n",
    "        self.contact_number = contact_number\n",
    "        self.last_visit = last_visit\n",
    "        self.memberType = memberType\n",
    "\n",
    "    def get_memberID(self):\n",
    "        return self.memberID\n",
    "\n",
    "    def set_memberID(self,value):\n",
    "        self.memberID = value\n",
    "\n",
    "    def get_first_name(self):\n",
    "        return self.first_name\n",
    "\n",
    "    def set_first_name(self,value):\n",
    "        self.first_name = value\n",
    "\n",
    "    def get_surname(self):\n",
    "        return self.surname\n",
    "\n",
    "    def set_surname(self,value):\n",
    "        self.surname = value\n",
    "\n",
    "    def get_contact_number(self):\n",
    "        return self.contact_number\n",
    "\n",
    "    def set_contact_number(self,value):\n",
    "        self.contact_number = value\n",
    "\n",
    "    def get_last_visit(self):\n",
    "        return self.last_visit\n",
    "\n",
    "    def set_last_visit(self,value):\n",
    "        self.last_visit = value\n",
    "\n",
    "    def get_memberType(self):\n",
    "        return self.memberType\n",
    "\n",
    "    def set_memberType(self,value):\n",
    "        self.memberType = value\n",
    "\n",
    "    def showMember(self):\n",
    "        return f'{self.memberID},{self.first_name},{self.surname},{self.contact_number},{self.last_visit}'\n",
    "    \n",
    "    def isActive(self):\n",
    "        if (date.today-date.fromisoformat(self.last_visit)).days<= 30:\n",
    "            return True\n",
    "        else:\n",
    "            return False\n",
    "\n",
    "class NormalMember(Member):\n",
    "    def __init__(self,memberID,first_name,surname,contact_number,memberType,last_visit=str(date.today()),stored_value=0):\n",
    "        super().__init__(memberID,first_name,surname,contact_number,memberType,last_visit)\n",
    "        self.stored_value = stored_value\n",
    "\n",
    "    def set_stored_value(self,value):\n",
    "        self.stored_value = value\n",
    "\n",
    "    def get_stored_value(self):\n",
    "        return '{:.2f}'.format(self.stored_value)\n",
    "\n",
    "    def showMember(self):\n",
    "        return f'{self.memberID},{self.first_name},{self.surname},{self.contact_number},{self.last_visit},{self.memberType}'\n",
    "\n",
    "class AnnualMember(Member):\n",
    "    def __init__(self,memberID,first_name,surname,contact_number,memberType,last_visit=str(date.today()),annual_fee=500,date_register=str(date.today())):\n",
    "        super().__init__(memberID,first_name,surname,contact_number,memberType,last_visit)\n",
    "        self.annual_fee = annual_fee\n",
    "        self.date_register = date_register\n",
    "\n",
    "    def set_annual_fee(self,value):\n",
    "        self.annual_fee = value\n",
    "\n",
    "    def get_annual_fee(self):\n",
    "        return self.annual_fee\n",
    "\n",
    "    def set_date_register(self,value):\n",
    "        self.date_register = value\n",
    "\n",
    "    def get_date_register(self):\n",
    "        return self.date_register\n",
    "\n",
    "    def showMember(self):\n",
    "        return f'{self.memberID},{self.first_name},{self.surname},{self.contact_number},{self.last_visit},{self.memberType}'"
   ]
  },
  {
   "cell_type": "code",
   "execution_count": null,
   "metadata": {},
   "outputs": [],
   "source": [
    "# Task 3.2\n",
    "import csv\n",
    "\n",
    "memberList = []\n",
    "\n",
    "with open('members.txt') as f:\n",
    "    reader = csv.reader(f)\n",
    "    reader = list(reader)\n",
    "    for row in reader :\n",
    "        if row[4] == 'normal':\n",
    "            memberList.append(NormalMember(memberID=row[0],first_name=row[1],surname=row[2],contact_number=row[3],memberType='normal'))\n",
    "        if row[4] == 'annual':\n",
    "            memberList.append(AnnualMember(memberID=row[0],first_name=row[1],surname=row[2],contact_number=row[3],memberType='annual'))\n",
    "\n",
    "for member in memberList:\n",
    "    print(member.showMember())"
   ]
  },
  {
   "cell_type": "code",
   "execution_count": null,
   "metadata": {},
   "outputs": [],
   "source": [
    "# Task 3.3 \n",
    "\n",
    "import sqlite3\n",
    "\n",
    "connection = sqlite3.connect(\"JPgym.db\")\n",
    "\n",
    "cursor = connection.cursor()\n",
    "\n",
    "sql_file = open(\"JPgym.sql\")\n",
    "sql_as_string = sql_file.read()\n",
    "cursor.executescript(sql_as_string)\n",
    "\n",
    "insert_sql = 'INSERT INTO Member(MemberID,FirstName,Surname,ContactNo,LastVisit,MemberType) VALUES(?,?,?,?,?,?) '\n",
    "\n",
    "data_tuples = [ (member.get_memberID(), member.get_first_name(), member.get_surname(), member.get_contact_number(),member.get_last_visit(), member.get_memberType()) for member in memberList]\n",
    "\n",
    "for data in data_tuples:\n",
    "    cursor.execute(insert_sql,data)\n",
    "\n",
    "connection.commit()\n",
    "\n",
    "cursor.close()"
   ]
  },
  {
   "cell_type": "code",
   "execution_count": null,
   "metadata": {},
   "outputs": [],
   "source": [
    "# Task 3.4\n",
    "import sqlite3\n",
    "\n",
    "connection = sqlite3.connect(\"JPgym.db\")\n",
    "\n",
    "cursor = connection.cursor()\n",
    "\n",
    "select_sql = '''SELECT Firstname, Surname, ContactNo from Member WHERE MemberType = 'normal' ORDER BY FirstName'''"
   ]
  },
  {
   "cell_type": "code",
   "execution_count": 5,
   "metadata": {},
   "outputs": [
    {
     "name": "stdout",
     "output_type": "stream",
     "text": [
      "Connected successfully!!!\n"
     ]
    },
    {
     "data": {
      "text/plain": [
       "<pymongo.results.InsertManyResult at 0x1c2f38a8080>"
      ]
     },
     "execution_count": 5,
     "metadata": {},
     "output_type": "execute_result"
    }
   ],
   "source": [
    "# Task 4.1\n",
    "from pymongo import MongoClient\n",
    "\n",
    "import json\n",
    "\n",
    "with open('items.JSON') as f:\n",
    "    phone_items = json.load(f)\n",
    "\n",
    "try:\n",
    "    client = MongoClient('localhost', 27017)\n",
    "    print(\"Connected successfully!!!\")\n",
    "except:\n",
    "    print(\"Could not connect to MongoDB\")\n",
    "\n",
    "db = client['jp_mobile']\n",
    "\n",
    "coll = db['phone']\n",
    "\n",
    "coll.delete_many({})\n",
    "coll.insert_many(phone_items)"
   ]
  },
  {
   "cell_type": "code",
   "execution_count": 6,
   "metadata": {},
   "outputs": [
    {
     "name": "stdout",
     "output_type": "stream",
     "text": [
      "Connected successfully!!!\n",
      "{'_id': ObjectId('62159737be139f0484b974c0'), 'brand': 'orange', 'model': '22', 'colour': 'black', 'price': 888, 'quantity': 12}\n",
      "{'_id': ObjectId('62159737be139f0484b974c9'), 'brand': 'orange', 'model': '21', 'colour': 'black', 'price': 777, 'quantity': 9}\n",
      "{'_id': ObjectId('62159737be139f0484b974c1'), 'brand': 'solo', 'model': 'A11', 'colour': 'black', 'price': 699, 'quantity': 8}\n",
      "{'_id': ObjectId('62159737be139f0484b974c4'), 'brand': 'solo', 'model': 'A11', 'colour': 'white', 'price': 699, 'warranty': 2, 'quantity': 7}\n",
      "{'_id': ObjectId('62159737be139f0484b974c5'), 'brand': 'solo', 'model': 'A22', 'colour': 'gold', 'price': 788, 'quantity': 5}\n"
     ]
    }
   ],
   "source": [
    "# Task 4.2...\n",
    "from pymongo import MongoClient\n",
    "\n",
    "try:\n",
    "    client = MongoClient('localhost', 27017)\n",
    "    print(\"Connected successfully!!!\")\n",
    "except:\n",
    "    print(\"Could not connect to MongoDB\")\n",
    "\n",
    "db = client['jp_mobile']\n",
    "\n",
    "coll = db['phone']\n",
    "\n",
    "for x in coll.find({'brand':'orange'}):\n",
    "    print(x)\n",
    "\n",
    "for x in coll.find({'brand':'solo'}):\n",
    "    print(x)"
   ]
  },
  {
   "cell_type": "code",
   "execution_count": 24,
   "metadata": {},
   "outputs": [],
   "source": [
    "# ... Task 4.2 (continued)\n",
    "\n",
    "brand = input('Please enter brand name:')\n",
    "model = input('Please enter model:')\n",
    "colour = input('Please enter colour:')\n",
    "price = input('Please enter price:')\n",
    "quantity = input('Please enter quantity:')\n",
    "free_gift = input('Please enter freegift(s) (separated by comma if more than one):')\n",
    "free_gift = free_gift.split(',')\n",
    "\n",
    "myquery = {'brand':brand,'model':model,'colour':colour}\n",
    "\n",
    "queried_list = list(coll.find(myquery))\n",
    "\n",
    "if queried_list == []:\n",
    "    myinsert = {'brand':brand,'model':model,'colour':colour,'price':price,'quantity':quantity,'free_gift':free_gift}\n",
    "    coll.insert_one(myinsert)\n",
    "else:\n",
    "    updated_quantity = int(quantity) + int(queried_list[0]['quantity'])\n",
    "    myupdate = {'$set':{'price':price,'quantity':updated_quantity,'free_gift':free_gift}}\n",
    "    coll.update_one(myquery,myupdate)\n",
    "\n",
    "# To check if the documents has been modified appropriately\n",
    "# for x in coll.find({'brand':'orange'}):\n",
    "#     print(x)\n",
    "\n",
    "# for x in coll.find({'brand':'solo'}):\n",
    "#     print(x)"
   ]
  },
  {
   "cell_type": "code",
   "execution_count": 7,
   "metadata": {},
   "outputs": [
    {
     "name": "stdout",
     "output_type": "stream",
     "text": [
      "brand   model   colour  price   quantity    free gifts\n",
      "orange  22      black   888     12          None    \n",
      "solo    A11     black   699     8           None    \n",
      "yala    M3      white   399     10          None    \n",
      "gaga    Y6      white   333     10          None    \n",
      "solo    A11     white   699     7           None    \n",
      "solo    A22     gold    788     5           None    \n",
      "iron    XY      gold    999     3           None    \n",
      "iron    XY      black   999     8           None    \n",
      "gaga    Y5      blue    444     6           None    \n",
      "orange  21      black   777     9           None    \n",
      "Total no of documents in the collection: 10\n"
     ]
    }
   ],
   "source": [
    "# Task 4.3\n",
    "\n",
    "# empty query in mongoDB means find all\n",
    "myquery = {}\n",
    "\n",
    "def display_all():\n",
    "    queried_list = list(coll.find(myquery))\n",
    "    print(f\"{'brand':8}{'model':8}{'colour':8}{'price':8}{'quantity':12}{'free gifts':8}\")\n",
    "    for doc in queried_list:\n",
    "        print(f\"{doc['brand']:8}{doc['model']:8}{doc['colour']:8}{str(doc['price']):8}{str(doc['quantity']):12}{str((doc['free_gift']) if 'free_gift' in doc.keys() else 'None'):8}\")\n",
    "    print(f'Total no of documents in the collection: {len(queried_list)}')\n",
    "\n",
    "display_all()"
   ]
  },
  {
   "cell_type": "code",
   "execution_count": 41,
   "metadata": {},
   "outputs": [
    {
     "name": "stdout",
     "output_type": "stream",
     "text": [
      " * Serving Flask app '__main__' (lazy loading)\n",
      " * Environment: production\n",
      "\u001b[31m   WARNING: This is a development server. Do not use it in a production deployment.\u001b[0m\n",
      "\u001b[2m   Use a production WSGI server instead.\u001b[0m\n",
      " * Debug mode: off\n"
     ]
    },
    {
     "name": "stderr",
     "output_type": "stream",
     "text": [
      " * Running on http://127.0.0.1:5000/ (Press CTRL+C to quit)\n",
      "127.0.0.1 - - [05/Jan/2022 21:34:15] \"GET /brand?brand=solo HTTP/1.1\" 200 -\n"
     ]
    },
    {
     "name": "stdout",
     "output_type": "stream",
     "text": [
      "Connected successfully!!!\n"
     ]
    }
   ],
   "source": [
    "# Task 4.4\n",
    "\n",
    "from flask import Flask, request, render_template\n",
    "\n",
    "from pymongo import MongoClient\n",
    "\n",
    "app = Flask(__name__)\n",
    "\n",
    "@app.route('/')\n",
    "def index():\n",
    "    return render_template('index.html')\n",
    "\n",
    "@app.route('/brand',methods=['GET'])\n",
    "def form():\n",
    "    #Note that we're using request.values() here instead of request.form.get()\n",
    "    #Alternatively, we can use request.args.get() for GET (query string) value\n",
    "    brand = request.values.get('brand')\n",
    "    try:\n",
    "        client = MongoClient('localhost', 27017)\n",
    "        print(\"Connected successfully!!!\")\n",
    "    except:\n",
    "        print(\"Could not connect to MongoDB\")\n",
    "\n",
    "    db = client['jp_mobile']\n",
    "\n",
    "    coll = db['phone']\n",
    "        \n",
    "    products = list(coll.find({'brand':brand}))\n",
    "    products.sort(key= lambda x:int(x['price']))\n",
    "\n",
    "    return render_template('brand.html',products=products,brand=brand)\n",
    "\n",
    "app.run()"
   ]
  }
 ],
 "metadata": {
  "interpreter": {
   "hash": "4fce611334bc080f5106af4957378decbb3fa5ba52c9bc2fa39ba9ae396411fc"
  },
  "kernelspec": {
   "display_name": "Python 3.9.2 64-bit",
   "language": "python",
   "name": "python3"
  },
  "language_info": {
   "codemirror_mode": {
    "name": "ipython",
    "version": 3
   },
   "file_extension": ".py",
   "mimetype": "text/x-python",
   "name": "python",
   "nbconvert_exporter": "python",
   "pygments_lexer": "ipython3",
   "version": "3.10.2"
  },
  "orig_nbformat": 4
 },
 "nbformat": 4,
 "nbformat_minor": 2
}
