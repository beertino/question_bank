{
 "cells": [
  {
   "cell_type": "code",
   "execution_count": null,
   "metadata": {},
   "outputs": [],
   "source": [
    "# Task 1"
   ]
  },
  {
   "cell_type": "code",
   "execution_count": null,
   "metadata": {},
   "outputs": [],
   "source": [
    "# Task 2"
   ]
  },
  {
   "cell_type": "code",
   "execution_count": null,
   "metadata": {},
   "outputs": [],
   "source": [
    "# Task 3.1\n",
    "# File is in the folder"
   ]
  },
  {
   "cell_type": "code",
   "execution_count": 16,
   "metadata": {},
   "outputs": [],
   "source": [
    "# Task 3.2\n",
    "import csv\n",
    "import sqlite3\n",
    "\n",
    "with open('sanitisers.txt') as f:\n",
    "    reader = csv.reader(f)\n",
    "    reader = list(reader)[1:]\n",
    "\n",
    "connection = sqlite3.connect('sanitisers.db')\n",
    "\n",
    "cursor = connection.cursor()\n",
    "\n",
    "#Note that 'alcohol-based' field contains a special character '-' so we need to surround it with quotation marks to force it to recognize it as a field name. That said, this is probably a bad practice for the field name\n",
    "insert_sql = \"INSERT INTO sanitisers(product_name,active_ingredient,'alcohol-based') VALUES(?,?,?)\"\n",
    "\n",
    "product_name = 0\n",
    "active_ingredient = 1\n",
    "alcohol_based = 2\n",
    "\n",
    "data_tuples = [ (product[0],product[1],product[2]) for product in reader]\n",
    "\n",
    "for data in data_tuples:\n",
    "    cursor.execute(insert_sql,data)\n",
    "\n",
    "connection.commit()\n",
    "\n",
    "cursor.close()"
   ]
  },
  {
   "cell_type": "code",
   "execution_count": 4,
   "metadata": {},
   "outputs": [
    {
     "name": "stdout",
     "output_type": "stream",
     "text": [
      " * Serving Flask app '__main__' (lazy loading)\n",
      " * Environment: production\n",
      "\u001b[31m   WARNING: This is a development server. Do not use it in a production deployment.\u001b[0m\n",
      "\u001b[2m   Use a production WSGI server instead.\u001b[0m\n",
      " * Debug mode: off\n"
     ]
    },
    {
     "name": "stderr",
     "output_type": "stream",
     "text": [
      " * Running on http://127.0.0.1:5000/ (Press CTRL+C to quit)\n",
      "127.0.0.1 - - [03/Jan/2022 13:27:30] \"GET /active_ingredient?active_ingredient=Triclosan HTTP/1.1\" 200 -\n"
     ]
    },
    {
     "name": "stdout",
     "output_type": "stream",
     "text": [
      "[('Soapy Sudz', 'Triclosan', 'No'), ('Anti-Bac Foam Soap', 'Triclosan', 'No'), ('Acclaim', 'Triclosan', 'No'), ('Hygenipak Plus Anti-Microbial Skin Cleanser', 'Triclosan', 'No'), ('Adasept Liq 0.5%', 'Triclosan', 'No'), ('Winning Hands Foaming Antibacterial Hand Cleanser', 'Triclosan', 'No'), ('Biotech-Transfer Skin Shield Barrier Lotion', 'Triclosan', 'No'), ('Bacti-Stat 0.3%', 'Triclosan', 'No'), ('LEVER 2000 Antibacterial Liquid Soap', 'Triclosan', 'No'), ('Savon Antiseptique Milan', 'Triclosan', 'No'), ('Zep Tranquil Meadows', 'Triclosan', 'No'), ('Applaud', 'Triclosan', 'No'), ('Antiseptic Hand Soap Liq 0.3%', 'Triclosan', 'No'), ('Florafree Gel 0.3%', 'Triclosan', 'No'), ('Asept', 'Triclosan', 'No'), ('Bacti-Stat Ae', 'Triclosan', 'No'), ('Orasoft 3', 'Triclosan', 'No'), ('Crown Antiseptic Hand Soap', 'Triclosan', 'No'), ('Valour Antiseptic Hand Cleanser', 'Triclosan', 'No'), ('Soft Care Nutra-Germ Antibacterial Lotion Soap', 'Triclosan', 'No'), ('Antibacterial Lotion Soap', 'Triclosan', 'No'), ('Bio-Safe Lotion', 'Triclosan', 'No'), ('Provon Medicated Lotion Soap With Triclosan', 'Triclosan', 'No'), ('Anti-Bac - Asp 0.5%', 'Triclosan', 'No'), ('Digiclean Antibacterial Foam Hand Soap', 'Triclosan', 'No'), ('Gentle Fresh Defense', 'Triclosan', 'No'), ('Myo-Ther Antimicrobial Skin Cleanser', 'Triclosan', 'No'), ('Antimicrobien 0.3% Triclosan', 'Triclosan', 'No'), ('UP-87 Lotion Soap/UP-87 Savon Lotion', 'Triclosan', 'No'), ('Simply Botanical Sensation Soothing Skin', 'Triclosan', 'No'), ('Keystone Antibacterial Foam Hand Soap', 'Triclosan', 'No'), ('Hygenipak Instafoam Anti-Microbial Foaming Skin Cleanser', 'Triclosan', 'No'), ('Ecocare 250', 'Triclosan', 'No')]\n"
     ]
    }
   ],
   "source": [
    "# Task 3.3\n",
    "\n",
    "from flask import Flask, render_template, request\n",
    "\n",
    "import sqlite3\n",
    "\n",
    "app = Flask(__name__)\n",
    "\n",
    "@app.route('/')\n",
    "def index():\n",
    "    connection = sqlite3.connect('sanitisers.db')\n",
    "    cursor = connection.cursor()\n",
    "    products =  list(cursor.execute('SELECT * FROM sanitisers'))\n",
    "    return render_template('index.html',products=products)\n",
    "\n",
    "@app.route('/active_ingredient',methods=['GET'])\n",
    "def form():\n",
    "    #Note that we're using request.values() here instead of request.form.get()\n",
    "    #Alternatively, we can use request.args.get() for GET (query string) value\n",
    "    active_ingredient = request.values.get('active_ingredient')\n",
    "    connection = sqlite3.connect('sanitisers.db')\n",
    "    cursor = connection.cursor()\n",
    "    #The following approach works, but is vulnerable to SQL injection\n",
    "    # myQuery = f'SELECT * FROM sanitisers WHERE active_ingredient = \"{active_ingredient}\"'\n",
    "    # products =  list(cursor.execute(myQuery))\n",
    "    \n",
    "    #It's better to use the parametric substituion method to not get SQL injected\n",
    "    #Also note the 2nd argument in the cursor.execute() method is a tuple, and thus, we include a comma ',' in the parantheses\n",
    "    products =  list(cursor.execute('SELECT * FROM sanitisers WHERE active_ingredient = ?',(active_ingredient,)))\n",
    "\n",
    "    return render_template('filtered.html',products=products)\n",
    "\n",
    "app.run()"
   ]
  },
  {
   "cell_type": "code",
   "execution_count": null,
   "metadata": {},
   "outputs": [],
   "source": []
  },
  {
   "cell_type": "code",
   "execution_count": 3,
   "metadata": {},
   "outputs": [
    {
     "name": "stdout",
     "output_type": "stream",
     "text": [
      "Connected successfully!!!\n"
     ]
    },
    {
     "data": {
      "text/plain": [
       "<pymongo.results.InsertManyResult at 0x20f0c6f3c00>"
      ]
     },
     "execution_count": 3,
     "metadata": {},
     "output_type": "execute_result"
    }
   ],
   "source": [
    "# Task 4.1\n",
    "from pymongo import MongoClient\n",
    "\n",
    "import json\n",
    "\n",
    "with open('balloons.json') as f:\n",
    "    balloon_items = json.load(f)\n",
    "\n",
    "try:\n",
    "    client = MongoClient('localhost', 27017)\n",
    "    print(\"Connected successfully!!!\")\n",
    "except:\n",
    "    print(\"Could not connect to MongoDB\")\n",
    "\n",
    "db = client['products']\n",
    "\n",
    "coll = db['balloons']\n",
    "\n",
    "coll.insert_many(balloon_items)"
   ]
  },
  {
   "cell_type": "code",
   "execution_count": 5,
   "metadata": {},
   "outputs": [
    {
     "name": "stdout",
     "output_type": "stream",
     "text": [
      "88\n"
     ]
    }
   ],
   "source": [
    "# Task 4.2\n",
    "myQuery = {'design':'car'}\n",
    "\n",
    "for doc in coll.find(myQuery):\n",
    "    print(doc['amount'])"
   ]
  },
  {
   "cell_type": "code",
   "execution_count": 8,
   "metadata": {},
   "outputs": [
    {
     "data": {
      "text/plain": [
       "<pymongo.results.UpdateResult at 0x20f0b9f3340>"
      ]
     },
     "execution_count": 8,
     "metadata": {},
     "output_type": "execute_result"
    }
   ],
   "source": [
    "# Task 4.3\n",
    "myQuery = {'helium':None}\n",
    "\n",
    "myUpdate = {'$set':{'helium','no'}}\n",
    "\n",
    "coll.update_many(myQuery,myUpdate)"
   ]
  },
  {
   "cell_type": "code",
   "execution_count": 13,
   "metadata": {},
   "outputs": [
    {
     "name": "stdout",
     "output_type": "stream",
     "text": [
      "car\n",
      "cloud\n"
     ]
    }
   ],
   "source": [
    "# Task 4.4\n",
    "myQuery =   {'$and':\n",
    "                    [   {'helium':'no'},\n",
    "                        {'$and':[\n",
    "                                    {'colours':{'$in':['red','yellow','blue','green']}},\n",
    "                                    {'colours':{'$nin':['black']}}\n",
    "                                ]\n",
    "                        }\n",
    "                    ]\n",
    "            }\n",
    "\n",
    "for doc in coll.find(myQuery):\n",
    "    print(doc['design'])\n",
    "\n"
   ]
  },
  {
   "cell_type": "code",
   "execution_count": null,
   "metadata": {},
   "outputs": [],
   "source": []
  }
 ],
 "metadata": {
  "interpreter": {
   "hash": "4fce611334bc080f5106af4957378decbb3fa5ba52c9bc2fa39ba9ae396411fc"
  },
  "kernelspec": {
   "display_name": "Python 3.9.2 64-bit",
   "language": "python",
   "name": "python3"
  },
  "language_info": {
   "codemirror_mode": {
    "name": "ipython",
    "version": 3
   },
   "file_extension": ".py",
   "mimetype": "text/x-python",
   "name": "python",
   "nbconvert_exporter": "python",
   "pygments_lexer": "ipython3",
   "version": "3.9.2"
  },
  "orig_nbformat": 4
 },
 "nbformat": 4,
 "nbformat_minor": 2
}
