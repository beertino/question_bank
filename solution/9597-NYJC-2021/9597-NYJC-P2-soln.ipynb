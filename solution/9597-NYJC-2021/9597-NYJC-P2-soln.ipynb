{
 "cells": [
  {
   "cell_type": "code",
   "execution_count": null,
   "metadata": {},
   "outputs": [],
   "source": [
    "# Task 1"
   ]
  },
  {
   "cell_type": "code",
   "execution_count": 63,
   "metadata": {},
   "outputs": [],
   "source": [
    "# Task 2\n",
    "\n",
    "class TodoItem:\n",
    "    def __init__(self, title= None, next_node=None):\n",
    "        self.title = title\n",
    "        self.__next = next_node\n",
    "\n",
    "    # this is pretty much your set() method for __next\n",
    "    def link_to(self,todoitem):\n",
    "        self.__next = todoitem\n",
    "\n",
    "    def get_next(self):\n",
    "        return self.__next\n",
    "\n",
    "    def get_title(self):\n",
    "        return self.title\n",
    "\n",
    "class TodoList:\n",
    "    def __init__(self):\n",
    "        self.__head = None\n",
    "        self.__tail = None\n",
    "\n",
    "    def get_head(self):\n",
    "        return self.__head\n",
    "    \n",
    "    def add(self,data):\n",
    "        node = TodoItem(data)\n",
    "        if self.__head == None:\n",
    "            self.__head = node\n",
    "            self.__tail = node\n",
    "        else:\n",
    "            current_node = self.__head\n",
    "            while current_node:\n",
    "                previous_node = current_node\n",
    "                current_node = current_node.get_next()\n",
    "            previous_node.link_to(node)\n",
    "            self.__tail = current_node\n",
    "\n",
    "    def remove(self,item):\n",
    "        if self.__head == None:\n",
    "            print('Linked list is empty. Nothing to remove')\n",
    "            return\n",
    "        # elif self.__head.get_next() == None and self.__head.get_title() == item:\n",
    "        #     self.__head = None\n",
    "        #     return\n",
    "        else:\n",
    "            previous_node = None\n",
    "            current_node = self.__head\n",
    "            while current_node and current_node.get_title() != item:\n",
    "                previous_node = current_node\n",
    "                current_node = current_node.get_next()\n",
    "            if current_node == None:\n",
    "                print('The item is not found on the list.')\n",
    "                return\n",
    "            if current_node.get_title() == item and previous_node == None:\n",
    "                self.__head = self.__head.get_next()\n",
    "                return\n",
    "            else:\n",
    "                previous_node.link_to(current_node.get_next())\n",
    "            if current_node.get_next() == None:\n",
    "                previous_node.link_to(None)\n",
    "\n",
    "    \n",
    "    def list(self):\n",
    "        item_list = []\n",
    "        if self.__head == None:\n",
    "            return item_list\n",
    "        else:\n",
    "            current_node = self.__head\n",
    "            while current_node:\n",
    "                item_list.append(current_node.get_title())\n",
    "                previous_node = current_node\n",
    "                current_node = current_node.get_next()\n",
    "            return item_list"
   ]
  },
  {
   "cell_type": "code",
   "execution_count": 60,
   "metadata": {},
   "outputs": [
    {
     "data": {
      "text/plain": [
       "['Buy milk', 'Buy flour', 'Buy eggs', 'Bake cake']"
      ]
     },
     "execution_count": 60,
     "metadata": {},
     "output_type": "execute_result"
    }
   ],
   "source": [
    "# Task 2.2\n",
    "\n",
    "todo = TodoList()\n",
    "\n",
    "todo.add('Buy milk')\n",
    "todo.add('Buy flour')\n",
    "todo.add('Buy eggs')\n",
    "todo.add('Bake cake')\n",
    "\n",
    "todo.list()"
   ]
  },
  {
   "cell_type": "code",
   "execution_count": 64,
   "metadata": {},
   "outputs": [
    {
     "name": "stdout",
     "output_type": "stream",
     "text": [
      "['Buy flour', 'Buy eggs', 'Bake cake']\n"
     ]
    },
    {
     "data": {
      "text/plain": [
       "['Buy flour', 'Bake cake']"
      ]
     },
     "execution_count": 64,
     "metadata": {},
     "output_type": "execute_result"
    }
   ],
   "source": [
    "# Task 2.3\n",
    "todo = TodoList()\n",
    "\n",
    "todo.add('Buy milk')\n",
    "todo.add('Buy flour')\n",
    "todo.add('Buy eggs')\n",
    "todo.add('Bake cake')\n",
    "\n",
    "todo.remove('Buy milk')\n",
    "print(todo.list())\n",
    "todo.remove('Buy eggs')\n",
    "todo.list()"
   ]
  },
  {
   "cell_type": "code",
   "execution_count": 10,
   "metadata": {},
   "outputs": [
    {
     "name": "stdout",
     "output_type": "stream",
     "text": [
      "(255, 255, 255)\n",
      "invalid data\n",
      "None\n",
      "invalid data\n",
      "None\n",
      "(18, 253, 49)\n"
     ]
    },
    {
     "data": {
      "text/plain": [
       "18"
      ]
     },
     "execution_count": 10,
     "metadata": {},
     "output_type": "execute_result"
    }
   ],
   "source": [
    "# Task 3\n",
    "\n",
    "def task3_1(hex_string):\n",
    "    #These two lines is for character check\n",
    "    string_chars = list(hex_string)[1:]\n",
    "    hex_digits = '0123456789ABCDEF'\n",
    "    if not( hex_string[0] == '#' and len(hex_string) == 7 and all([s in hex_digits for s in string_chars]) ):\n",
    "        print('invalid data')\n",
    "        return\n",
    "    else:\n",
    "        # Since the question doesn't forbid using inbuilt converter function. we will use it\n",
    "        red = int(hex_string[1:3],16)\n",
    "        green = int(hex_string[3:5],16)\n",
    "        blue = int(hex_string[5:7],16)\n",
    "        return (red,green,blue) \n",
    "\n",
    "for i in ['#FFFFFF','#FFFFGF','FFFFFF','#12FD31']:\n",
    "    print(task3_1(i))"
   ]
  },
  {
   "cell_type": "code",
   "execution_count": 17,
   "metadata": {},
   "outputs": [
    {
     "data": {
      "text/plain": [
       "(0.5019607843137255, 0.5019607843137255, 0.5019607843137255)"
      ]
     },
     "execution_count": 17,
     "metadata": {},
     "output_type": "execute_result"
    }
   ],
   "source": [
    "def task3_2(rgb):\n",
    "    red = rgb[0]\n",
    "    green = rgb[1]\n",
    "    blue = rgb[2]\n",
    "    if not (0<=red<=255 and 0<=green<=255 and 0<=blue<=255):\n",
    "        print('invalid data')\n",
    "        return\n",
    "    else:\n",
    "        return (red/255.,green/255.,blue/255.)\n",
    "\n",
    "task3_2((128,128,128))"
   ]
  },
  {
   "cell_type": "code",
   "execution_count": 20,
   "metadata": {},
   "outputs": [
    {
     "data": {
      "text/plain": [
       "(0.5006535947712418, 0.5006535947712418, 0.5006535947712418)"
      ]
     },
     "execution_count": 20,
     "metadata": {},
     "output_type": "execute_result"
    }
   ],
   "source": [
    "import statistics\n",
    "\n",
    "def task3_3(hex_string):\n",
    "    return tuple([statistics.mean(list(task3_1(hex_string)))/255]*3)\n",
    "\n",
    "task3_3(\"#FF8000\")"
   ]
  },
  {
   "cell_type": "code",
   "execution_count": null,
   "metadata": {},
   "outputs": [],
   "source": [
    "# Task 4.1\n",
    "\n",
    "# See SQL file in the folder"
   ]
  },
  {
   "cell_type": "code",
   "execution_count": 1,
   "metadata": {},
   "outputs": [
    {
     "name": "stdout",
     "output_type": "stream",
     "text": [
      "Northanger Abbey 13.99 178\n",
      "War and Peace 17.49 432\n",
      "Computer Programs 20.99 https://mybookstore.com/dJHtFy\n",
      "Data Science 14.99 https://mybookstore.com/fJynJk\n"
     ]
    }
   ],
   "source": [
    "# Task 4.2\n",
    "\n",
    "import csv\n",
    "\n",
    "class Book:\n",
    "    def __init__(self,title=None,price=None):\n",
    "        self.title = title\n",
    "        self.price = price\n",
    "\n",
    "    def get_title(self):\n",
    "        return self.title\n",
    "\n",
    "    def get_price(self):\n",
    "        return self.price\n",
    "    \n",
    "    def set_title(self, title):\n",
    "        self.title = title\n",
    "\n",
    "    def set_price(self, price):\n",
    "        self.price = price\n",
    "\n",
    "class Cart:\n",
    "    def __init__(self,items=None):\n",
    "        self.items = items\n",
    "\n",
    "    def total_price(self):\n",
    "        if self.items == None:\n",
    "            return 0\n",
    "        else:\n",
    "            return sum([item.get_price() for item in self.items])\n",
    "\n",
    "class PrintedBook(Book):\n",
    "    def __init__(self,title,price,weight=None):\n",
    "        super().__init__(title,price)\n",
    "        self.weight = weight\n",
    "    \n",
    "    def get_weight(self):\n",
    "        return self.weight\n",
    "\n",
    "    def set_weight(self,weight):\n",
    "        self.weight = weight\n",
    "\n",
    "class VirtualBook(Book):\n",
    "    def __init__(self,title,price,download_link=None):\n",
    "        #remember to pass in the parameters needed in the parent class when using super().__init__() method\n",
    "        super().__init__(title,price)\n",
    "        self.download_link = download_link\n",
    "    \n",
    "    def get_link(self):\n",
    "        return self.download_link\n",
    "\n",
    "    def set_link(self,link):\n",
    "        self.weight = link\n",
    "\n",
    "with open('bookstore.txt') as f:\n",
    "    reader = csv.reader(f)\n",
    "    reader = list(reader)\n",
    "\n",
    "book_objs=[]\n",
    "\n",
    "for row in reader:\n",
    "    if row[2] == 'Physical':\n",
    "        book_objs.append(PrintedBook(row[0],row[1],row[3]))\n",
    "    if row[2] == 'Virtual':\n",
    "        book_objs.append(VirtualBook(row[0],row[1],row[4]))\n",
    "\n",
    "for book in book_objs:\n",
    "    print(book.get_title(),book.get_price(), book.get_weight() if type(book) == PrintedBook else book.get_link())\n",
    "\n",
    "import sqlite3\n",
    "\n",
    "connection = sqlite3.connect('bookstore.db')\n",
    "\n",
    "cursor = connection.cursor()\n",
    "\n",
    "for book in book_objs:\n",
    "    sql_book = 'INSERT INTO Book (Title,Price,Type) Values (?,?,?)'\n",
    "    values = (book.get_title(),book.get_price(),'Physical' if type(book) == PrintedBook else 'Virtual')\n",
    "    cursor.execute(sql_book,values)\n",
    "    if type(book) == PrintedBook:\n",
    "        sql_physical = 'INSERT INTO Printed (Title,Price,Type,Weight) Values (?,?,?,?)'\n",
    "        values = (book.get_title(),book.get_price(),'Physical',book.get_weight())\n",
    "        cursor.execute(sql_physical,values)\n",
    "    if type(book) == VirtualBook:\n",
    "        sql_virtual = 'INSERT INTO Virtual (Title,Price,Type,DownloadLink) Values (?,?,?,?)'\n",
    "        values = (book.get_title(),book.get_price(),'Virtual',book.get_link())\n",
    "        cursor.execute(sql_virtual,values)\n",
    "\n",
    "connection.commit()\n"
   ]
  },
  {
   "cell_type": "code",
   "execution_count": 7,
   "metadata": {},
   "outputs": [
    {
     "name": "stdout",
     "output_type": "stream",
     "text": [
      " * Serving Flask app '__main__' (lazy loading)\n",
      " * Environment: production\n",
      "\u001b[31m   WARNING: This is a development server. Do not use it in a production deployment.\u001b[0m\n",
      "\u001b[2m   Use a production WSGI server instead.\u001b[0m\n",
      " * Debug mode: off\n"
     ]
    },
    {
     "name": "stderr",
     "output_type": "stream",
     "text": [
      " * Running on http://127.0.0.1:5000/ (Press CTRL+C to quit)\n",
      "127.0.0.1 - - [05/Jan/2022 15:01:59] \"GET / HTTP/1.1\" 200 -\n",
      "127.0.0.1 - - [05/Jan/2022 15:02:05] \"GET /cart?to_cart=2%2C3 HTTP/1.1\" 200 -\n"
     ]
    },
    {
     "name": "stdout",
     "output_type": "stream",
     "text": [
      "[(2, 'War and Peace', 17.49, 'Physical')]\n",
      "[(3, 'Computer Programs', 20.99, 'Virtual')]\n"
     ]
    }
   ],
   "source": [
    "# Task 4.3\n",
    "\n",
    "from flask import Flask, request, render_template\n",
    "\n",
    "import sqlite3\n",
    "\n",
    "app = Flask(__name__)\n",
    "\n",
    "@app.route('/')\n",
    "def index():\n",
    "    connection = sqlite3.connect('bookstore.db')\n",
    "    cursor = connection.cursor()\n",
    "    products =  list(cursor.execute('SELECT * FROM Book'))\n",
    "    return render_template('index.html',products=products)\n",
    "\n",
    "@app.route('/cart',methods=['GET'])\n",
    "def form():\n",
    "    #Note that we're using request.values() here instead of request.form.get()\n",
    "    #Alternatively, we can use request.args.get() for GET (query string) value\n",
    "    to_cart = request.values.get('to_cart')\n",
    "    book_ids = to_cart.split(',')\n",
    "    connection = sqlite3.connect('bookstore.db')\n",
    "    cursor = connection.cursor()\n",
    "\n",
    "    #Note the 2nd argument in the cursor.execute() method is a tuple, and thus, we include a comma ',' in the parantheses\n",
    "    products = []\n",
    "    total_price = 0\n",
    "    for book_id in book_ids:\n",
    "        book_to_add = list(cursor.execute('SELECT * FROM Book WHERE BookID = ?',(book_id,)))\n",
    "        #the following print is for debugging\n",
    "        #print(book_to_add)\n",
    "        products =  products + book_to_add\n",
    "        total_price += round(float(book_to_add[0][2]),2)\n",
    "\n",
    "    return render_template('shopping_cart.html',products=products,total_price = total_price)\n",
    "\n",
    "app.run()"
   ]
  },
  {
   "cell_type": "code",
   "execution_count": null,
   "metadata": {},
   "outputs": [],
   "source": []
  }
 ],
 "metadata": {
  "interpreter": {
   "hash": "4fce611334bc080f5106af4957378decbb3fa5ba52c9bc2fa39ba9ae396411fc"
  },
  "kernelspec": {
   "display_name": "Python 3.9.2 64-bit",
   "language": "python",
   "name": "python3"
  },
  "language_info": {
   "codemirror_mode": {
    "name": "ipython",
    "version": 3
   },
   "file_extension": ".py",
   "mimetype": "text/x-python",
   "name": "python",
   "nbconvert_exporter": "python",
   "pygments_lexer": "ipython3",
   "version": "3.9.2"
  },
  "orig_nbformat": 4
 },
 "nbformat": 4,
 "nbformat_minor": 2
}
