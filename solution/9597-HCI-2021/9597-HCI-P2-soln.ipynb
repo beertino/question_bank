{
 "cells": [
  {
   "cell_type": "code",
   "execution_count": 16,
   "metadata": {},
   "outputs": [],
   "source": [
    "# Task 1.1\n",
    "import random\n",
    "\n",
    "def quickSort(arr):\n",
    "    if len(arr) == 0 or len(arr) == 1:\n",
    "        return arr\n",
    "    else:\n",
    "        pivot = arr[random.randint(0,len(arr)-1)]\n",
    "        lower = [i for i in arr if i<pivot]\n",
    "        equal = [i for i in arr if i == pivot]\n",
    "        upper = [i for i in arr if i>pivot]\n",
    "        return quickSort(lower) + equal + quickSort(upper)\n",
    "\n",
    "with open('INTEGERS.TXT') as f:\n",
    "    reader = f.readlines()\n",
    "    reader = list(reader)\n",
    "    reader = [int(i.strip()) for i in reader]\n",
    "\n",
    "sorted_integers = quickSort(reader)\n",
    "\n",
    "with open('SORTED.TXT','w') as f:\n",
    "    for i in sorted_integers:\n",
    "        f.writelines(f'{i}\\n')"
   ]
  },
  {
   "cell_type": "code",
   "execution_count": 40,
   "metadata": {},
   "outputs": [
    {
     "name": "stdout",
     "output_type": "stream",
     "text": [
      "53 is in the array with 6 number of comparison(s).\n"
     ]
    },
    {
     "data": {
      "text/plain": [
       "6"
      ]
     },
     "execution_count": 40,
     "metadata": {},
     "output_type": "execute_result"
    }
   ],
   "source": [
    "# Task 1.2\n",
    "count = 0\n",
    "\n",
    "def BinarySearch(list_of_integers,target):\n",
    "    global count\n",
    "    if len(list_of_integers) == 0:\n",
    "        # print(f'{target} is not in the array with {count} number of comparison(s).')\n",
    "        return count\n",
    "    elif len(list_of_integers) == 1 and target in list_of_integers:\n",
    "        # print(f'{target} is in the array with {count} number of comparison(s).')\n",
    "        return count\n",
    "    else:\n",
    "        mid = len(list_of_integers)//2\n",
    "        if target == list_of_integers[mid]:\n",
    "            count +=1\n",
    "            # print(f'{target} is in the array with {count} comparison(s).')\n",
    "            return count\n",
    "        elif target < list_of_integers[mid]:\n",
    "            count +=1\n",
    "            return BinarySearch(list_of_integers[:mid],target)\n",
    "        else:\n",
    "            count +=1\n",
    "            return BinarySearch(list_of_integers[mid+1:],target)\n",
    "        \n",
    "BinarySearch(sorted_integers, 53)"
   ]
  },
  {
   "cell_type": "code",
   "execution_count": 42,
   "metadata": {},
   "outputs": [
    {
     "name": "stdout",
     "output_type": "stream",
     "text": [
      "144 is in the array with 5 comparison(s).\n",
      "161 is not in the array with 7 number of comparison(s).\n",
      "23 is in the array with 5 comparison(s).\n",
      "130 is in the array with 6 comparison(s).\n",
      "35 is not in the array with 7 number of comparison(s).\n",
      "46 is in the array with 4 comparison(s).\n",
      "44 is not in the array with 7 number of comparison(s).\n",
      "200 is in the array with 6 comparison(s).\n",
      "42 is in the array with 5 comparison(s).\n",
      "106 is in the array with 6 comparison(s).\n",
      "138 is not in the array with 6 number of comparison(s).\n",
      "85 is in the array with 6 comparison(s).\n",
      "135 is in the array with 6 number of comparison(s).\n",
      "194 is in the array with 5 comparison(s).\n",
      "45 is in the array with 6 comparison(s).\n",
      "178 is not in the array with 6 number of comparison(s).\n",
      "30 is not in the array with 7 number of comparison(s).\n",
      "75 is not in the array with 6 number of comparison(s).\n",
      "104 is not in the array with 7 number of comparison(s).\n",
      "156 is not in the array with 7 number of comparison(s).\n",
      "99 is in the array with 5 comparison(s).\n",
      "80 is not in the array with 6 number of comparison(s).\n",
      "104 is not in the array with 7 number of comparison(s).\n",
      "72 is not in the array with 6 number of comparison(s).\n",
      "92 is in the array with 6 number of comparison(s).\n",
      "1 is not in the array with 7 number of comparison(s).\n",
      "94 is in the array with 6 comparison(s).\n",
      "7 is in the array with 5 comparison(s).\n",
      "131 is not in the array with 6 number of comparison(s).\n",
      "109 is not in the array with 6 number of comparison(s).\n",
      "66 is not in the array with 7 number of comparison(s).\n",
      "165 is not in the array with 6 number of comparison(s).\n",
      "89 is not in the array with 7 number of comparison(s).\n",
      "183 is in the array with 6 number of comparison(s).\n",
      "131 is not in the array with 6 number of comparison(s).\n",
      "80 is not in the array with 6 number of comparison(s).\n",
      "105 is not in the array with 7 number of comparison(s).\n",
      "45 is in the array with 6 comparison(s).\n",
      "63 is in the array with 6 comparison(s).\n",
      "172 is in the array with 6 comparison(s).\n",
      "106 is in the array with 6 comparison(s).\n",
      "14 is not in the array with 7 number of comparison(s).\n",
      "109 is not in the array with 6 number of comparison(s).\n",
      "111 is not in the array with 6 number of comparison(s).\n",
      "55 is not in the array with 7 number of comparison(s).\n",
      "141 is not in the array with 6 number of comparison(s).\n",
      "114 is not in the array with 7 number of comparison(s).\n",
      "98 is not in the array with 6 number of comparison(s).\n",
      "194 is in the array with 5 comparison(s).\n",
      "175 is not in the array with 7 number of comparison(s).\n",
      "Average number of comparison is 6.12\n"
     ]
    }
   ],
   "source": [
    "# Task 1.3\n",
    "import random\n",
    "import statistics\n",
    "\n",
    "with open('SORTED.TXT') as f:\n",
    "    reader = f.readlines()\n",
    "    reader = list(reader)\n",
    "    reader = [int(i.strip()) for i in reader]\n",
    "\n",
    "another_sorted_list = reader\n",
    "\n",
    "no_of_comparisons = []\n",
    "\n",
    "for i in range(50):\n",
    "    count = 0\n",
    "    no_of_comparisons.append(BinarySearch(another_sorted_list,random.randint(1,200)))\n",
    "\n",
    "print(f'Average number of comparison is {statistics.mean(no_of_comparisons)}')"
   ]
  },
  {
   "cell_type": "code",
   "execution_count": null,
   "metadata": {},
   "outputs": [],
   "source": [
    "# Task 2.1"
   ]
  },
  {
   "cell_type": "code",
   "execution_count": 44,
   "metadata": {},
   "outputs": [],
   "source": [
    "# Task 3.1\n",
    "class Node:\n",
    "    def __init__(self,data=None,priority=None):\n",
    "        self.data = data\n",
    "        self.priority = priority\n",
    "        self.next = None\n",
    "\n",
    "    def setData(self,data):\n",
    "        self.data = data\n",
    "\n",
    "    def getData(self):\n",
    "        return self.data\n",
    "\n",
    "    def setPriority(self,priority):\n",
    "        self.priority = priority\n",
    "    \n",
    "    def getPriority(self):\n",
    "        return self.priority\n",
    "\n",
    "    def setNext(self):\n",
    "        self.next = next\n",
    "\n",
    "    def getNext(self):\n",
    "        return self.next\n",
    "\n",
    "class PQueue:\n",
    "    def __init__(self):\n",
    "        self.ThisPQueue = [Node()]*10\n",
    "        self.Front = None\n",
    "        self.Rear  = None\n",
    "        self.NextFree = 0 \n",
    "\n",
    "    def PQInsert(self,NewItem,Priority):\n",
    "        new_node = Node(NewItem,Priority)\n",
    "        if self.Front == None:\n",
    "            self.Front = 0\n",
    "            self.Rear = 0\n",
    "        self.ThisPQueue[self.Rear] = new_node\n",
    "        self.NextFree = self.ThisPQueue.index(None)\n",
    "\n",
    "    def PQDelete(self):\n",
    "        priority_values = [node.getPriority() for node in self.ThisPQueue if node]\n",
    "        min_priority = min(priority_values)\n",
    "        for node in self.ThisPQueue:\n",
    "            if node.getPriority() == min_priority:\n",
    "                deleted_node = node\n",
    "                self.ThisPQueue[self.ThisPQueue.index(node)]=None\n",
    "                return deleted_node\n",
    "\n",
    "    def DisplayPQueue(self):\n",
    "         "
   ]
  },
  {
   "cell_type": "code",
   "execution_count": 48,
   "metadata": {},
   "outputs": [
    {
     "data": {
      "text/plain": [
       "4"
      ]
     },
     "execution_count": 48,
     "metadata": {},
     "output_type": "execute_result"
    }
   ],
   "source": [
    "pq = PQueue()\n",
    "pq.PQInsert('Ben',2)\n",
    "pq.PQInsert('May',1)\n",
    "pq.PQInsert('Anne',3)\n",
    "pq.PQInsert('Jim',1)\n",
    "pq.NextFree"
   ]
  },
  {
   "cell_type": "code",
   "execution_count": 52,
   "metadata": {},
   "outputs": [
    {
     "data": {
      "text/plain": [
       "1"
      ]
     },
     "execution_count": 52,
     "metadata": {},
     "output_type": "execute_result"
    }
   ],
   "source": [
    "[1,None,None].index(None)"
   ]
  },
  {
   "cell_type": "code",
   "execution_count": 93,
   "metadata": {},
   "outputs": [],
   "source": [
    "# Task 4.1\n",
    "import random\n",
    "\n",
    "def gen_board():\n",
    "    board = []\n",
    "    for i in range(4):\n",
    "        board.append(['.','.','.','.'])\n",
    "    row = random.randint(0,3)\n",
    "    col = random.randint(0,3)\n",
    "    board[row][col] = 'T'\n",
    "    return board"
   ]
  },
  {
   "cell_type": "code",
   "execution_count": 94,
   "metadata": {},
   "outputs": [
    {
     "name": "stdout",
     "output_type": "stream",
     "text": [
      "O\t.\t.\t.\n",
      "O\tO\tO\t.\n",
      ".\t.\tO\t.\n",
      "O\t.\t.\tO\n"
     ]
    }
   ],
   "source": [
    "# Task 4.2\n",
    "def displayBoard(board):\n",
    "    for row in board:\n",
    "        print('\\t'.join(row))\n",
    "\n",
    "displayBoard(board)"
   ]
  },
  {
   "cell_type": "code",
   "execution_count": 95,
   "metadata": {},
   "outputs": [
    {
     "name": "stdout",
     "output_type": "stream",
     "text": [
      "The row and column input must be integers\n",
      "O\t.\t.\t.\n",
      "O\tO\tO\t.\n",
      ".\t.\tO\t.\n",
      "O\t.\t.\tO\n",
      "The row and column input must be integers\n",
      "O\t.\t.\t.\n",
      "O\tO\tO\t.\n",
      ".\t.\tO\t.\n",
      "O\t.\t.\tO\n"
     ]
    }
   ],
   "source": [
    "# Task 4.3\n",
    "def getPlayerMove(board,player_number):\n",
    "    row_in = input('Please input the row to place your move')\n",
    "    col_in = input('Please input the col to place your move')\n",
    "    symbol = 'X' if player_number == 1 else 'O'\n",
    "\n",
    "    try:\n",
    "        row_in = int(row_in)\n",
    "        col_in = int(col_in)\n",
    "    except:\n",
    "        print('The row and column input must be integers')\n",
    "        return board\n",
    "\n",
    "    if row_in not in range(4) or col_in not in range(4):\n",
    "        print('The row and column input must be integers between 0 and 3')\n",
    "        return board\n",
    "    \n",
    "    if board[row_in][col_in] != '.':\n",
    "        print('That space is already occupied. Please enter a valid move.')\n",
    "        return board\n",
    "    else:\n",
    "        board[row_in][col_in] = symbol\n",
    "        return board\n",
    "\n",
    "displayBoard(getPlayerMove(board,1))\n",
    "displayBoard(getPlayerMove(board,2))"
   ]
  },
  {
   "cell_type": "code",
   "execution_count": 87,
   "metadata": {},
   "outputs": [
    {
     "name": "stdout",
     "output_type": "stream",
     "text": [
      "O wins\n"
     ]
    },
    {
     "data": {
      "text/plain": [
       "True"
      ]
     },
     "execution_count": 87,
     "metadata": {},
     "output_type": "execute_result"
    }
   ],
   "source": [
    "# Task 4.4\n",
    "def board_transpose(board):\n",
    "    new_board = gen_board()\n",
    "    for i in range(4):\n",
    "        for j in range(4):\n",
    "            new_board[i][j] = board[j][i]\n",
    "    return new_board\n",
    "\n",
    "def X_or_T(row):\n",
    "    if len(set(row)) == 1 and 'X' in row:\n",
    "        print('X wins')\n",
    "        return True\n",
    "    if len(set(row)) == 2 and {'X','T'} == set(row):\n",
    "        print('X wins')\n",
    "        return True\n",
    "    return False\n",
    "\n",
    "def O_or_T(row):\n",
    "    if len(set(row)) == 1 and 'O' in row:\n",
    "        print('O wins')\n",
    "        return True\n",
    "    if len(set(row)) == 2 and {'O','T'} == set(row):\n",
    "        print('O wins')\n",
    "        return True\n",
    "    return False\n",
    "\n",
    "def horizontal_check(board):\n",
    "    i = 0\n",
    "    while i in range(len(board)):\n",
    "        if X_or_T(board[i]) or O_or_T(board[i]):\n",
    "            return True\n",
    "        i += 1\n",
    "    return False\n",
    "\n",
    "def vertical_check(board):\n",
    "    return horizontal_check(board_transpose(board))\n",
    "\n",
    "def diagonal_check(board):\n",
    "    diagonals = [\n",
    "                    [board[0][0],board[1][1],board[2][2],board[3][3]],\n",
    "                    [board[0][3],board[1][2],board[2][1],board[3][0]]\n",
    "                ]\n",
    "    return horizontal_check(diagonals)   \n",
    "\n",
    "board = [['O','.','.','.'],['O','O','O','.'],['.','.','O','.'],['O','.','.','O']]\n",
    "\n",
    "def checkWin(board):\n",
    "    return horizontal_check(board) or vertical_check(board) or diagonal_check(board)\n",
    "\n",
    "checkWin(board)"
   ]
  },
  {
   "cell_type": "code",
   "execution_count": 112,
   "metadata": {},
   "outputs": [
    {
     "name": "stdout",
     "output_type": "stream",
     "text": [
      ".\t.\t.\t.\n",
      ".\t.\t.\t.\n",
      ".\t.\t.\t.\n",
      ".\t.\t.\tT\n",
      "------------------------------------\n",
      "X\t.\t.\t.\n",
      ".\t.\t.\t.\n",
      ".\t.\t.\t.\n",
      ".\t.\t.\tT\n",
      "------------------------------------\n",
      "X\tO\t.\t.\n",
      ".\t.\t.\t.\n",
      ".\t.\t.\t.\n",
      ".\t.\t.\tT\n",
      "------------------------------------\n",
      "X\tO\tX\t.\n",
      ".\t.\t.\t.\n",
      ".\t.\t.\t.\n",
      ".\t.\t.\tT\n",
      "------------------------------------\n",
      "X\tO\tX\tO\n",
      ".\t.\t.\t.\n",
      ".\t.\t.\t.\n",
      ".\t.\t.\tT\n",
      "------------------------------------\n",
      "X\tO\tX\tO\n",
      "X\t.\t.\t.\n",
      ".\t.\t.\t.\n",
      ".\t.\t.\tT\n",
      "------------------------------------\n",
      "X\tO\tX\tO\n",
      "X\t.\t.\t.\n",
      "O\t.\t.\t.\n",
      ".\t.\t.\tT\n",
      "------------------------------------\n",
      "X\tO\tX\tO\n",
      "X\tX\t.\t.\n",
      "O\t.\t.\t.\n",
      ".\t.\t.\tT\n",
      "------------------------------------\n",
      "X\tO\tX\tO\n",
      "X\tX\tO\t.\n",
      "O\t.\t.\t.\n",
      ".\t.\t.\tT\n",
      "------------------------------------\n",
      "X\tO\tX\tO\n",
      "X\tX\tO\tX\n",
      "O\t.\t.\t.\n",
      ".\t.\t.\tT\n",
      "------------------------------------\n"
     ]
    },
    {
     "ename": "KeyboardInterrupt",
     "evalue": "Interrupted by user",
     "output_type": "error",
     "traceback": [
      "\u001b[1;31m---------------------------------------------------------------------------\u001b[0m",
      "\u001b[1;31mKeyboardInterrupt\u001b[0m                         Traceback (most recent call last)",
      "\u001b[1;32m<ipython-input-112-677148709073>\u001b[0m in \u001b[0;36m<module>\u001b[1;34m\u001b[0m\n\u001b[0;32m     17\u001b[0m     \u001b[0mdisplayBoard\u001b[0m\u001b[1;33m(\u001b[0m\u001b[0mboard\u001b[0m\u001b[1;33m)\u001b[0m\u001b[1;33m\u001b[0m\u001b[1;33m\u001b[0m\u001b[0m\n\u001b[0;32m     18\u001b[0m \u001b[1;33m\u001b[0m\u001b[0m\n\u001b[1;32m---> 19\u001b[1;33m \u001b[0mmain\u001b[0m\u001b[1;33m(\u001b[0m\u001b[1;33m)\u001b[0m\u001b[1;33m\u001b[0m\u001b[1;33m\u001b[0m\u001b[0m\n\u001b[0m",
      "\u001b[1;32m<ipython-input-112-677148709073>\u001b[0m in \u001b[0;36mmain\u001b[1;34m()\u001b[0m\n\u001b[0;32m      8\u001b[0m     \u001b[0mmove\u001b[0m \u001b[1;33m=\u001b[0m \u001b[1;36m0\u001b[0m\u001b[1;33m\u001b[0m\u001b[1;33m\u001b[0m\u001b[0m\n\u001b[0;32m      9\u001b[0m     \u001b[1;32mwhile\u001b[0m \u001b[1;32mnot\u001b[0m \u001b[0mcheckWin\u001b[0m\u001b[1;33m(\u001b[0m\u001b[0mboard\u001b[0m\u001b[1;33m)\u001b[0m \u001b[1;32mand\u001b[0m \u001b[0mmove\u001b[0m \u001b[1;33m<\u001b[0m \u001b[1;36m15\u001b[0m\u001b[1;33m:\u001b[0m\u001b[1;33m\u001b[0m\u001b[1;33m\u001b[0m\u001b[0m\n\u001b[1;32m---> 10\u001b[1;33m         \u001b[0mgetPlayerMove\u001b[0m\u001b[1;33m(\u001b[0m\u001b[0mboard\u001b[0m\u001b[1;33m,\u001b[0m\u001b[0mplayer_number\u001b[0m\u001b[1;33m=\u001b[0m\u001b[0mplayer\u001b[0m\u001b[1;33m)\u001b[0m\u001b[1;33m\u001b[0m\u001b[1;33m\u001b[0m\u001b[0m\n\u001b[0m\u001b[0;32m     11\u001b[0m         \u001b[0mdisplayBoard\u001b[0m\u001b[1;33m(\u001b[0m\u001b[0mboard\u001b[0m\u001b[1;33m)\u001b[0m\u001b[1;33m\u001b[0m\u001b[1;33m\u001b[0m\u001b[0m\n\u001b[0;32m     12\u001b[0m         \u001b[0mprint\u001b[0m\u001b[1;33m(\u001b[0m\u001b[1;34m'------------------------------------'\u001b[0m\u001b[1;33m)\u001b[0m\u001b[1;33m\u001b[0m\u001b[1;33m\u001b[0m\u001b[0m\n",
      "\u001b[1;32m<ipython-input-95-8f625c8665e6>\u001b[0m in \u001b[0;36mgetPlayerMove\u001b[1;34m(board, player_number)\u001b[0m\n\u001b[0;32m      1\u001b[0m \u001b[1;31m# Task 4.3\u001b[0m\u001b[1;33m\u001b[0m\u001b[1;33m\u001b[0m\u001b[1;33m\u001b[0m\u001b[0m\n\u001b[0;32m      2\u001b[0m \u001b[1;32mdef\u001b[0m \u001b[0mgetPlayerMove\u001b[0m\u001b[1;33m(\u001b[0m\u001b[0mboard\u001b[0m\u001b[1;33m,\u001b[0m\u001b[0mplayer_number\u001b[0m\u001b[1;33m)\u001b[0m\u001b[1;33m:\u001b[0m\u001b[1;33m\u001b[0m\u001b[1;33m\u001b[0m\u001b[0m\n\u001b[1;32m----> 3\u001b[1;33m     \u001b[0mrow_in\u001b[0m \u001b[1;33m=\u001b[0m \u001b[0minput\u001b[0m\u001b[1;33m(\u001b[0m\u001b[1;34m'Please input the row to place your move'\u001b[0m\u001b[1;33m)\u001b[0m\u001b[1;33m\u001b[0m\u001b[1;33m\u001b[0m\u001b[0m\n\u001b[0m\u001b[0;32m      4\u001b[0m     \u001b[0mcol_in\u001b[0m \u001b[1;33m=\u001b[0m \u001b[0minput\u001b[0m\u001b[1;33m(\u001b[0m\u001b[1;34m'Please input the col to place your move'\u001b[0m\u001b[1;33m)\u001b[0m\u001b[1;33m\u001b[0m\u001b[1;33m\u001b[0m\u001b[0m\n\u001b[0;32m      5\u001b[0m     \u001b[0msymbol\u001b[0m \u001b[1;33m=\u001b[0m \u001b[1;34m'X'\u001b[0m \u001b[1;32mif\u001b[0m \u001b[0mplayer_number\u001b[0m \u001b[1;33m==\u001b[0m \u001b[1;36m1\u001b[0m \u001b[1;32melse\u001b[0m \u001b[1;34m'O'\u001b[0m\u001b[1;33m\u001b[0m\u001b[1;33m\u001b[0m\u001b[0m\n",
      "\u001b[1;32m~\\AppData\\Roaming\\Python\\Python39\\site-packages\\ipykernel\\kernelbase.py\u001b[0m in \u001b[0;36mraw_input\u001b[1;34m(self, prompt)\u001b[0m\n\u001b[0;32m    846\u001b[0m                 \u001b[1;34m\"raw_input was called, but this frontend does not support input requests.\"\u001b[0m\u001b[1;33m\u001b[0m\u001b[1;33m\u001b[0m\u001b[0m\n\u001b[0;32m    847\u001b[0m             )\n\u001b[1;32m--> 848\u001b[1;33m         return self._input_request(str(prompt),\n\u001b[0m\u001b[0;32m    849\u001b[0m             \u001b[0mself\u001b[0m\u001b[1;33m.\u001b[0m\u001b[0m_parent_ident\u001b[0m\u001b[1;33m,\u001b[0m\u001b[1;33m\u001b[0m\u001b[1;33m\u001b[0m\u001b[0m\n\u001b[0;32m    850\u001b[0m             \u001b[0mself\u001b[0m\u001b[1;33m.\u001b[0m\u001b[0m_parent_header\u001b[0m\u001b[1;33m,\u001b[0m\u001b[1;33m\u001b[0m\u001b[1;33m\u001b[0m\u001b[0m\n",
      "\u001b[1;32m~\\AppData\\Roaming\\Python\\Python39\\site-packages\\ipykernel\\kernelbase.py\u001b[0m in \u001b[0;36m_input_request\u001b[1;34m(self, prompt, ident, parent, password)\u001b[0m\n\u001b[0;32m    890\u001b[0m             \u001b[1;32mexcept\u001b[0m \u001b[0mKeyboardInterrupt\u001b[0m\u001b[1;33m:\u001b[0m\u001b[1;33m\u001b[0m\u001b[1;33m\u001b[0m\u001b[0m\n\u001b[0;32m    891\u001b[0m                 \u001b[1;31m# re-raise KeyboardInterrupt, to truncate traceback\u001b[0m\u001b[1;33m\u001b[0m\u001b[1;33m\u001b[0m\u001b[1;33m\u001b[0m\u001b[0m\n\u001b[1;32m--> 892\u001b[1;33m                 \u001b[1;32mraise\u001b[0m \u001b[0mKeyboardInterrupt\u001b[0m\u001b[1;33m(\u001b[0m\u001b[1;34m\"Interrupted by user\"\u001b[0m\u001b[1;33m)\u001b[0m \u001b[1;32mfrom\u001b[0m \u001b[1;32mNone\u001b[0m\u001b[1;33m\u001b[0m\u001b[1;33m\u001b[0m\u001b[0m\n\u001b[0m\u001b[0;32m    893\u001b[0m             \u001b[1;32mexcept\u001b[0m \u001b[0mException\u001b[0m \u001b[1;32mas\u001b[0m \u001b[0me\u001b[0m\u001b[1;33m:\u001b[0m\u001b[1;33m\u001b[0m\u001b[1;33m\u001b[0m\u001b[0m\n\u001b[0;32m    894\u001b[0m                 \u001b[0mself\u001b[0m\u001b[1;33m.\u001b[0m\u001b[0mlog\u001b[0m\u001b[1;33m.\u001b[0m\u001b[0mwarning\u001b[0m\u001b[1;33m(\u001b[0m\u001b[1;34m\"Invalid Message:\"\u001b[0m\u001b[1;33m,\u001b[0m \u001b[0mexc_info\u001b[0m\u001b[1;33m=\u001b[0m\u001b[1;32mTrue\u001b[0m\u001b[1;33m)\u001b[0m\u001b[1;33m\u001b[0m\u001b[1;33m\u001b[0m\u001b[0m\n",
      "\u001b[1;31mKeyboardInterrupt\u001b[0m: Interrupted by user"
     ]
    }
   ],
   "source": [
    "# Task 4.5\n",
    "\n",
    "def main():\n",
    "    board = gen_board()\n",
    "    displayBoard(board)\n",
    "    print('------------------------------------')\n",
    "    player = 1\n",
    "    move = 0\n",
    "    while not checkWin(board) and move < 15:\n",
    "        getPlayerMove(board,player_number=player)\n",
    "        displayBoard(board)\n",
    "        print('------------------------------------')\n",
    "        player = 2 if player == 1 else 1\n",
    "        move += 1\n",
    "    if move == 15:\n",
    "        print(\"It's a draw.\")\n",
    "    displayBoard(board)\n",
    "\n",
    "main()"
   ]
  },
  {
   "cell_type": "code",
   "execution_count": null,
   "metadata": {},
   "outputs": [],
   "source": []
  }
 ],
 "metadata": {
  "interpreter": {
   "hash": "4fce611334bc080f5106af4957378decbb3fa5ba52c9bc2fa39ba9ae396411fc"
  },
  "kernelspec": {
   "display_name": "Python 3.9.2 64-bit",
   "language": "python",
   "name": "python3"
  },
  "language_info": {
   "codemirror_mode": {
    "name": "ipython",
    "version": 3
   },
   "file_extension": ".py",
   "mimetype": "text/x-python",
   "name": "python",
   "nbconvert_exporter": "python",
   "pygments_lexer": "ipython3",
   "version": "3.9.2"
  },
  "orig_nbformat": 4
 },
 "nbformat": 4,
 "nbformat_minor": 2
}
