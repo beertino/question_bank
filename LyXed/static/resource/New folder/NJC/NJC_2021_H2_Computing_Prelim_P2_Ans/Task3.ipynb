{
 "cells": [
  {
   "cell_type": "markdown",
   "source": [
    "# Task 3.1"
   ],
   "metadata": {}
  },
  {
   "cell_type": "code",
   "execution_count": null,
   "source": [
    "class Node: \r\n",
    "    def __init__(self,d, n=None):\r\n",
    "        self.data = d\r\n",
    "        self.next = n # 1m\r\n",
    "    def __repr__(self):\r\n",
    "        return f\"<{self.data}>\" #1m\r\n",
    "##[2]"
   ],
   "outputs": [],
   "metadata": {}
  },
  {
   "cell_type": "code",
   "execution_count": null,
   "source": [
    "## Array base\r\n",
    "class LinkedList:\r\n",
    "    def __init__(self,N):\r\n",
    "        self.memory=[Node(None,i+1) for i in range(N)]\r\n",
    "        self.memory[-1].next = None # init array 2 m\r\n",
    "        self.free = 0 #1m for iniit values\r\n",
    "        self.start = None \r\n",
    "\r\n",
    "    def is_full(self):\r\n",
    "        return self.free == None\r\n",
    "\r\n",
    "    def __repr__(self): \r\n",
    "        ret=[]\r\n",
    "        cur_i = self.start \r\n",
    "        while cur_i != None: #1m iterate and extract data \r\n",
    "            ret.append(str(self.memory[cur_i]))\r\n",
    "            cur_i  = self.memory[cur_i].next\r\n",
    "        return f\"[{','.join(ret)}]\" #1m\r\n",
    "## task 3.1 [6]\r\n",
    "\r\n",
    "    def insert(self,pos, node):\r\n",
    "        if self.is_full():\r\n",
    "            return False #1m\r\n",
    "        ## get free node, update free list,1m\r\n",
    "        free_i = self.free\r\n",
    "        self.free = self.memory[self.free].next\r\n",
    "\r\n",
    "        if self.start == None: ## empty list 1m\r\n",
    "            node.next = None\r\n",
    "            self.memory[free_i] = node\r\n",
    "            self.start = free_i\r\n",
    "            return True\r\n",
    "        elif pos == 1: ## insert at start of list,1m\r\n",
    "            node.next = self.start\r\n",
    "            self.start = free_i\r\n",
    "            self.memory[free_i] = node\r\n",
    "            return True\r\n",
    "        else:\r\n",
    "            def _recur(prev_i, cur_i, pos):\r\n",
    "                if pos == 1 or cur_i == None: #2 base case 2m\r\n",
    "                    node.next = cur_i #update refs 1m\r\n",
    "                    self.memory[prev_i].next = free_i\r\n",
    "                    self.memory[free_i] = node\r\n",
    "                    return True\r\n",
    "                else: # recusrive step 1m\r\n",
    "                    return _recur(cur_i, self.memory[cur_i].next, pos-1)\r\n",
    "            #bootstrap 1m        \r\n",
    "            return _recur(self.start, self.memory[self.start].next, pos-1)\r\n",
    "    ##[8]\r\n",
    "    def delete(self,pos): ## pos must be <= curent length of LL\r\n",
    "        if self.start == None: #1m\r\n",
    "            return False\r\n",
    "        if pos == 1 : # delete start 1m\r\n",
    "            del_i = self.start # 1m update pointers\r\n",
    "            self.start = self.memory[self.start].next\r\n",
    "            self.memory[del_i].next = self.free\r\n",
    "            self.memory[del_i].data = None\r\n",
    "            self.free = del_i\r\n",
    "            return True\r\n",
    "        else:\r\n",
    "            def _recur(prev_i, cur_i, pos):\r\n",
    "                if cur_i == None:\r\n",
    "                    return False # position not found 1m\r\n",
    "                if pos == 1: # position found 2m\r\n",
    "                    self.memory[prev_i].next = self.memory[cur_i].next \r\n",
    "                    self.memory[cur_i].next = self.free\r\n",
    "                    self.memory[cur_i].data = None\r\n",
    "                    self.free = cur_i\r\n",
    "                    return True\r\n",
    "                else:# recursive step 1m\r\n",
    "                    return _recur(cur_i, self.memory[cur_i].next, pos-1) \r\n",
    "            #boot strap 1m\r\n",
    "            return _recur(self.start,self.memory[self.start].next, pos-1)\r\n",
    "    ##[7]\r\n",
    "    ## 3.2 [15]\r\n",
    "    def insert_seq(self,pos,nodes):\r\n",
    "        for i, node in  enumerate(nodes): #2m need node and position\r\n",
    "            if not self.insert(pos+i, node): #1m check for no more slots\r\n",
    "                print(\"insert\",pos+i)\r\n",
    "                return False\r\n",
    "        return True\r\n",
    "    ##[3]"
   ],
   "outputs": [],
   "metadata": {}
  },
  {
   "cell_type": "code",
   "execution_count": null,
   "source": [
    "ll = LinkedList(10)\r\n",
    "ll.insert(1,Node(0.3))\r\n",
    "ll.insert(2,Node(2))\r\n",
    "ll.insert(3,Node(3))\r\n",
    "\r\n",
    "print(ll.delete(6))\r\n",
    "ll.insert(15,Node(33))\r\n",
    "\r\n",
    "print(ll)"
   ],
   "outputs": [],
   "metadata": {}
  },
  {
   "cell_type": "code",
   "execution_count": null,
   "source": [
    "ll = LinkedList(10)\r\n",
    "nn=[Node(1),Node(2),Node(3)]\r\n",
    "ll.insert_seq(1,nn)"
   ],
   "outputs": [],
   "metadata": {}
  },
  {
   "cell_type": "code",
   "execution_count": null,
   "source": [
    "ll = LinkedList(10)\r\n",
    "ll.insert_seq(1,[Node(1),Node(2),Node(3)])\r\n"
   ],
   "outputs": [],
   "metadata": {}
  },
  {
   "cell_type": "code",
   "execution_count": null,
   "source": [
    "## 3.4\r\n",
    "f=open('Nodes.txt',\"r\")\r\n",
    "ll = LinkedList(10)\r\n",
    "for line in f:\r\n",
    "    p,n = line.split(\",\") #1m\r\n",
    "    node=eval(n)\r\n",
    "    ll.insert(int(p),node)\r\n",
    "print(ll)\r\n",
    "ll.delete(6)\r\n",
    "ll.delete(9)\r\n",
    "print(ll)"
   ],
   "outputs": [],
   "metadata": {}
  },
  {
   "cell_type": "code",
   "execution_count": null,
   "source": [
    "## Generate Nodes.txt\r\n",
    "import random, datetime\r\n",
    "f=open(\"Nodes.txt\",\"w\")\r\n",
    "for _ in range(10):\r\n",
    "    rand_i = random.randint(1,10)\r\n",
    "    f.write(f\"{rand_i},Node({rand_i})\"+\"\\n\")\r\n",
    "f.close()"
   ],
   "outputs": [],
   "metadata": {}
  }
 ],
 "metadata": {
  "orig_nbformat": 4,
  "language_info": {
   "name": "python",
   "version": "3.6.4",
   "mimetype": "text/x-python",
   "codemirror_mode": {
    "name": "ipython",
    "version": 3
   },
   "pygments_lexer": "ipython3",
   "nbconvert_exporter": "python",
   "file_extension": ".py"
  },
  "kernelspec": {
   "name": "python3",
   "display_name": "Python 3.6.4 64-bit"
  },
  "interpreter": {
   "hash": "f7291e4b392a32fbfa525b87d1bbd0a3d888adf3d0deca0c205c61b9e7284b82"
  }
 },
 "nbformat": 4,
 "nbformat_minor": 2
}