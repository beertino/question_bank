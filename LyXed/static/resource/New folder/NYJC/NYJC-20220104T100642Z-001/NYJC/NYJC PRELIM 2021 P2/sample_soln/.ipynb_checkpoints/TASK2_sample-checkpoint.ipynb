{
 "cells": [
  {
   "cell_type": "code",
   "execution_count": 1,
   "metadata": {},
   "outputs": [],
   "source": [
    "# Task 2.1\n",
    "# Date: 18/08/2021\n",
    "# Author: Sample\n",
    "# Description: Code for Task 2.1\n",
    "# Version: 1\n",
    "\n",
    "class TodoList:\n",
    "    '''A class representing a LinkedList'''\n",
    "    def __init__(self):\n",
    "        self.__head = None\n",
    "        self.__tail = None\n",
    "    \n",
    "    def add(self, item):\n",
    "        node = TodoItem(item)\n",
    "        if self.__head is None:\n",
    "            self.__head = node\n",
    "            if self.__tail is None:\n",
    "                self.__tail = node\n",
    "            return\n",
    "        self.__tail.link_to(node)\n",
    "        self.__tail = node\n",
    "    \n",
    "    def remove(self, item):\n",
    "        # handle empty TodoList\n",
    "        if self.__head is None:\n",
    "            return\n",
    "        this = self.__head\n",
    "\n",
    "        # Check if head matches\n",
    "        if this.title == item:\n",
    "            # Remove head, point __head to next node\n",
    "            self.__head = this.next()\n",
    "            del this\n",
    "            return\n",
    "        \n",
    "        # If head does not match, check next node\n",
    "        # We want to keep the reference to previous node\n",
    "        # so that we can link it to the next node for removal\n",
    "        while this is not self.__tail:\n",
    "            if this.next().title == item:\n",
    "                # Link this node to next next node\n",
    "                # this -> this.next() -> this.next().next()\n",
    "                #  to be removed^\n",
    "                _ = this.next()\n",
    "                this.link_to(this.next().next())\n",
    "                del _\n",
    "                return\n",
    "    \n",
    "    def list(self):\n",
    "        '''returns a list of items in TodoList'''\n",
    "        arr = []\n",
    "        this = self.__head\n",
    "        while this is not None:\n",
    "            arr += [this.title]\n",
    "            this = this.next()\n",
    "        # reached end of LinkedList\n",
    "        return arr\n",
    "\n",
    "class TodoItem:\n",
    "    '''A class representing a node of a LinkedList'''\n",
    "    def __init__(self, title):\n",
    "        self.title = title\n",
    "        self.__next = None\n",
    "    \n",
    "    def next(self):\n",
    "        return self.__next\n",
    "    \n",
    "    def link_to(self, todoitem):\n",
    "        '''Links current TodoItem to todoitem'''\n",
    "        self.__next = todoitem"
   ]
  },
  {
   "cell_type": "code",
   "execution_count": 2,
   "metadata": {},
   "outputs": [
    {
     "data": {
      "text/plain": [
       "['Buy milk', 'Buy flour', 'Buy eggs', 'Bake cake']"
      ]
     },
     "execution_count": 2,
     "metadata": {},
     "output_type": "execute_result"
    }
   ],
   "source": [
    "# Task 2.2\n",
    "# Date: 18/08/2021\n",
    "# Author: Sample\n",
    "# Description: Code for Task 2.2\n",
    "# Version: 1\n",
    "\n",
    "tl = TodoList()\n",
    "tl.add('Buy milk')\n",
    "tl.add('Buy flour')\n",
    "tl.add('Buy eggs')\n",
    "tl.add('Bake cake')\n",
    "tl.list()"
   ]
  },
  {
   "cell_type": "code",
   "execution_count": 3,
   "metadata": {},
   "outputs": [
    {
     "data": {
      "text/plain": [
       "['Buy flour', 'Bake cake']"
      ]
     },
     "execution_count": 3,
     "metadata": {},
     "output_type": "execute_result"
    }
   ],
   "source": [
    "# Task 2.3\n",
    "# Date: 18/08/2021\n",
    "# Author: Sample\n",
    "# Description: Code for Task 2.3\n",
    "# Version: 1\n",
    "\n",
    "tl.remove('Buy milk')\n",
    "tl.remove('Buy eggs')\n",
    "tl.list()"
   ]
  }
 ],
 "metadata": {
  "kernelspec": {
   "display_name": "Python 3",
   "language": "python",
   "name": "python3"
  },
  "language_info": {
   "codemirror_mode": {
    "name": "ipython",
    "version": 3
   },
   "file_extension": ".py",
   "mimetype": "text/x-python",
   "name": "python",
   "nbconvert_exporter": "python",
   "pygments_lexer": "ipython3",
   "version": "3.6.4"
  }
 },
 "nbformat": 4,
 "nbformat_minor": 2
}
