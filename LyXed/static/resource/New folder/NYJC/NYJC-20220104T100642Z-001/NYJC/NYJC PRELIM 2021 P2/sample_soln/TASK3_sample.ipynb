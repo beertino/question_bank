{
 "cells": [
  {
   "cell_type": "code",
   "execution_count": 1,
   "metadata": {},
   "outputs": [],
   "source": [
    "# Task 3.1\n",
    "# Date: 18/08/2021\n",
    "# Author: Sample\n",
    "# Description: Code for Task 3.1\n",
    "# Version: 1\n",
    "\n",
    "def hex2dec(hexval: str):\n",
    "    '''\n",
    "    Takes in hexval, a two-digit hex value\n",
    "    Returns a decimal integer\n",
    "    '''\n",
    "    hexdecmap = {\n",
    "        '0': 0,\n",
    "        '1': 1,\n",
    "        '2': 2,\n",
    "        '3': 3,\n",
    "        '4': 4,\n",
    "        '5': 5,\n",
    "        '6': 6,\n",
    "        '7': 7,\n",
    "        '8': 8,\n",
    "        '9': 9,\n",
    "        'A': 10,\n",
    "        'B': 11,\n",
    "        'C': 12,\n",
    "        'D': 13,\n",
    "        'E': 14,\n",
    "        'F': 15,\n",
    "    }\n",
    "    return (hexdecmap[hexval[0]] * 16) + hexdecmap[hexval[1]]\n",
    "\n",
    "def task3_1(hex_):\n",
    "    '''\n",
    "    takes hex, a string beginning with #, representing a hex code\n",
    "    each hexadecimal value is between 00 and FF\n",
    "    return 3-integer tuple\n",
    "    or\n",
    "    return \"invalid data\"\n",
    "    '''\n",
    "    # Format check\n",
    "    if type(hex_) != str:\n",
    "        return \"invalid data\"\n",
    "    if len(hex_) != 7 or hex_[0] != '#':\n",
    "        return \"invalid data\"\n",
    "    # Value check\n",
    "    for char in hex_[1:]:\n",
    "        if char not in '0123456789ABCDEF':\n",
    "            return \"invalid data\"\n",
    "    # hex to dec conversion\n",
    "    r = hex2dec(hex_[1:3])\n",
    "    g = hex2dec(hex_[3:5])\n",
    "    b = hex2dec(hex_[5:])\n",
    "    return (r, g, b)"
   ]
  },
  {
   "cell_type": "code",
   "execution_count": 2,
   "metadata": {},
   "outputs": [
    {
     "name": "stdout",
     "output_type": "stream",
     "text": [
      "(170, 170, 170)\n",
      "(153, 153, 153)\n",
      "(1, 1, 1)\n",
      "invalid data\n",
      "invalid data\n",
      "invalid data\n",
      "invalid data\n",
      "invalid data\n"
     ]
    }
   ],
   "source": [
    "# Normal data\n",
    "print(task3_1('#AAAAAA'))\n",
    "print(task3_1('#999999'))\n",
    "print(task3_1('#010101'))\n",
    "\n",
    "# Abnormal data\n",
    "print(task3_1('FFFFFF'))\n",
    "print(task3_1(''))\n",
    "print(task3_1(True))\n",
    "\n",
    "# Extreme data\n",
    "print(task3_1('#FFFFFFFFF'))\n",
    "print(task3_1('#000'))"
   ]
  },
  {
   "cell_type": "code",
   "execution_count": 3,
   "metadata": {},
   "outputs": [],
   "source": [
    "# Task 3.2\n",
    "# Date: 18/08/2021\n",
    "# Author: Sample\n",
    "# Description: Code for Task 3.2\n",
    "# Version: 1\n",
    "\n",
    "def task3_2(rgb):\n",
    "    '''\n",
    "    Takes in a 3-integer tuple rgb representing RGB values (int)\n",
    "    returns a 3-float tuple representing normalised RGB\n",
    "    or \n",
    "    return \"invalid data\"\n",
    "    '''\n",
    "    if type(rgb) != tuple:\n",
    "        return \"invalid data\"\n",
    "    if rgb[0] < 0 or rgb[0] > 255:\n",
    "        return \"invalid data\"\n",
    "    if rgb[1] < 0 or rgb[0] > 255:\n",
    "        return \"invalid data\"\n",
    "    if rgb[2] < 0 or rgb[0] > 255:\n",
    "        return \"invalid data\"\n",
    "    \n",
    "    return (rgb[0]/255, rgb[1]/255, rgb[2]/255)"
   ]
  },
  {
   "cell_type": "code",
   "execution_count": 4,
   "metadata": {},
   "outputs": [
    {
     "name": "stdout",
     "output_type": "stream",
     "text": [
      "(0.39215686274509803, 0.39215686274509803, 0.39215686274509803)\n",
      "(1.0, 1.0, 1.0)\n",
      "(0.0, 0.0, 0.0)\n",
      "invalid data\n",
      "invalid data\n",
      "invalid data\n",
      "invalid data\n",
      "invalid data\n"
     ]
    }
   ],
   "source": [
    "# Normal data\n",
    "print(task3_2((100, 100, 100)))\n",
    "print(task3_2((255, 255, 255)))\n",
    "print(task3_2((0, 0, 0)))\n",
    "\n",
    "# Abnormal data\n",
    "print(task3_2('(100, 100, 100)'))\n",
    "print(task3_2(''))\n",
    "print(task3_2(True))\n",
    "\n",
    "# Extreme data\n",
    "print(task3_2((1000, 1000, 1000)))\n",
    "print(task3_2((-10, -10, -10)))"
   ]
  },
  {
   "cell_type": "code",
   "execution_count": 5,
   "metadata": {},
   "outputs": [],
   "source": [
    "# Task 3.3\n",
    "# Date: 18/08/2021\n",
    "# Author: Sample\n",
    "# Description: Code for Task 3.3\n",
    "# Version: 1\n",
    "\n",
    "def task3_3(hex_):\n",
    "    '''\n",
    "    takes hex, a string beginning with #, representing a hex code\n",
    "    each hexadecimal value is between 00 and FF\n",
    "    returns a 3-float tuple representing normalised RGB\n",
    "    or \n",
    "    return \"invalid data\"\n",
    "    '''\n",
    "    rgb = task3_1(hex_)\n",
    "    # average r, g, and b values\n",
    "    r, g, b = rgb  # tuple unpacking\n",
    "    avg = (r + g + b) / 3\n",
    "    norm_rgb = task3_2((avg, avg, avg))\n",
    "    return norm_rgb"
   ]
  },
  {
   "cell_type": "code",
   "execution_count": 6,
   "metadata": {},
   "outputs": [
    {
     "name": "stdout",
     "output_type": "stream",
     "text": [
      "(0.5006535947712418, 0.5006535947712418, 0.5006535947712418)\n",
      "(0.2, 0.2, 0.2)\n"
     ]
    }
   ],
   "source": [
    "print(task3_3(\"#FF8000\"))\n",
    "print(task3_3(\"#113355\"))"
   ]
  }
 ],
 "metadata": {
  "kernelspec": {
   "display_name": "Python 3",
   "language": "python",
   "name": "python3"
  },
  "language_info": {
   "codemirror_mode": {
    "name": "ipython",
    "version": 3
   },
   "file_extension": ".py",
   "mimetype": "text/x-python",
   "name": "python",
   "nbconvert_exporter": "python",
   "pygments_lexer": "ipython3",
   "version": "3.6.4"
  }
 },
 "nbformat": 4,
 "nbformat_minor": 2
}
