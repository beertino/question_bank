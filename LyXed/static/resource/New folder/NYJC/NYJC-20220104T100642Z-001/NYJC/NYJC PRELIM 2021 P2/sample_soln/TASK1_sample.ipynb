{
 "cells": [
  {
   "cell_type": "code",
   "execution_count": 1,
   "metadata": {},
   "outputs": [
    {
     "name": "stdout",
     "output_type": "stream",
     "text": [
      "Highest tide: 7.4\n",
      "Lowest tide: 0.1\n"
     ]
    }
   ],
   "source": [
    "# Task 1.1\n",
    "# Date: 18/08/2021\n",
    "# Author: Sample\n",
    "# Description: Code for Task 1.1\n",
    "# Version: 1\n",
    "\n",
    "with open('TIDES.txt', 'r') as f:\n",
    "    lowest = 10\n",
    "    highest = 0\n",
    "    for line in f:\n",
    "        row = line.strip().split('\\t')\n",
    "        tide_type = row[2]\n",
    "        tide = float(row[3])\n",
    "        if tide_type == 'LOW':\n",
    "            # compare with lowest\n",
    "            if tide < lowest:\n",
    "                lowest = tide\n",
    "        elif tide_type == 'HIGH':\n",
    "            # compare with highest\n",
    "            if tide > highest:\n",
    "                highest = tide\n",
    "    print('Highest tide:', highest)\n",
    "    print('Lowest tide:', lowest)\n",
    "# f.close() is automatically called after code block"
   ]
  },
  {
   "cell_type": "code",
   "execution_count": 2,
   "metadata": {},
   "outputs": [
    {
     "name": "stdout",
     "output_type": "stream",
     "text": [
      "Largest tidal range: 7.300000000000001 occurred on 2017-08-23\n",
      "Smallest tidal range: 3.8 occurred on 2017-08-31\n"
     ]
    }
   ],
   "source": [
    "# Task 1.2\n",
    "# Date: 18/08/2021\n",
    "# Author: Sample\n",
    "# Description: Code for Task 1.2\n",
    "# Version: 1\n",
    "\n",
    "with open('TIDES.txt', 'r') as f:\n",
    "    prev_tide = None\n",
    "    largest_range = 0\n",
    "    smallest_range = 10\n",
    "    largest_prev_date = None\n",
    "    smallest_prev_date = None\n",
    "    for line in f:\n",
    "        row = line.strip().split('\\t')\n",
    "        date = row[0]\n",
    "        tide = float(row[3])\n",
    "        if prev_tide is not None:\n",
    "            # Calculate tidal range\n",
    "            tidal_range = abs(tide - prev_tide)\n",
    "            # compare tidal ranges with largest and smallest\n",
    "            if tidal_range > largest_range:\n",
    "                largest_range = tidal_range\n",
    "                largest_prev_date = date\n",
    "            if tidal_range < smallest_range:\n",
    "                smallest_range = tidal_range\n",
    "                smallest_prev_date = date\n",
    "        # Update prev tide value\n",
    "        prev_tide = tide\n",
    "    print('Largest tidal range:', largest_range, 'occurred on', largest_prev_date)\n",
    "    print('Smallest tidal range:', smallest_range, 'occurred on', smallest_prev_date)\n",
    "# f.close() is automatically called after code block"
   ]
  }
 ],
 "metadata": {
  "kernelspec": {
   "display_name": "Python 3",
   "language": "python",
   "name": "python3"
  },
  "language_info": {
   "codemirror_mode": {
    "name": "ipython",
    "version": 3
   },
   "file_extension": ".py",
   "mimetype": "text/x-python",
   "name": "python",
   "nbconvert_exporter": "python",
   "pygments_lexer": "ipython3",
   "version": "3.6.4"
  }
 },
 "nbformat": 4,
 "nbformat_minor": 2
}
