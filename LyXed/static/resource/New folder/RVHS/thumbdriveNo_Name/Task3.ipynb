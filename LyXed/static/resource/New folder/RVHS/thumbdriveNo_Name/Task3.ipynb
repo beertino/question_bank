{
 "cells": [
  {
   "cell_type": "code",
   "execution_count": 1,
   "metadata": {},
   "outputs": [],
   "source": [
    "# Task 3.1\n",
    "# Write program code to read the csv file \"health_facilities.csv\" and insert all information in the file as documents\n",
    "# into a NoSQL MongoDB database called \"Health\" with one collection called \"facilities\".\n",
    "# The \"_id\" of the documents in the database should start from 1, 2, 3 and 4 etc. \n",
    "# The correct data type of each field is expected to be inserted into the database.\n",
    "\n",
    "from pymongo import MongoClient\n",
    "import csv\n",
    "\n",
    "#Your code below\n",
    "pass"
   ]
  },
  {
   "cell_type": "code",
   "execution_count": 2,
   "metadata": {},
   "outputs": [],
   "source": [
    "# Task 3.2 \n",
    "# a) Write a MongoDB Pymongo query to retrieve public acute hospital documents with\n",
    "# their corresponding number of beds more than 7200. #[4]\n",
    "pass\n",
    "\n",
    "# b) Write program code to bubble sort the results retrieved in Task 3.2 a) according to\n",
    "# the average number of beds per facility. Then, display the top 3 years which has the \n",
    "# highest average number of beds per facility using the format below.\n",
    "# \"The three years that have the lowest average number of beds per facility are: _____, _____ and _____.\"\n",
    "\n",
    "#Your code below\n",
    "pass\n"
   ]
  },
  {
   "cell_type": "code",
   "execution_count": 3,
   "metadata": {},
   "outputs": [],
   "source": [
    "# Task 3.3\n",
    "# a) Write a MongoDB Pymongo query and program code to display all \"_id\"s that involve all Not-for-Profit\n",
    "# health facilities documents that have no facility. #[2(query + display filter) + 1(display ids)]\n",
    "pass\n",
    "    \n",
    "# b) Write a MongoDB Pymongo code to update the fields \"no_of_facilities\" and \"no_beds\" of only 3 records\n",
    "# retrieved in Task 3.3 a) to 1 and a random number from 10 to 20 respectively.\n",
    "pass\n"
   ]
  },
  {
   "cell_type": "code",
   "execution_count": null,
   "metadata": {},
   "outputs": [],
   "source": []
  }
 ],
 "metadata": {
  "kernelspec": {
   "display_name": "Python 3",
   "language": "python",
   "name": "python3"
  },
  "language_info": {
   "codemirror_mode": {
    "name": "ipython",
    "version": 3
   },
   "file_extension": ".py",
   "mimetype": "text/x-python",
   "name": "python",
   "nbconvert_exporter": "python",
   "pygments_lexer": "ipython3",
   "version": "3.7.2"
  }
 },
 "nbformat": 4,
 "nbformat_minor": 2
}
