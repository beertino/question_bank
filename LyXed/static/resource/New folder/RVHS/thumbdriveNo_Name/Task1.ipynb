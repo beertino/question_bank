{
 "cells": [
  {
   "cell_type": "code",
   "execution_count": 1,
   "metadata": {},
   "outputs": [
    {
     "name": "stdout",
     "output_type": "stream",
     "text": [
      "None\n",
      "None\n",
      "None\n",
      "None\n"
     ]
    }
   ],
   "source": [
    "# Task 1.1\n",
    "# Write a function task1_1(name_A, name_B) where name_A and name_B are strings \n",
    "# which consists of alphabet letters and spaces. The function will return True if \n",
    "# A) The alphabet letters used in string name_A and name_B are the same and\n",
    "# B) the spaces in string name_A and name_B are at the same locations.\n",
    "# For example,\n",
    "# >>> match_names(\"Abcde\", \"Deabc\")\n",
    "# True\n",
    "# >>> match_names(\"Abcde Fgh I\", \"Ihgfe Dcb A\")\n",
    "# True\n",
    "# >>> match_names(\"Abcd Efgh I\", \"Ihgfe Dcb A\")\n",
    "# False\n",
    "# >>> match_names(\"Abcde Fzh I\", \"Ihgfe Dcb A\")\n",
    "# False\n",
    "def task1_1(name_A, name_B):\n",
    "    pass\n",
    "\n",
    "def quick_test():\n",
    "    print(task1_1(\"Abcde\", \"Deabc\")) #True\n",
    "    print(task1_1(\"Abcde Fgh I\", \"Ihgfe Dcb A\")) #True\n",
    "    print(task1_1(\"Abcd Efgh I\", \"Ihgfe Dcb A\")) #False\n",
    "    print(task1_1(\"Abcde Fzh I\", \"Ihgfe Dcb A\")) #False\n",
    "quick_test()"
   ]
  },
  {
   "cell_type": "code",
   "execution_count": 2,
   "metadata": {},
   "outputs": [],
   "source": [
    "def task1_2():\n",
    "    pass\n",
    "\n",
    "task1_2()"
   ]
  },
  {
   "cell_type": "code",
   "execution_count": null,
   "metadata": {},
   "outputs": [],
   "source": []
  }
 ],
 "metadata": {
  "kernelspec": {
   "display_name": "Python 3",
   "language": "python",
   "name": "python3"
  },
  "language_info": {
   "codemirror_mode": {
    "name": "ipython",
    "version": 3
   },
   "file_extension": ".py",
   "mimetype": "text/x-python",
   "name": "python",
   "nbconvert_exporter": "python",
   "pygments_lexer": "ipython3",
   "version": "3.7.2"
  }
 },
 "nbformat": 4,
 "nbformat_minor": 2
}
