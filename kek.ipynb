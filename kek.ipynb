{
 "cells": [
  {
   "cell_type": "code",
   "execution_count": 5,
   "metadata": {},
   "outputs": [
    {
     "name": "stdout",
     "output_type": "stream",
     "text": [
      "helloworld\n",
      "codequest\n",
      "lockheed\n"
     ]
    }
   ],
   "source": [
    "# Code Quest 2022\n",
    "# Problem 1: Null Cipher\n",
    "# The idea is to iterate through the list of characters and whenever, we found a vowel during the iteration, we will add the character next to it to a list \n",
    "\n",
    "s_1 = 'fksahnlgueyilfhnalfkjnhdssaokjfhndsfiwaourhnfdjgbalfkjshedfnsf'\n",
    "s_2 = 'mkjmnacioudhrieeqwthyiugueresjfgwatfhwghfnhgnffn'\n",
    "s_3 ='elruoqywicwnjksakvfbsgyohuehnghiefhggadfgsfsfs'\n",
    "\n",
    "def reveal(s:str):\n",
    "    vowel_list = ['a','e','i','o','u']\n",
    "    s=list(s)\n",
    "    hidden_message = []\n",
    "    i = 0\n",
    "    while i < len(s):\n",
    "        if s[i] in vowel_list: #found a vowel\n",
    "            hidden_message.append(s[i+1]) #add the character next to the vowel\n",
    "            i += 2 #skipping the check for the character added.\n",
    "        else:\n",
    "            i += 1\n",
    "    hidden_message = ''.join(hidden_message)\n",
    "    return hidden_message\n",
    "\n",
    "for i in [s_1,s_2,s_3]:\n",
    "    print(reveal(i))"
   ]
  },
  {
   "cell_type": "code",
   "execution_count": 7,
   "metadata": {},
   "outputs": [
    {
     "name": "stdout",
     "output_type": "stream",
     "text": [
      "300\n",
      "500\n"
     ]
    }
   ],
   "source": [
    "# Code Quest 2022\n",
    "# Problem 2: Leak Loss\n",
    "# Just need to define a function\n",
    "\n",
    "tests = [[700,10,3],[2000,100,20]]\n",
    "\n",
    "def volume_waste(volume_pool,rate_of_fill,rate_of_leak):\n",
    "    return (volume_pool)/(rate_of_fill-rate_of_leak)*rate_of_leak\n",
    "\n",
    "for test in tests:\n",
    "    print(round(volume_waste(test[0],test[1],test[2])))"
   ]
  },
  {
   "cell_type": "code",
   "execution_count": 10,
   "metadata": {},
   "outputs": [
    {
     "name": "stdout",
     "output_type": "stream",
     "text": [
      "['Cannon', 'Deck']\n"
     ]
    }
   ],
   "source": [
    "# Code Quest 2022\n",
    "# Problem 3: The Good Ship Input\n",
    "# The output needs to be sorted in ascending alphabetical order\n",
    "\n",
    "database_names = ['Cannon','Engine','Helm','Deck','Anchor']\n",
    "working_names = ['Engine','Helm','Anchor']\n",
    "\n",
    "def need_inspection(database_names,working_names):\n",
    "    for facility in working_names:\n",
    "        database_names.remove(facility)\n",
    "    return sorted(database_names)\n",
    "\n",
    "print(need_inspection(database_names,working_names))"
   ]
  },
  {
   "cell_type": "code",
   "execution_count": 11,
   "metadata": {},
   "outputs": [
    {
     "name": "stdout",
     "output_type": "stream",
     "text": [
      "This is amazing\n",
      "Cant you  yes you  remove all the special characters\n",
      "Anything not a letter numb3r or space should go\n"
     ]
    }
   ],
   "source": [
    "# Code Quest 2022\n",
    "# Problem 4: Special Treatment\n",
    "# isalnum() and isspace() are handy to use here. \n",
    "\n",
    "tests = [\n",
    "        'This “is” amazing!',\n",
    "        'Can’t you - yes, you - remove all the special characters?',\n",
    "        'Anything /not/ a letter, numb3r, or _space_ should go.']\n",
    "\n",
    "def special_remover(input_string:str):\n",
    "    sanitised = ''\n",
    "    for c in input_string:\n",
    "        if c.isalnum() or c.isspace():\n",
    "            sanitised += c\n",
    "    return sanitised\n",
    "\n",
    "for t in tests:\n",
    "    print(special_remover(t))\n"
   ]
  },
  {
   "cell_type": "code",
   "execution_count": 16,
   "metadata": {},
   "outputs": [
    {
     "name": "stdout",
     "output_type": "stream",
     "text": [
      "Peter Gibbons [9, 1]\n",
      "Milton Waddams [40, 0]\n",
      "Bill Lumbergh [36, 56]\n"
     ]
    }
   ],
   "source": [
    "tests = ['Peter Gibbons,01:23,04:16,00:59,02:23,00:00','Milton Waddams,08:00,08:00,08:00,08:00,08:00','Bill Lumbergh,08:31,07:59,06:01,08:55,05:30']\n",
    "\n",
    "def time_adder(time_ls:list):\n",
    "    hr = 0\n",
    "    minute = 0\n",
    "    for elem in time_ls:\n",
    "        elem = elem.split(\":\")\n",
    "        hr += int(elem[0])\n",
    "        minute += int(elem[1])\n",
    "    hr = hr + minute//60\n",
    "    minute = minute % 60\n",
    "    return [hr,minute]\n",
    "\n",
    "for t in tests:\n",
    "    t = t.split(',')\n",
    "    name = t[0]\n",
    "    time_ls = t[1:]\n",
    "    print(name,time_adder(time_ls))\n",
    "    "
   ]
  },
  {
   "cell_type": "code",
   "execution_count": null,
   "metadata": {},
   "outputs": [],
   "source": []
  }
 ],
 "metadata": {
  "interpreter": {
   "hash": "9855bcb2db2fc1adb021fa4ac9c7dfbb81452ef889b3ef5659154f2722c9fc88"
  },
  "kernelspec": {
   "display_name": "Python 3.7.6 ('base')",
   "language": "python",
   "name": "python3"
  },
  "language_info": {
   "codemirror_mode": {
    "name": "ipython",
    "version": 3
   },
   "file_extension": ".py",
   "mimetype": "text/x-python",
   "name": "python",
   "nbconvert_exporter": "python",
   "pygments_lexer": "ipython3",
   "version": "3.7.6"
  },
  "orig_nbformat": 4
 },
 "nbformat": 4,
 "nbformat_minor": 2
}
