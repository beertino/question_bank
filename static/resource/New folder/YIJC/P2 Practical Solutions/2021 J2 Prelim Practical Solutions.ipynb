{
 "cells": [
  {
   "cell_type": "markdown",
   "metadata": {
    "id": "OZbMk2Kk67el"
   },
   "source": [
    "# 2021 JC2 H2 Computing Prelim Exam\n",
    "\n",
    "1. Complete all the tasks for questions 1, 2 and 4 this Jupyter notebook file.\n",
    "2. Rename this file as (your class)_(your name).ipynb"
   ]
  },
  {
   "cell_type": "code",
   "execution_count": null,
   "metadata": {
    "id": "XZKc3lDN67ep",
    "outputId": "9a93ca41-cb61-4b2b-ad8d-b767cf1407b1"
   },
   "outputs": [],
   "source": [
    "#Please enter your FULL name in the following line and then run this cell.\n",
    "\n",
    "name = ''  # Enter your name BETWEEN the quotations\n",
    "\n",
    "\n",
    "# DO NOT modify the following code:\n",
    "print('My name is {}.'.format(name))\n"
   ]
  },
  {
   "cell_type": "markdown",
   "metadata": {
    "id": "GK_is5OM67es"
   },
   "source": [
    "# Question 1"
   ]
  },
  {
   "cell_type": "code",
   "execution_count": null,
   "metadata": {
    "id": "R7fhXiSw67et"
   },
   "outputs": [],
   "source": [
    "#Task 1.1\n",
    "\n",
    "def make_person(tagno,name,hp):\n",
    "    return (int(tagno),str(name),str(hp))\n",
    "\n",
    "#Write a function that returns the name of a person ADT.\n",
    "def get_tag(person):\n",
    "    return person[0]\n",
    "\n",
    "#Write a function that returns the name of a person ADT.\n",
    "def get_name(person):\n",
    "    return person[1]\n",
    "\n",
    "#Write a function to get the phone number from a person ADT   [4 marks]\n",
    "def get_hp(person):                  #[1m each]\n",
    "    return person[2]\n"
   ]
  },
  {
   "cell_type": "code",
   "execution_count": null,
   "metadata": {
    "id": "7-Ta75_F67et"
   },
   "outputs": [],
   "source": [
    "#Test Case for Task 1.1\n",
    "\n",
    "john = make_person(\"123456\",\"John\",\"91234567\")\n",
    "\n",
    "print(get_tag(john))\n",
    "print(get_name(john))\n",
    "print(get_hp(john))\n"
   ]
  },
  {
   "cell_type": "code",
   "execution_count": null,
   "metadata": {
    "id": "ozTyopA967eu"
   },
   "outputs": [],
   "source": [
    "#Task 1.2\n",
    "\n",
    "def read_file():    #                          [5 marks]\n",
    "    f=open('PEOPLE.csv')\n",
    "    next(f) #skip header\n",
    "    lines=f.readlines()\n",
    "    f.close()                                              #[1m open close]\n",
    "    ans=[]                                                 #[1m init and return]\n",
    "    for line in lines:                                     #[1m iterate]\n",
    "        tagno,name,phone=line.strip().split(',')           #[1m separate]\n",
    "        ans.append(make_person(tagno,name,phone))          #[1m use ADT]\n",
    "    return ans                                             #[init/return ans]\n",
    "\n"
   ]
  },
  {
   "cell_type": "code",
   "execution_count": null,
   "metadata": {
    "id": "vHVTyTh367ev"
   },
   "outputs": [],
   "source": [
    "#Test Case for Task 1.2\n",
    "\n",
    "people = read_file()\n",
    "\n",
    "print(people)\n"
   ]
  },
  {
   "cell_type": "code",
   "execution_count": null,
   "metadata": {
    "id": "Sfh9oSUZ67ew"
   },
   "outputs": [],
   "source": [
    "#Task 1.3\n",
    "\n",
    "def insertion_sort(lst):                                    #[5 marks]\n",
    "    for i in range(1,len(lst)):       #[1m Outer for loop starts at 2nd element]\n",
    "        for j in range(i,0,-1):       #[1m Inner for loop starts at first unsorted element]\n",
    "            if get_tag(lst[j])<get_tag(lst[j-1]): #[1m comparison: if need to swap]\n",
    "                lst[j],lst[j-1]=lst[j-1],lst[j] #[1m swap, continue inner loop]\n",
    "            else:\n",
    "                break                 #[1m if j bigger, j at correct pos. break]\n",
    "\n"
   ]
  },
  {
   "cell_type": "code",
   "execution_count": null,
   "metadata": {
    "id": "GHLMI4rw67ex"
   },
   "outputs": [],
   "source": [
    "#Test Case for Task 1.3\n",
    "\n",
    "insertion_sort(people)\n",
    "\n",
    "print(people)\n"
   ]
  },
  {
   "cell_type": "code",
   "execution_count": null,
   "metadata": {
    "id": "jA-F9-gQ67ey"
   },
   "outputs": [],
   "source": [
    "#Task 1.4 (amended by David)\n",
    "\n",
    "def search(plist, tag_number):                       #[8 marks]\n",
    "    low = 0\n",
    "    hi = len(plist) - 1                        #[1m initialise lo hi pointers]\n",
    "    count = 0\n",
    "    \n",
    "    while low <= hi:                         #[1m while loop with appropriate condn]\n",
    "        mid = (low + hi) // 2                    #[1m use middle index]\n",
    "        count += 1                           #[1m correct placement of counting]\n",
    "\n",
    "        if get_tag(plist[mid]) < tag_number: #[1m 3 conditions (or 1m per condition)]\n",
    "            low = mid + 1                      #[1m correct updating pointer]\n",
    "        elif get_tag(plist[mid]) == tag_number:\n",
    "            print('No. of comparision: ', count)    \n",
    "            return plist[mid]              #[1m correct successful return/print count]\n",
    "        else:\n",
    "            hi = mid - 1                       #[   correct updating pointer]\n",
    "\n",
    "    print('No. of comparision: ', count) \n",
    "    return None                            #[1m correct failed return/print count]\n",
    "\n"
   ]
  },
  {
   "cell_type": "code",
   "execution_count": null,
   "metadata": {
    "id": "5IVz5pHw67ey"
   },
   "outputs": [],
   "source": [
    "#Test Case for Task 1.4\n",
    "\n",
    "print(search(people,923072))\n",
    "print(search(people,999999))\n"
   ]
  },
  {
   "cell_type": "markdown",
   "metadata": {
    "id": "ybLx1Teb67ey"
   },
   "source": [
    "# Question 2"
   ]
  },
  {
   "cell_type": "code",
   "execution_count": 2,
   "metadata": {
    "id": "sQ3wpXaH67ez"
   },
   "outputs": [],
   "source": [
    "#Task 2.1 \n",
    "\n",
    "#The all_records array\n",
    "\n",
    "all_records=[None]*20\n",
    "all_records[0] = 444792, 38.4, 5.2, 18.9\n",
    "all_records[1] = 587899, 36.8, 16, 9.1\n",
    "all_records[2] = 957125, 36.7, 17.9, 11.3\n",
    "all_records[3] = 588342, 38.0, 18.6, 6.4\n",
    "all_records[4] = 321034, 38.4, 11.6, 17.5\n",
    "all_records[5] = 876011, 36.2, 16.5, 3.4\n",
    "all_records[6] = 238359, 36.4, 2.3, 12.6\n",
    "all_records[7] = 152539, 36.7, 16.3, 10.2\n",
    "all_records[8] = 983901, 36.4, 5.7, 9.2\n",
    "all_records[9] = 855819, 37.1, 1.3, 19.8\n",
    "all_records[10] = 424127, 36.4, 19.3, 17.3\n",
    "all_records[11] = 923072, 36.2, 13.7, 3.1\n",
    "all_records[12] = 479411, 36.9, 1.3, 12.1\n",
    "all_records[13] = 795569, 38.3, 14.3, 4.9\n",
    "all_records[14] = 578570, 38.0, 6.6, 13.0\n",
    "all_records[15] = 851094, 38.2, 15.4, 7.9\n",
    "all_records[16] = 376146, 36.3, 14.6, 4.5\n",
    "all_records[17] = 584383, 37.9, 14.3, 19.7\n",
    "all_records[18] = 788756, 36.5, 16.5, 0.7\n",
    "all_records[19] = 857165, 36.9, 15.7, 18.3\n",
    "\n",
    "\n",
    "def distance(posrecord1,posrecord2):\n",
    "    xdiff=posrecord1[2]-posrecord2[2]          #[1m x distance]\n",
    "    ydiff=posrecord1[3]-posrecord2[3]          #[   y distance] \n",
    "    return round((xdiff**2+ydiff**2)**0.5,2)   #[2m distance calculation and round off]\n"
   ]
  },
  {
   "cell_type": "code",
   "execution_count": 3,
   "metadata": {
    "id": "fPMtXAZ767ez"
   },
   "outputs": [
    {
     "name": "stdout",
     "output_type": "stream",
     "text": [
      "14.58\n"
     ]
    }
   ],
   "source": [
    "#Testcase for Task 2.1\n",
    "\n",
    "record1 = 444792, 38.4, 5.2, 18.9\n",
    "record2 = 587899, 36.8, 16, 9.1\n",
    "\n",
    "print(distance(record1, record2))\n"
   ]
  },
  {
   "cell_type": "code",
   "execution_count": 4,
   "metadata": {
    "id": "J7TEbXgw67e0"
   },
   "outputs": [],
   "source": [
    "#Task 2.2\n",
    "\n",
    "def analyse(user1):\n",
    "    result = []\n",
    "    for i in range(len(all_records)):            #[1m outer loop i from 0 to end (all)]\n",
    "        recordi = all_records[i]\n",
    "        if recordi[0] == user1[0]:   #[1m avoid including itself]\n",
    "            continue\n",
    "        d = distance(user1,recordi)              #[1m use distance fn]\n",
    "        if d < 1.5:                              #[1m condition]\n",
    "            result.append(recordi[0])\n",
    "    return result                                #[1m init and return]\n",
    "\n"
   ]
  },
  {
   "cell_type": "code",
   "execution_count": 5,
   "metadata": {
    "id": "zaLg2qJx67e0"
   },
   "outputs": [
    {
     "data": {
      "text/plain": [
       "[152539, 851094]"
      ]
     },
     "execution_count": 5,
     "metadata": {},
     "output_type": "execute_result"
    }
   ],
   "source": [
    "#Task 2.2 - Write your test case here\n",
    "\n",
    "analyse(all_records[1])\n"
   ]
  },
  {
   "cell_type": "code",
   "execution_count": 6,
   "metadata": {
    "id": "HZTz5-nb67e1"
   },
   "outputs": [],
   "source": [
    "#Task 2.3\n",
    "\n",
    "def red_list(all_records):\n",
    "    result=[]\n",
    "    for record in all_records:        #[1m iterate]\n",
    "        if record[1]>37.5:            #[1m condition]\n",
    "            result.append(record[0])\n",
    "    return result\n",
    "\n"
   ]
  },
  {
   "cell_type": "code",
   "execution_count": 7,
   "metadata": {
    "id": "5cHoRrr_67e1"
   },
   "outputs": [
    {
     "name": "stdout",
     "output_type": "stream",
     "text": [
      "Tags with high temperature reading: [444792, 588342, 321034, 795569, 578570, 851094, 584383]\n"
     ]
    }
   ],
   "source": [
    "#Task 2.3 - Write your test case here\n",
    "\n",
    "red_cases = red_list(all_records)\n",
    "print(\"Tags with high temperature reading:\",red_cases)\n"
   ]
  },
  {
   "cell_type": "code",
   "execution_count": 8,
   "metadata": {
    "id": "5DKGnheA67e1"
   },
   "outputs": [],
   "source": [
    "#Task 2.4\n",
    "\n",
    "def yellow_list(red_cases, all_records):\n",
    "    result=[]\n",
    "    for tagno in red_cases:                     #[1m for every red case]\n",
    "        for record in all_records: \n",
    "            if record[0]==tagno:\n",
    "                redrecord=record                #[1m Get the record of red case (to calc distance)]\n",
    "                break\n",
    "\n",
    "        for record in all_records:              #[1m iterate through all other records]\n",
    "            if record[0] not in red_cases and record[0] not in result:      #[1m which are not in red case]\n",
    "                d=distance(record,redrecord)    \n",
    "                #print(record[0],redrecord[0],d) #(printing for checking purposes)\n",
    "                if d < 1.5:                     #[1m append on condition]  \n",
    "                    result.append(record[0])\n",
    "    return result\n",
    "\n"
   ]
  },
  {
   "cell_type": "code",
   "execution_count": 9,
   "metadata": {
    "executionInfo": {
     "elapsed": 7,
     "status": "ok",
     "timestamp": 1629771183232,
     "user": {
      "displayName": "Wee Soon Ming [Staff]",
      "photoUrl": "",
      "userId": "13789618854569422949"
     },
     "user_tz": -480
    },
    "id": "oBr0Hh-267e2"
   },
   "outputs": [
    {
     "name": "stdout",
     "output_type": "stream",
     "text": [
      "Yellow list: [376146, 587899]\n"
     ]
    }
   ],
   "source": [
    "#Task 2.4 - Write your test case here\n",
    "\n",
    "print(\"Yellow list:\",yellow_list(red_cases, all_records))\n"
   ]
  },
  {
   "cell_type": "markdown",
   "metadata": {
    "id": "ybLx1Teb67ey"
   },
   "source": [
    "# Question 4"
   ]
  },
  {
   "cell_type": "code",
   "execution_count": 10,
   "metadata": {},
   "outputs": [],
   "source": [
    "# Task 4.1\n",
    "\n",
    "class Node():\n",
    "    def __init__(self, name, exp, pointer=None):     #[1]\n",
    "        self.Name = name\n",
    "        self.Exp = int(exp)\n",
    "        self.Pointer = pointer\n",
    "\n",
    "    def GetName(self):\n",
    "        return self.Name\n",
    "\n",
    "    def GetExp(self):\n",
    "        return self.Exp\n",
    "\n",
    "    def GetPointer(self):\n",
    "        return self.Pointer\n",
    "    \n",
    "    def SetPointer(self, pointer):     #[1]\n",
    "        self.Pointer = pointer\n",
    "\n",
    "    \n",
    "class StudentList():\n",
    "    def __init__(self):                #[1]\n",
    "        self.Start = None\n",
    "        \n",
    "    def Add(self, name, exp): \n",
    "        if self.Start == None:         #[1] adding to an empty list\n",
    "            new_node = Node(name, exp)\n",
    "            self.Start = new_node\n",
    "        else:\n",
    "            this_node = self.Start\n",
    "            new_node = Node(name, exp) \n",
    "            \n",
    "            #Traverse through the linked list:\n",
    "            while this_node:                               #[1] iterating through the linked list\n",
    "                prev_node = this_node\n",
    "                this_node = this_node.GetPointer()\n",
    "            \n",
    "            #When the end of linked list is reached\n",
    "            prev_node.SetPointer(new_node)                 #[1] adding at the end of the linked list\n",
    "                \n",
    "    def Display(self):\n",
    "        if self.Start == None:\n",
    "            print('There is no student in the linked list.')\n",
    "        else:\n",
    "            print('{0:15}|{1:^20}'.format('Name', 'Experience Points'))\n",
    "            print('-'*35)\n",
    "            this_node = self.Start\n",
    "            while this_node:                               #[1] iterating through the linked list\n",
    "                print('{0:15}|{1:^20}'.format(this_node.GetName(), str(this_node.GetExp())))\n",
    "                this_node = this_node.GetPointer()\n",
    "            print()\n",
    "\n",
    "\n",
    "a = StudentList()\n",
    "\n",
    "#Your code to add all data from DATA.txt into a:\n",
    "\n",
    "file = open('DATA.txt')\n",
    "lines = file.readlines()\n",
    "for student in lines:\n",
    "    name, exp = student.strip('\\n').split(',')\n",
    "    a.Add(name, exp)                                       #[1] adding students from DATA.txt into the linked list\n",
    "\n",
    "file.close()\n",
    "\n"
   ]
  },
  {
   "cell_type": "code",
   "execution_count": 11,
   "metadata": {},
   "outputs": [
    {
     "name": "stdout",
     "output_type": "stream",
     "text": [
      "Name           | Experience Points  \n",
      "-----------------------------------\n",
      "ANDREW         |       17616        \n",
      "ANGIE          |       16001        \n",
      "AU YONG        |       15589        \n",
      "AZMAN          |        775         \n",
      "BENG CHOO      |       15411        \n",
      "BOB            |        6244        \n",
      "BRIAN          |       20404        \n",
      "CHARLIE        |        9491        \n",
      "DESMOND        |       20033        \n",
      "GARFIELD       |        8609        \n",
      "HENDERSON      |       21653        \n",
      "HUI FANG       |       20563        \n",
      "ING CHONG      |       11993        \n",
      "ISMAIL         |       11517        \n",
      "JASPER         |       13574        \n",
      "JONG           |        9756        \n",
      "JUNG HIONG     |       16817        \n",
      "KATTIE         |        7580        \n",
      "LENON          |       13299        \n",
      "MCKINSEY       |        1479        \n",
      "MICKEY         |       13919        \n",
      "NING YAN       |        2391        \n",
      "NICHOLAS       |       11494        \n",
      "POLLY          |       11190        \n",
      "PRISCILLA      |       18857        \n",
      "RAY TAN        |       14812        \n",
      "RONNIE YAN     |        6357        \n",
      "SANDY ANG      |       15400        \n",
      "SEE PENG       |        2367        \n",
      "SHI QING       |        7156        \n",
      "SOON ANN       |        7540        \n",
      "SZE CHENG      |       12178        \n",
      "TERRY YEO      |       19420        \n",
      "WALLIAM        |       19017        \n",
      "WENDY GOH      |       15779        \n",
      "XUAN TING      |        8281        \n",
      "YEW LING       |        9661        \n",
      "YOCK TIM       |       20740        \n",
      "YONG ENG       |        985         \n",
      "YZEMIN         |       13938        \n",
      "\n"
     ]
    }
   ],
   "source": [
    "#Testcase for Task 4.1\n",
    "\n",
    "a.Display()\n"
   ]
  },
  {
   "cell_type": "code",
   "execution_count": null,
   "metadata": {},
   "outputs": [],
   "source": [
    "#Task 4.2\n",
    "\n",
    "#Copy and modify your codes from Task 4.1 here\n",
    "\n",
    "class Node():\n",
    "    def __init__(self, name, exp, pointer=None):\n",
    "        self.Name = name\n",
    "        self.Exp = int(exp)\n",
    "        self.Pointer = pointer\n",
    "\n",
    "    def GetName(self):\n",
    "        return self.Name\n",
    "\n",
    "    def GetExp(self):\n",
    "        return self.Exp\n",
    "\n",
    "    def GetPointer(self):\n",
    "        return self.Pointer\n",
    "    \n",
    "    def SetExp(self, exp):          #[1]\n",
    "        self.Exp += exp \n",
    "    \n",
    "    def SetPointer(self, pointer):\n",
    "        self.Pointer = pointer\n",
    "\n",
    "    \n",
    "class StudentList():\n",
    "    def __init__(self):\n",
    "        self.Start = None\n",
    "        \n",
    "    def Add(self, name, exp): \n",
    "        if self.Start == None:\n",
    "            new_node = Node(name, exp)\n",
    "            self.Start = new_node\n",
    "        else:\n",
    "            this_node = self.Start\n",
    "            new_node = Node(name, exp) \n",
    "            \n",
    "            #Traverse through the linked list:\n",
    "            while this_node:\n",
    "                prev_node = this_node\n",
    "                this_node = this_node.GetPointer()\n",
    "            \n",
    "            #When the end of linked list is reached\n",
    "            prev_node.SetPointer(new_node)\n",
    "                \n",
    "    def Display(self):\n",
    "        if self.Start == None:\n",
    "            print('There is no student in the linked list.')\n",
    "        else:\n",
    "            print('{0:15}|{1:^20}'.format('Name', 'Experience Points'))\n",
    "            print('-'*35)\n",
    "            this_node = self.Start\n",
    "            while this_node:\n",
    "                print('{0:15}|{1:^20}'.format(this_node.GetName(), str(this_node.GetExp())))\n",
    "                this_node = this_node.GetPointer()\n",
    "            print()\n",
    "\n",
    "    def Update(self, name, exp):\n",
    "        if self.Start == None:\n",
    "            print('Cannot update a student\\'s exp from an empty linked list.')\n",
    "        \n",
    "        else:\n",
    "            this_node = self.Start            \n",
    "            #Traverse through the linked list:                    #[1]\n",
    "            while this_node:\n",
    "                #condition to update a particular this_node       #[1]\n",
    "                if this_node.GetName() == name:\n",
    "                    this_node.SetExp(exp)\n",
    "                    break\n",
    "                prev_node = this_node\n",
    "                this_node = this_node.GetPointer()\n",
    "\n",
    "\n",
    "\n",
    "b = StudentList()\n",
    "#Your code to add all data from DATA.txt into b:\n",
    "\n",
    "file = open('DATA.txt')\n",
    "lines = file.readlines()\n",
    "for student in lines:\n",
    "    name, exp = student.strip().split(',')\n",
    "    b.Add(name, exp)\n",
    "\n",
    "file.close()\n",
    "\n"
   ]
  },
  {
   "cell_type": "code",
   "execution_count": null,
   "metadata": {},
   "outputs": [],
   "source": [
    "#Testcase for Task 4.2\n",
    "\n",
    "print('Before update:')\n",
    "b.Display()\n",
    "\n",
    "b.Update('BRIAN',100)\n",
    "b.Update('ANDREW',84)\n",
    "b.Update('YZEMIN',62)\n",
    "\n",
    "print('After update:')\n",
    "b.Display()\n"
   ]
  },
  {
   "cell_type": "code",
   "execution_count": 12,
   "metadata": {},
   "outputs": [],
   "source": [
    "#Task 4.3\n",
    "\n",
    "#Copy and modify your codes from Task 4.2 here\n",
    "\n",
    "class Node():\n",
    "    def __init__(self, name, exp, pointer=None):\n",
    "        self.Name = name\n",
    "        self.Exp = int(exp)\n",
    "        self.Pointer = pointer\n",
    "\n",
    "    def GetName(self):\n",
    "        return self.Name\n",
    "\n",
    "    def GetExp(self):\n",
    "        return self.Exp\n",
    "\n",
    "    def GetPointer(self):\n",
    "        return self.Pointer\n",
    "    \n",
    "    def SetExp(self, exp):\n",
    "        self.Exp += exp \n",
    "    \n",
    "    def SetPointer(self, pointer):\n",
    "        self.Pointer = pointer\n",
    "\n",
    "    \n",
    "class StudentList():\n",
    "    def __init__(self):\n",
    "        self.Start = None\n",
    "        \n",
    "    def Add(self, name, exp): \n",
    "        if self.Start == None:\n",
    "            new_node = Node(name, exp)\n",
    "            self.Start = new_node\n",
    "        else:\n",
    "            this_node = self.Start\n",
    "            new_node = Node(name, exp) \n",
    "            \n",
    "            #Traverse through the linked list:\n",
    "            while this_node:\n",
    "                prev_node = this_node\n",
    "                this_node = this_node.GetPointer()\n",
    "            \n",
    "            #When the end of linked list is reached\n",
    "            prev_node.SetPointer(new_node)\n",
    "                \n",
    "    def Display(self):\n",
    "        if self.Start == None:\n",
    "            print('There is no student in the linked list.')\n",
    "        else:\n",
    "            print('{0:15}|{1:^20}'.format('Name', 'Experience Points'))\n",
    "            print('-'*35)\n",
    "            this_node = self.Start\n",
    "            while this_node:\n",
    "                print('{0:15}|{1:^20}'.format(this_node.GetName(), str(this_node.GetExp())))\n",
    "                this_node = this_node.GetPointer()\n",
    "            print()\n",
    "\n",
    "    def Update(self, name, exp):\n",
    "        if self.Start == None:\n",
    "            print('Cannot update a student\\'s exp from an empty linked list.')\n",
    "        \n",
    "        else:\n",
    "            this_node = self.Start            \n",
    "            #Traverse through the linked list:\n",
    "            while this_node:\n",
    "                #condition to update a particular this_node\n",
    "                if this_node.GetName() == name:\n",
    "                    this_node.SetExp(exp)\n",
    "                    break\n",
    "                prev_node = this_node\n",
    "                this_node = this_node.GetPointer()\n",
    "            \n",
    "    def Delete(self, name):\n",
    "        if self.Start == None:\n",
    "            print('Cannot delete a student from an empty linked list.')\n",
    "            return False \n",
    "        \n",
    "        else:\n",
    "            this_node = self.Start\n",
    "            \n",
    "            #If student is in the first node                    #[1]\n",
    "            if this_node.GetName() == name:\n",
    "                self.Start = this_node.GetPointer()\n",
    "                return True\n",
    "            \n",
    "            #Traverse through the linked list:\n",
    "            while this_node.GetPointer():\n",
    "                #condition to delete a particular this_node     #[1]\n",
    "                if this_node.GetName() == name:\n",
    "                    prev_node.SetPointer(this_node.GetPointer())\n",
    "                    return True\n",
    "                prev_node = this_node\n",
    "                this_node = this_node.GetPointer()\n",
    "                \n",
    "            #If student is in the last node                     #[1]\n",
    "            if this_node.GetName() == name:\n",
    "                prev_node.SetPointer(None)\n",
    "                return True\n",
    "            \n",
    "            #If student is not found                            #[1]\n",
    "            else:\n",
    "                print('Student', name, 'is not found.')\n",
    "                return False\n",
    "\n",
    "\n",
    "c = StudentList()\n",
    "\n",
    "#Your code to add all data from DATA.txt into c:\n",
    "\n",
    "file = open('DATA.txt')\n",
    "lines = file.readlines()\n",
    "for student in lines:\n",
    "    name, exp = student.strip().split(',')\n",
    "    c.Add(name, exp)\n"
   ]
  },
  {
   "cell_type": "code",
   "execution_count": 13,
   "metadata": {},
   "outputs": [
    {
     "name": "stdout",
     "output_type": "stream",
     "text": [
      "Before delete:\n",
      "Name           | Experience Points  \n",
      "-----------------------------------\n",
      "ANDREW         |       17616        \n",
      "ANGIE          |       16001        \n",
      "AU YONG        |       15589        \n",
      "AZMAN          |        775         \n",
      "BENG CHOO      |       15411        \n",
      "BOB            |        6244        \n",
      "BRIAN          |       20404        \n",
      "CHARLIE        |        9491        \n",
      "DESMOND        |       20033        \n",
      "GARFIELD       |        8609        \n",
      "HENDERSON      |       21653        \n",
      "HUI FANG       |       20563        \n",
      "ING CHONG      |       11993        \n",
      "ISMAIL         |       11517        \n",
      "JASPER         |       13574        \n",
      "JONG           |        9756        \n",
      "JUNG HIONG     |       16817        \n",
      "KATTIE         |        7580        \n",
      "LENON          |       13299        \n",
      "MCKINSEY       |        1479        \n",
      "MICKEY         |       13919        \n",
      "NING YAN       |        2391        \n",
      "NICHOLAS       |       11494        \n",
      "POLLY          |       11190        \n",
      "PRISCILLA      |       18857        \n",
      "RAY TAN        |       14812        \n",
      "RONNIE YAN     |        6357        \n",
      "SANDY ANG      |       15400        \n",
      "SEE PENG       |        2367        \n",
      "SHI QING       |        7156        \n",
      "SOON ANN       |        7540        \n",
      "SZE CHENG      |       12178        \n",
      "TERRY YEO      |       19420        \n",
      "WALLIAM        |       19017        \n",
      "WENDY GOH      |       15779        \n",
      "XUAN TING      |        8281        \n",
      "YEW LING       |        9661        \n",
      "YOCK TIM       |       20740        \n",
      "YONG ENG       |        985         \n",
      "YZEMIN         |       13938        \n",
      "\n",
      "After delete:\n",
      "Name           | Experience Points  \n",
      "-----------------------------------\n",
      "ANGIE          |       16001        \n",
      "AU YONG        |       15589        \n",
      "AZMAN          |        775         \n",
      "BENG CHOO      |       15411        \n",
      "BOB            |        6244        \n",
      "BRIAN          |       20404        \n",
      "DESMOND        |       20033        \n",
      "GARFIELD       |        8609        \n",
      "HENDERSON      |       21653        \n",
      "HUI FANG       |       20563        \n",
      "ING CHONG      |       11993        \n",
      "ISMAIL         |       11517        \n",
      "JASPER         |       13574        \n",
      "JONG           |        9756        \n",
      "JUNG HIONG     |       16817        \n",
      "KATTIE         |        7580        \n",
      "LENON          |       13299        \n",
      "MCKINSEY       |        1479        \n",
      "MICKEY         |       13919        \n",
      "NING YAN       |        2391        \n",
      "NICHOLAS       |       11494        \n",
      "POLLY          |       11190        \n",
      "PRISCILLA      |       18857        \n",
      "RAY TAN        |       14812        \n",
      "RONNIE YAN     |        6357        \n",
      "SANDY ANG      |       15400        \n",
      "SEE PENG       |        2367        \n",
      "SHI QING       |        7156        \n",
      "SOON ANN       |        7540        \n",
      "SZE CHENG      |       12178        \n",
      "TERRY YEO      |       19420        \n",
      "WALLIAM        |       19017        \n",
      "WENDY GOH      |       15779        \n",
      "XUAN TING      |        8281        \n",
      "YEW LING       |        9661        \n",
      "YOCK TIM       |       20740        \n",
      "YONG ENG       |        985         \n",
      "\n"
     ]
    }
   ],
   "source": [
    "#Testcase for Task 4.3\n",
    "\n",
    "print('Before delete:')\n",
    "c.Display()\n",
    "\n",
    "c.Delete('ANDREW')\n",
    "c.Delete('YZEMIN')\n",
    "c.Delete('CHARLIE')\n",
    "\n",
    "print('After delete:')\n",
    "c.Display()\n"
   ]
  },
  {
   "cell_type": "code",
   "execution_count": null,
   "metadata": {},
   "outputs": [],
   "source": [
    "#Task 4.4\n",
    "\n",
    "class Leaderboard(StudentList):\n",
    "    def __init__(self):\n",
    "        super().__init__()                                   #[1] inherit from StudentList Class\n",
    "        \n",
    "    def Add(self, name, exp): \n",
    "        if self.Start == None:\n",
    "            new_node = Node(name, exp)\n",
    "            self.Start = new_node\n",
    "        else:\n",
    "            this_node = self.Start\n",
    "            prev_node = None\n",
    "            new_node = Node(name, exp) \n",
    "            added = False\n",
    "            \n",
    "            #Traverse through the linked list:\n",
    "            while this_node:\n",
    "                # new_node > this_node\n",
    "                if new_node.GetExp() > this_node.GetExp():   #[1] comparison of exp\n",
    "                    new_node.SetPointer(this_node)\n",
    "                    if prev_node == None:                    #[1] adding in front of the first node\n",
    "                        self.Start = new_node\n",
    "                    else:\n",
    "                        prev_node.SetPointer(new_node)       #[1] adding in between two nodes\n",
    "                    added = True\n",
    "                    break\n",
    "                prev_node = this_node\n",
    "                this_node = this_node.GetPointer()\n",
    "            \n",
    "            #When the end of linked list is reached\n",
    "            if not added:                                    #[1] adding at the end of the linked list     \n",
    "                prev_node.SetPointer(new_node)\n",
    "                \n",
    "    def Update(self, name, exp):\n",
    "        if self.Start == None:\n",
    "            print('Cannot update a student\\'s exp from an empty linked list.')\n",
    "        \n",
    "        else:\n",
    "            this_node = self.Start\n",
    "            prev_node = None\n",
    "            #Traverse through the linked list:\n",
    "            while this_node:\n",
    "                #condition to update a particular this_node\n",
    "                if this_node.GetName() == name:\n",
    "                    this_node.SetExp(exp)\n",
    "                    break\n",
    "                prev_node = this_node\n",
    "                this_node = this_node.GetPointer()\n",
    "            \n",
    "            #No need to update the leaderboard when the updating the start of the linked list:\n",
    "            if prev_node == None:                                      #[1]\n",
    "                pass\n",
    "            #Traverse through the linked list to check if need to update the leaderboard:\n",
    "            elif this_node.GetExp() > prev_node.GetExp():              #[1] condition to update leaderboard\n",
    "                temp_node = self.Start\n",
    "                #When this_node become the first position:\n",
    "                if this_node.GetExp() > temp_node.GetExp():            #[1]\n",
    "                    prev_node.SetPointer(this_node.GetPointer())\n",
    "                    self.Start = this_node\n",
    "                    this_node.SetPointer(temp_node)\n",
    "                else:\n",
    "                    #Continue traversing until finding a suitable place to insert this_node\n",
    "                    while temp_node.GetExp() > this_node.GetExp():     #[1]\n",
    "                        prev_temp_node = temp_node\n",
    "                        temp_node = temp_node.GetPointer()\n",
    "                        \n",
    "                    prev_temp_node.SetPointer(this_node)               #[1] Assign pointers accordingly\n",
    "                    prev_node.SetPointer(this_node.GetPointer())\n",
    "                    this_node.SetPointer(temp_node)\n",
    "            \n",
    "    def DisplayTop(self, n):\n",
    "        if self.Start == None:\n",
    "            print('There is no student in the linked list.')\n",
    "        else:\n",
    "            print('Displaying Top', n, 'students')\n",
    "            print('{0:15}|{1:^20}'.format('Name', 'Experience Points'))\n",
    "            print('-'*35)\n",
    "\n",
    "            this_node = self.Start\n",
    "            while this_node and n > 0:                                  #[1] display condition\n",
    "                print('{0:15}|{1:^20}'.format(this_node.GetName(), str(this_node.GetExp())))\n",
    "                this_node = this_node.GetPointer()\n",
    "                n -= 1                                                  #[1] update the counter\n",
    "            print('{:-^35}'.format('End of Display'))                   #[1] correct display output       \n",
    "                \n",
    "                \n",
    "                \n",
    "d = Leaderboard()\n",
    "\n",
    "#Your code to add all data from DATA.txt into d:\n",
    "\n",
    "file = open('DATA.txt')\n",
    "lines = file.readlines()\n",
    "for student in lines:\n",
    "    name, exp = student.strip().split(',')\n",
    "    d.Add(name, exp)\n",
    "\n",
    "file.close()\n",
    "\n"
   ]
  },
  {
   "cell_type": "code",
   "execution_count": null,
   "metadata": {},
   "outputs": [],
   "source": [
    "#Testcase for Task 4.4\n",
    "\n",
    "print('Before update:')\n",
    "d.DisplayTop(5)\n",
    "print()\n",
    "\n",
    "d.Update(\"DESMOND\",500)\n",
    "d.Update(\"LENON\",10000)\n",
    "d.Update(\"LENON\",10)\n",
    "\n",
    "print('After update:')\n",
    "d.DisplayTop(5)\n"
   ]
  }
 ],
 "metadata": {
  "colab": {
   "name": "template.ipynb",
   "provenance": []
  },
  "kernelspec": {
   "display_name": "Python 3",
   "language": "python",
   "name": "python3"
  },
  "language_info": {
   "codemirror_mode": {
    "name": "ipython",
    "version": 3
   },
   "file_extension": ".py",
   "mimetype": "text/x-python",
   "name": "python",
   "nbconvert_exporter": "python",
   "pygments_lexer": "ipython3",
   "version": "3.9.2"
  }
 },
 "nbformat": 4,
 "nbformat_minor": 1
}
