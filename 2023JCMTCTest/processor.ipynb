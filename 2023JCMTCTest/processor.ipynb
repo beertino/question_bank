{
 "cells": [
  {
   "cell_type": "code",
   "execution_count": 20,
   "metadata": {},
   "outputs": [
    {
     "name": "stdout",
     "output_type": "stream",
     "text": [
      "Done!\n"
     ]
    }
   ],
   "source": [
    "# Breaking up a paper into Invidual Questions\n",
    "with open('2021_ACJC_PROMO_QP.tex') as f:\n",
    "    content = f.read()\n",
    "\n",
    "# The string 'SPLIT_HERE' is used as a separator between questions\n",
    "qn_list = content.split('{[}SPLIT\\_HERE{]}')\n",
    "qn_list = [qn.strip() for qn in qn_list]\n",
    "\n",
    "first = 1\n",
    "\n",
    "# Based on where the separator 'SPLIT_HERE' is located\n",
    "# the first question would contain the string '\\begin{enumerate}'\n",
    "# which should be purged\n",
    "qn_list[first] = ''.join(list(qn_list[1])[17:]).strip()\n",
    "\n",
    "# Writing the questions in separate file\n",
    "for i in range(1,len(qn_list)):\n",
    "\n",
    "    # extracting the metadata in the string and \n",
    "    # get the paper number and question\n",
    "    metadata = qn_list[i]\n",
    "    start = metadata.index('{[}') + 2 \n",
    "    end = metadata.index('{]}')\n",
    "    metadata = metadata[start:end].split('/')\n",
    "    paper_number = metadata[-2]\n",
    "    question_number = metadata[-1]\n",
    "    \n",
    "    # writing the questions\n",
    "    with open(f'./indiv_qns/2021_ACJC_PROMO_{question_number}.tex','w') as f:\n",
    "        f.write(qn_list[i])\n",
    "\n",
    "print('Done!')"
   ]
  },
  {
   "cell_type": "code",
   "execution_count": 21,
   "metadata": {},
   "outputs": [
    {
     "name": "stdout",
     "output_type": "stream",
     "text": [
      "Done!\n"
     ]
    }
   ],
   "source": [
    "# Combining the individual questions into a .tex file\n",
    "\n",
    "from os import listdir\n",
    "\n",
    "with open('compiled.tex','w') as f:\n",
    "    with open('preamble.tex') as g:\n",
    "        preamble = g.read()\n",
    "    f.write(preamble)\n",
    "\n",
    "    f.write('\\\\begin{enumerate}')\n",
    "\n",
    "    # As dictionary ordering will put Q10 before Q2, we sort the files with lambda function as key\n",
    "    for file_name in sorted(listdir('./indiv_qns/'),key = lambda x: int(x[17:][:-4])):\n",
    "\n",
    "        with open(f'./indiv_qns/{file_name}') as qn:\n",
    "            q_to_write = qn.read()\n",
    "\n",
    "        f.write(q_to_write)\n",
    "        \n",
    "        f.write('\\n\\n \\\\newpage \\n\\n')\n",
    "    \n",
    "\n",
    "    f.write('\\n\\n \\end{enumerate}\\n\\n \\end{document}\\n\\n')\n",
    "\n",
    "print('Done!')"
   ]
  },
  {
   "cell_type": "code",
   "execution_count": null,
   "metadata": {},
   "outputs": [],
   "source": []
  }
 ],
 "metadata": {
  "kernelspec": {
   "display_name": "Python 3.10.2 64-bit",
   "language": "python",
   "name": "python3"
  },
  "language_info": {
   "codemirror_mode": {
    "name": "ipython",
    "version": 3
   },
   "file_extension": ".py",
   "mimetype": "text/x-python",
   "name": "python",
   "nbconvert_exporter": "python",
   "pygments_lexer": "ipython3",
   "version": "3.10.2"
  },
  "orig_nbformat": 4,
  "vscode": {
   "interpreter": {
    "hash": "a42ccb73e7d9bfdf27e036f1d2b8b681e55fc0743cc5586bc2474d4a60f4b886"
   }
  }
 },
 "nbformat": 4,
 "nbformat_minor": 2
}
