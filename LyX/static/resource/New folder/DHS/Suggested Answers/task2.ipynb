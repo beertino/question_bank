{
 "cells": [
  {
   "cell_type": "code",
   "execution_count": 1,
   "metadata": {
    "colab": {
     "base_uri": "https://localhost:8080/"
    },
    "id": "VhYL9YcEu0A4",
    "outputId": "7a0abf55-5bc1-4964-98c1-c78cb6f6bed8"
   },
   "outputs": [
    {
     "name": "stdout",
     "output_type": "stream",
     "text": [
      "13.0\n"
     ]
    }
   ],
   "source": [
    "import math\n",
    "\n",
    "def solver(expr):\n",
    "    expr = list(expr)\n",
    "    stack = list() \n",
    "    num_to_process_next = \"\"               \n",
    "    while len(expr) > 0:               \n",
    "        popped_expression = expr.pop(0)\n",
    "        '''If is number, then flag it out for next loop'''                \n",
    "        if popped_expression in \"0123456789.\":\n",
    "            num_to_process_next += popped_expression\n",
    "        else:\n",
    "            '''if there's a num to process, add it to stack'''                \n",
    "            if num_to_process_next != \"\":\n",
    "                stack.append(num_to_process_next)\n",
    "                num_to_process_next = \"\"\n",
    "                \n",
    "            '''if cursor is operator, add it to stack too'''                    \n",
    "            if popped_expression in \"+-*/\":\n",
    "                stack.append(popped_expression)\n",
    "            \n",
    "                '''if closing parenthesis, then process the expression in stack'''                    \n",
    "            elif popped_expression == \")\": \n",
    "                num2 = stack.pop()\n",
    "                op = stack.pop()\n",
    "                num1 = stack.pop()\n",
    "                if op == \"+\":\n",
    "                    stack.append(str(float(num1) + float(num2)))\n",
    "                elif op == \"-\":\n",
    "                    stack.append(str(float(num1) - float(num2)))\n",
    "                elif op == \"*\":\n",
    "                    stack.append(str(float(num1) * float(num2)))\n",
    "                elif op == \"/\":\n",
    "                    stack.append(str(float(num1) / float(num2)))\n",
    "    return float(stack.pop())                \n",
    "\n",
    "print(solver(\"((1*7)+6)\"))                "
   ]
  },
  {
   "cell_type": "code",
   "execution_count": 2,
   "metadata": {
    "colab": {
     "base_uri": "https://localhost:8080/"
    },
    "id": "9kKAb_yzv5vo",
    "outputId": "58a0e303-fd86-44ea-b293-7f2cae015297"
   },
   "outputs": [
    {
     "name": "stdout",
     "output_type": "stream",
     "text": [
      "((((3+(4/7))*3)+5)*10)\n"
     ]
    }
   ],
   "source": [
    "import random\n",
    "\n",
    "def combine(operands, operator): \n",
    "    return \"(\" + str(operands[0]) + operator[0] + str(operands[1]) + \")\"\n",
    "\n",
    "\n",
    "def generate_expression(operator_count, expression=None):                \n",
    "    if operator_count==1:               \n",
    "        new_number=random.randint(1,10)                 \n",
    "        previous_number = random.randint(1,10)                \n",
    "        number_shuffle = [previous_number, new_number]                \n",
    "        random.shuffle(number_shuffle) \n",
    "        operator_shuffle = [\"+\",\"-\",\"/\",\"*\"] \n",
    "        random.shuffle(operator_shuffle)                \n",
    "        \n",
    "        return combine(number_shuffle, operator_shuffle)                \n",
    "    \n",
    "    new_number=random.randint(1,10) \n",
    "    previous_number = expression\n",
    "    number_shuffle = [generate_expression(operator_count-1), new_number]                \n",
    "    random.shuffle(number_shuffle)\n",
    "    operator_shuffle = [\"+\",\"-\",\"/\",\"*\"]\n",
    "    random.shuffle(operator_shuffle)\n",
    "    \n",
    "    return combine(number_shuffle, operator_shuffle)  \n",
    "    \n",
    "    \n",
    "print(generate_expression(5))                \n"
   ]
  },
  {
   "cell_type": "code",
   "execution_count": 3,
   "metadata": {
    "colab": {
     "base_uri": "https://localhost:8080/"
    },
    "id": "awKmtaBev7A0",
    "outputId": "d3b3b039-68a8-4d88-8e3c-c4f9a9478532"
   },
   "outputs": [
    {
     "name": "stdout",
     "output_type": "stream",
     "text": [
      "\n",
      "Melvin(M)'s score is 0. \n",
      "Susan(F)'s score is 0. \n",
      "Ms. Norah's score is 0. \n",
      "\n",
      "To  Melvin : (10+(4-8)) ?\n",
      "Answer:1\n",
      "Wrong answer. (Correct answer: 6 ) Total score is still 0.\n",
      "\n",
      "To  Susan : ((1-9)-6) ?\n",
      "Answer:1\n",
      "Wrong answer. (Correct answer: -14 ) Total score is still 0.\n",
      "\n",
      "To  Jimmy : (1-(10*3)) ?\n",
      "Answer:1\n",
      "Wrong answer. (Correct answer: -29 ) Total score is still 0.\n",
      "\n",
      "\n",
      "\n",
      "5C35: \n",
      "\n",
      "Melvin(M)'s score is 0. \n",
      "Susan(F)'s score is 0. (chairperson) \n",
      "Ms. Norah's score is 0. \n",
      "\n",
      "6C35: \n",
      "\n",
      "Ben(M)'s score is 0. \n",
      "Mr. Jimmy's score is 0. "
     ]
    }
   ],
   "source": [
    "\n",
    "\n",
    "class Person:                \n",
    "    def __init__(self, name, gender, score=None):               \n",
    "        self.name = name\n",
    "        self.gender = gender               \n",
    "        self.score = 0\n",
    "\n",
    "    def display_info(self):               \n",
    "        print()\n",
    "        print(self.name+\"(\"+self.gender+\")'s score is \"+ str(self.score)+\".\", end=\" \")\n",
    "        return \n",
    "    \n",
    "   \n",
    "    def attempts(self):               \n",
    "        question = generate_expression(2)               \n",
    "        answer = solver(question)               \n",
    "        print(\"To \",self.name,\":\", question, \"?\")               \n",
    "        response = input(\"Answer:\")               \n",
    "        answer = int(math.ceil(float(answer)))  \n",
    "        if response == str(answer):\n",
    "            print(\"Good job!\")\n",
    "            self.score += 1               \n",
    "            print(\"New total score for\", self.name, \"is\", str(self.score))\n",
    "        else:\n",
    "            print(\"Wrong answer. (Correct answer:\",answer,\") Total score is still\", str(self.score) + \".\")               \n",
    "\n",
    "class Student(Person):               \n",
    "    def __init__(self, name, gender, role, score=None):               \n",
    "        super().__init__(name, gender, score)\n",
    "        self.role = role\n",
    "\n",
    "    def student_role(self):\n",
    "        return self.role\n",
    "    \n",
    "    def display_info(self):               \n",
    "        super().display_info()\n",
    "    \n",
    "    def attempts(self):               \n",
    "        return super().attempts()               \n",
    "\n",
    "    \n",
    "class FormTeacher(Person):               \n",
    "    def __init__(self, name, gender, score=None):               \n",
    "        super().__init__(name, gender, score)\n",
    "\n",
    "    def attempts(self):               \n",
    "        return super().attempts()               \n",
    "\n",
    "    def display_info(self):               \n",
    "        print()\n",
    "        if self.gender==\"F\":\n",
    "            print (\"Ms. \"+ self.name + \"'s score is \" + str(self.score) +\".\", end=\" \")\n",
    "        elif self.gender == \"M\":\n",
    "            print(\"Mr. \"+ self.name + \"'s score is \" + str(self.score)  +\".\", end=\" \")               \n",
    "        return \n",
    "\n",
    "\n",
    "Melvin = Student(\"Melvin\", \"M\", None)\n",
    "Susan = Student(\"Susan\", \"F\", \"chairperson\")\n",
    "Norah = FormTeacher(\"Norah\", \"F\")\n",
    "\n",
    "Ben = Student(\"Ben\", \"M\", None)               \n",
    "Jimmy = FormTeacher(\"Jimmy\", \"M\")               \n",
    "\n",
    "Melvin.display_info()\n",
    "Susan.display_info()\n",
    "Norah.display_info()               \n",
    "# Ben.roled()\n",
    "print()\n",
    "print()\n",
    "\n",
    "Melvin.attempts()\n",
    "print()\n",
    "Susan.attempts()\n",
    "print()\n",
    "Jimmy.attempts()               \n",
    "print()\n",
    "\n",
    "groups = []\n",
    "groups.append([Melvin, \"5C35\"])\n",
    "groups.append([Susan, \"5C35\"])\n",
    "groups.append([Norah, \"5C35\"])\n",
    "groups.append([Ben, \"6C35\"])\n",
    "groups.append([Jimmy, \"6C35\"])\n",
    "\n",
    "covered_classes = []\n",
    "\n",
    "for person in groups:\n",
    "  if person[1] not in covered_classes:\n",
    "    covered_classes.append(person[1])\n",
    "    current_class = person[1]\n",
    "    \n",
    "    print()\n",
    "    print()\n",
    "    print(current_class+\": \")\n",
    "    for person_class in groups:\n",
    "      if person_class[1] == current_class:\n",
    "        person_class[0].display_info()\n",
    "        if type(person_class[0]).__name__ == \"Student\":\n",
    "            if (person_class[0].student_role()) != None:\n",
    "                print(\"(\"+person_class[0].student_role()+\")\", end=\" \")\n",
    "        \n"
   ]
  },
  {
   "cell_type": "code",
   "execution_count": null,
   "metadata": {
    "id": "tVjT1mJMv-ch"
   },
   "outputs": [],
   "source": []
  }
 ],
 "metadata": {
  "colab": {
   "collapsed_sections": [],
   "name": "T2 Math program",
   "provenance": []
  },
  "kernelspec": {
   "display_name": "Python 3",
   "language": "python",
   "name": "python3"
  },
  "language_info": {
   "codemirror_mode": {
    "name": "ipython",
    "version": 3
   },
   "file_extension": ".py",
   "mimetype": "text/x-python",
   "name": "python",
   "nbconvert_exporter": "python",
   "pygments_lexer": "ipython3",
   "version": "3.6.4"
  }
 },
 "nbformat": 4,
 "nbformat_minor": 1
}
