{
 "metadata": {
  "language_info": {
   "codemirror_mode": {
    "name": "ipython",
    "version": 3
   },
   "file_extension": ".py",
   "mimetype": "text/x-python",
   "name": "python",
   "nbconvert_exporter": "python",
   "pygments_lexer": "ipython3",
   "version": "3.6.4"
  },
  "orig_nbformat": 4,
  "kernelspec": {
   "name": "python3",
   "display_name": "Python 3.6.4 64-bit"
  },
  "interpreter": {
   "hash": "f7291e4b392a32fbfa525b87d1bbd0a3d888adf3d0deca0c205c61b9e7284b82"
  }
 },
 "nbformat": 4,
 "nbformat_minor": 2,
 "cells": [
  {
   "cell_type": "code",
   "execution_count": 1,
   "source": [
    "### Task 2.1\r\n",
    "class Employee: #1m\r\n",
    "    def __init__(self, name, nric, contact):\r\n",
    "        self._name = name\r\n",
    "        self._nric = nric\r\n",
    "        self._contact = contact\r\n",
    "\r\n",
    "    def get_name(self): #1m 3 getters and 1 setters\r\n",
    "        return self._name\r\n",
    "\r\n",
    "    def get_nric(self):\r\n",
    "        return self._nric\r\n",
    "\r\n",
    "    def get_contact(self):\r\n",
    "        return self._contact\r\n",
    "\r\n",
    "    def _set_contact(self, contact):\r\n",
    "        self._contact = contact\r\n",
    "\r\n",
    "    def __repr__(self): #1m\r\n",
    "        return f\"{self._name}:{self._nric}\"\r\n",
    "\r\n",
    "    def compare_with(self,other):#1m\r\n",
    "        return -1 if self._name < other._name else 1 if self._name > other._name else 0\r\n",
    "\r\n",
    "    def calculate_pay(self):\r\n",
    "        return 0 \r\n",
    "##[4]"
   ],
   "outputs": [],
   "metadata": {}
  },
  {
   "cell_type": "code",
   "execution_count": 2,
   "source": [
    "class Helper: ## This can be copied to the FTEmployee and PTEmployee classes\r\n",
    "    def compare_with(self, other):\r\n",
    "        if self.calculate_pay() < other.calculate_pay():\r\n",
    "            return -1\r\n",
    "        elif self.calculate_pay() > other.calculate_pay():\r\n",
    "            return 1\r\n",
    "        else:\r\n",
    "            return (Employee.compare_with(self,other)) # using class method\r\n",
    "# instead of multiple inheritance can implement it as a global function\r\n",
    "def helper(self, other):\r\n",
    "    if self.calculate_pay() < other.calculate_pay():\r\n",
    "        return -1\r\n",
    "    elif self.calculate_pay() > other.calculate_pay():\r\n",
    "        return 1\r\n",
    "    else:\r\n",
    "        return super(type(self), self).compare_with(other) # calling an object's super() from outside the class\r\n",
    "        #return (Employee.compare_with(self,other))\r\n",
    "    "
   ],
   "outputs": [],
   "metadata": {}
  },
  {
   "cell_type": "code",
   "execution_count": 3,
   "source": [
    "## Task 2.2\r\n",
    "class FTEmployee(Employee):#, Helper):  using multiple inheritance\r\n",
    "# setter/getter code not shown\r\n",
    "    def __init__(self,name, nric, contact,salary):\r\n",
    "        super().__init__(name, nric, contact)\r\n",
    "        self._salary=salary\r\n",
    "        \r\n",
    "    def __repr__(self):\r\n",
    "        return f\"{super().__repr__()}:{self._salary}\"\r\n",
    "\r\n",
    "    def calculate_pay(self):\r\n",
    "        return self._salary\r\n",
    "\r\n",
    "    def compare_with(self, other):\r\n",
    "        return helper(self, other)\r\n",
    "\r\n",
    "#    def compare_with(self, other):\r\n",
    "#        return Helper.compare_with(self, other)\r\n",
    "# using a helper class to encapsulate the helper function since the\r\n",
    "# code for the 2 derives class are identical\r\n",
    "#        if self.calculate_pay() < other.calculate_pay():\r\n",
    "#            return -1\r\n",
    "#        elif self.calculate_pay() > other.calculate_pay():\r\n",
    "#            return 1\r\n",
    "#        else:\r\n",
    "#            return (super().compare_with(other))"
   ],
   "outputs": [],
   "metadata": {}
  },
  {
   "cell_type": "code",
   "execution_count": 4,
   "source": [
    "class PTEmployee(Employee): #, Helper):  using multiple inheritance\r\n",
    "# setter/getter code not shown\r\n",
    "    def __init__(self,name, nric, contact,rate, hours):\r\n",
    "        super().__init__(name, nric, contact)\r\n",
    "        self._rate = rate\r\n",
    "        self._hours = hours\r\n",
    "\r\n",
    "    def __repr__(self):\r\n",
    "        return f\"{super().__repr__()}:{self._rate}:{self._hours}\"\r\n",
    "\r\n",
    "    def calculate_pay(self):\r\n",
    "        return self._hours * self._rate\r\n",
    "\r\n",
    "    def compare_with(self, other):\r\n",
    "        return helper(self, other)\r\n",
    " #       \r\n",
    " #       if self.calculate_pay() < other.calculate_pay():\r\n",
    " #           return -1\r\n",
    " #       elif self.calculate_pay() > other.calculate_pay():\r\n",
    " #           return 1\r\n",
    " #       else: \r\n",
    " #           return (super().compare_with(other))\r\n"
   ],
   "outputs": [],
   "metadata": {}
  },
  {
   "cell_type": "markdown",
   "source": [
    "*   1m for both constructors \r\n",
    "*   1m for both __repr__\r\n",
    "*   1m for both calculate_pay\r\n",
    "*   1m for both compare_with\r\n",
    "*   1m for modularity of code\r\n"
   ],
   "metadata": {}
  },
  {
   "cell_type": "code",
   "execution_count": 5,
   "source": [
    "## Task 2.3\r\n",
    "import csv\r\n",
    "f=open(\"paid_employees.csv\",\"r\")\r\n",
    "paid_employees=[]\r\n",
    "read_employees = list(csv.reader(f))\r\n",
    "for e in read_employees[1:]:\r\n",
    "    if e[0] == \"PT\":\r\n",
    "        pt=PTEmployee(e[2],e[1],e[3],int(e[4]),int(e[5]))\r\n",
    "        paid_employees.append(pt)\r\n",
    "    elif e[0] == \"FT\":\r\n",
    "        ft=FTEmployee(e[2],e[1],e[3],int(e[6]))\r\n",
    "        paid_employees.append(ft)\r\n",
    "print(paid_employees)\r\n",
    "\r\n",
    "#1m for correct instantiation of objects\r\n",
    "#1m for correct result/format"
   ],
   "outputs": [
    {
     "output_type": "stream",
     "name": "stdout",
     "text": [
      "[Harley:F2879124I:40:128, Barris:G2162825P:40:134, Andre:G7028612T:40:149, Dev:G8804899R:60:56, Florry:G5935054J:7642, Lauritz:F3295152O:5657, Monroe:G9637986L:3936, Van:F4203985B:4198, Correna:F4954357C:40:72, Gabe:G8771450I:60:99, Salmon:F2156653R:60:47, Mitchell:G6928407A:5158, Antonie:G1450945B:9563, Babs:F9627284B:60:128, Aurilia:F2307865W:7307, Wilburt:S7473431H:8969, Adamo:F0444907W:4976, Cullan:G4832834C:60:89, Karla:G6716982J:50:105, Aeriela:G9993714Q:60:98, Raviv:S1460805T:60:130, Gillan:F8422204Y:40:43, Joey:G8331389O:3716, Dannie:G6716775O:60:157, Moria:F0918909W:40:44, Idell:T8063560X:40:142, Marybelle:G1782103K:60:45, Desi:G4235480H:60:81, Salome:S7452853R:60:81, Lynnet:G5402656M:50:85, Hanson:G9076451U:50:110, Luella:G1360886H:60:125, Verina:G7553594U:6346, Sarita:G5852056H:4601, Benedicto:S3238298D:60:52, Mira:G1294799R:60:104, Trixy:G9707922O:6662, Joelie:S2743497J:50:50, Ardenia:F3249879K:6229, Arlinda:F3036905T:3206, Kacie:F4904390Z:5058, Kermy:G4188930T:40:111, Loretta:F0232876V:9756, Glenn:S6439266Q:7526, Kynthia:G0602181G:4172, Maynord:T7211833V:8143, Faith:G7283747K:40:46, Avrom:G9183436R:50:94, Stevie:T5128325K:6731, Kevan:G7283469I:60:72, Gretal:G7505051N:3236, Wilburt:G6740511A:5734, Graig:S2537969S:4951, Doe:G6380855M:60:77, Meggi:T8147922J:40:140, Reuben:T6092243P:6375]\n"
     ]
    }
   ],
   "metadata": {}
  },
  {
   "cell_type": "code",
   "execution_count": null,
   "source": [
    "### Task 2.4\r\n",
    "def insert_sort(L, lb, ub): ## \r\n",
    "    for i in range(lb+1,ub+1): #1m correct lb,ub\r\n",
    "        j = i\r\n",
    "        while j > 0 and L[j].compare_with(L[j-1]) == -1 : # 1m inner loop with correct loop termination condition\r\n",
    "            L[j], L[j-1] = L[j-1], L[j] # 1m swap and update pointers\r\n",
    "            j -= 1\r\n",
    "    return L\r\n",
    "sorted_employees=insert_sort(paid_employees, 0, len(paid_employees)-1) #1m correct order"
   ],
   "outputs": [],
   "metadata": {}
  },
  {
   "cell_type": "code",
   "execution_count": null,
   "source": [
    "sorted_employees[:10]"
   ],
   "outputs": [],
   "metadata": {}
  },
  {
   "cell_type": "code",
   "execution_count": null,
   "source": [
    "sorted_employees[-10:]"
   ],
   "outputs": [],
   "metadata": {}
  },
  {
   "cell_type": "markdown",
   "source": [
    "<h1>\r\n",
    "The algorithm below uses 3 sorts:\r\n",
    "1st sort is to \"sort\" all the Employee objects to the front of the PTEmployee and FTEmployees, the order within this 2 sublists does not matter\r\n",
    "2nd and 3rd sort will then use the previous insert_sort to sort the 2 sublist in ascending order\r\n",
    "</h1>"
   ],
   "metadata": {}
  },
  {
   "cell_type": "code",
   "execution_count": null,
   "source": [
    "## Task 2.5\r\n",
    "\r\n",
    "import csv\r\n",
    "f=open(\"all_employees.csv\",\"r\")\r\n",
    "all_employees=[]\r\n",
    "read_employees = list(csv.reader(f))\r\n",
    "for e in read_employees[1:]:\r\n",
    "    if e[0] == \"PT\":\r\n",
    "        pt=PTEmployee(e[2],e[1],e[3],int(e[4]),int(e[5]))\r\n",
    "        all_employees.append(pt)\r\n",
    "    elif e[0] == \"FT\":\r\n",
    "        ft=FTEmployee(e[2],e[1],e[3],int(e[6]))\r\n",
    "        all_employees.append(ft)\r\n",
    "    else:\r\n",
    "        em = Employee(e[2],e[1],e[3])\r\n",
    "        all_employees.append(em)\r\n",
    "## 1m\r\n",
    "\r\n",
    "# sort the Employee_list to the front, \r\n",
    "# find boundary between Em and (FT,PT), \r\n",
    "# sort the EM sublist, sort the (FT,PT) sublist\r\n",
    "def sort_all(L): \r\n",
    "    # 2m swap all Employees to the front:check adjacent nodes swap as long as Not Employee,Employee\r\n",
    "    for i in range(1,len(L)):\r\n",
    "        j = i\r\n",
    "        while j > 0 and type(L[j]) is Employee and type(L[j-1]) is not Employee:\r\n",
    "            L[j], L[j-1] = L[j-1], L[j]\r\n",
    "            j -= 1\r\n",
    "    # 1m find boundary between Employees and the rest: k is the last index for employee objects\r\n",
    "    k=-1 ## need this for empty list, list with no employees\r\n",
    "    for k in range(len(L)):\r\n",
    "        if type(L[k]) is not Employee:\r\n",
    "            k = k -1\r\n",
    "            break\r\n",
    "    #2m sort the 2 sub-list        \r\n",
    "    insert_sort(L,0,k) # unpaid Employee sublist\r\n",
    "    insert_sort(L,k+1,len(L)-1) # Paid employee sublist\r\n",
    "    return L\r\n",
    "\r\n",
    "sort_all(all_employees)\r\n"
   ],
   "outputs": [],
   "metadata": {}
  },
  {
   "cell_type": "code",
   "execution_count": null,
   "source": [
    "# create paid_employees file\r\n",
    "import csv\r\n",
    "f=open(\"ALL_EMPLOYEES.csv\",\"r\")\r\n",
    "all_employees = csv.reader(f)\r\n",
    "paid_employees=list(filter(lambda x: x[0] in ('PT','FT'),all_employees))\r\n",
    "f.close()\r\n",
    "\r\n",
    "f=open(\"paid_employees.csv\",\"w\")\r\n",
    "f.write(\"type,nric,name,contact,rate,hours,salary\\n\")\r\n",
    "for row in paid_employees:\r\n",
    "    f.write(\",\".join(row)+\"\\n\")\r\n",
    "f.close()"
   ],
   "outputs": [],
   "metadata": {}
  },
  {
   "cell_type": "code",
   "execution_count": 7,
   "source": [
    "### Using csv.Dict to import data file to a MongoDB\r\n",
    "import csv\r\n",
    "data = csv.DictReader( open(\"tb.csv\",\"r\"),fieldnames=['type','nric','name','contact','rate','hours','salary'])\r\n",
    "\r\n",
    "import pymongo\r\n",
    "client = pymongo.MongoClient(\"127.0.0.1\", 27017)\r\n",
    "db = client.get_database(\"tb\")\r\n",
    "coll = db.get_collection(\"paid_employees\") #1m for db connection\r\n",
    "for d in data:\r\n",
    "    coll.insert_one(d)\r\n",
    "client.close()"
   ],
   "outputs": [],
   "metadata": {}
  },
  {
   "cell_type": "code",
   "execution_count": null,
   "source": [],
   "outputs": [],
   "metadata": {}
  }
 ]
}