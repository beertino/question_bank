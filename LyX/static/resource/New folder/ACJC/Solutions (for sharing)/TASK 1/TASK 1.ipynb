{
 "cells": [
  {
   "cell_type": "code",
   "execution_count": 2,
   "metadata": {},
   "outputs": [
    {
     "name": "stdout",
     "output_type": "stream",
     "text": [
      "True\n"
     ]
    }
   ],
   "source": [
    "# Task 1.1\n",
    "\n",
    "def valid(s):\n",
    "    #length check\n",
    "    if len(s) != 12:\n",
    "        return False\n",
    "    \n",
    "    #digit check\n",
    "    if not s.isdigit():\n",
    "        return False\n",
    "    \n",
    "    #checksum\n",
    "    total = 0\n",
    "    for i in range(12):\n",
    "        if i % 2 == 0:\n",
    "            total += 3*int(s[i])\n",
    "        else:\n",
    "            total += int(s[i])\n",
    "    if total % 10 != 0:\n",
    "        return False\n",
    "    \n",
    "    return True\n",
    "\n",
    "print(valid('036000291452'))"
   ]
  },
  {
   "cell_type": "code",
   "execution_count": 4,
   "metadata": {},
   "outputs": [
    {
     "name": "stdout",
     "output_type": "stream",
     "text": [
      "00000000010100011010111101010111100011010001101000110101010110110011101001100110101110010011101101100101000000000\n"
     ]
    }
   ],
   "source": [
    "# Task 1.2\n",
    "\n",
    "def string_to_barcode(s):\n",
    "    convert_list = ['0001101','0011001','0010011','0111101','0100011','0110001','0101111','0111011','0110111','0001011']\n",
    "\n",
    "    quiet = '0'*9\n",
    "    startend = '101'\n",
    "    middle = '01010'\n",
    "    \n",
    "    leftdigits = ''\n",
    "    rightdigits = ''\n",
    "\n",
    "    for i in range(6):\n",
    "        leftdigits += convert_list[int(s[i])]\n",
    "\n",
    "    for i in range(6,12):\n",
    "        from_list = convert_list[int(s[i])]\n",
    "        to_add = ''\n",
    "        for char in from_list:\n",
    "            if char == '0':\n",
    "                to_add += '1'\n",
    "            else:\n",
    "                to_add += '0'\n",
    "        rightdigits += to_add\n",
    "    \n",
    "    return quiet+startend+leftdigits+middle+rightdigits+startend+quiet\n",
    "\n",
    "print(string_to_barcode('036000291452'))"
   ]
  },
  {
   "cell_type": "code",
   "execution_count": null,
   "metadata": {},
   "outputs": [],
   "source": [
    "# Task 1.3\n",
    "\n",
    "def check_valid_barcode(s):\n",
    "    #length check\n",
    "    if len(s) != 113:\n",
    "        return False\n",
    "    \n",
    "    #character check\n",
    "    for char in s:\n",
    "        if char != '0' and char != '1':\n",
    "            return False\n",
    "    \n",
    "    #format check\n",
    "    quiet = '0'*9\n",
    "    startend = '101'\n",
    "    middle = '01010'    \n",
    "    \n",
    "    if s[:12] != quiet+startend:\n",
    "        return False\n",
    "    if s[-12:] != startend+quiet:\n",
    "        return False\n",
    "    if s[54:59] != middle:\n",
    "        return False\n",
    "    \n",
    "    return True\n",
    "\n",
    "def barcode_to_string(s):\n",
    "    \n",
    "    if not check_valid_barcode: # validity check\n",
    "        return \"Error: Invalid barcode\"\n",
    "    \n",
    "    #upside down check\n",
    "    count1 = 0\n",
    "    for i in range(12,19):\n",
    "        if s[i] == '1':    # condition parity\n",
    "            count1 += 1\n",
    "    if count1 % 2 == 0:    # inverting the string\n",
    "        s = s[::-1]\n",
    "\n",
    "    convert_list = ['0001101','0011001','0010011','0111101','0100011','0110001','0101111','0111011','0110111','0001011']\n",
    "\n",
    "    result = ''\n",
    "    for i in range(12,54,6):\n",
    "        segment = s[i:i+7]\\\n",
    "        if segment not in convert_list:\n",
    "            return \"Error: Invalid barcode\"\n",
    "        else:\n",
    "            result += str(convert_list.index(segment))\n",
    "    \n",
    "    for i in range(59,101,6):\n",
    "        segment = s[i:i+7]\n",
    "        mod_seg = ''\n",
    "        for char in segment:\n",
    "            if char == '0':\n",
    "                mod_seg += '1'\n",
    "            else:\n",
    "                mod_seg += '0'\n",
    "        if mod_seg not in convert_list:\n",
    "            return \"Error: Invalid barcode\"\n",
    "        else:\n",
    "            result += str(convert_list.index(mod_seg))\n",
    "    \n",
    "    return result"
   ]
  }
 ],
 "metadata": {
  "kernelspec": {
   "display_name": "Python 3",
   "language": "python",
   "name": "python3"
  },
  "language_info": {
   "codemirror_mode": {
    "name": "ipython",
    "version": 3
   },
   "file_extension": ".py",
   "mimetype": "text/x-python",
   "name": "python",
   "nbconvert_exporter": "python",
   "pygments_lexer": "ipython3",
   "version": "3.6.4"
  }
 },
 "nbformat": 4,
 "nbformat_minor": 2
}
