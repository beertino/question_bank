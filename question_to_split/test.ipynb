{
 "cells": [
  {
   "cell_type": "code",
   "execution_count": 3,
   "metadata": {},
   "outputs": [
    {
     "name": "stdout",
     "output_type": "stream",
     "text": [
      "\\item \\textbf{{[}ACJC/PROMO/9758/2021/Q1{]} }\n",
      "\n",
      "State a sequence of transformations that will transform the curve\n",
      "with equation $y=2\\sin(2x+\\alpha)\\cos(x)$ on to the curve with equation\n",
      "$y=-2\\sin(4x+3\\alpha)\\cos(2x+\\alpha$ ), where $\\alpha$ is a positive\n",
      "constant. \\hfill{}{[}3{]}\n",
      "\n"
     ]
    },
    {
     "ename": "ValueError",
     "evalue": "too many values to unpack (expected 4)",
     "output_type": "error",
     "traceback": [
      "\u001b[1;31m---------------------------------------------------------------------------\u001b[0m",
      "\u001b[1;31mValueError\u001b[0m                                Traceback (most recent call last)",
      "\u001b[1;32mc:\\Users\\Admin\\Desktop\\Github\\question_bank\\question_to_split\\test.ipynb Cell 1\u001b[0m in \u001b[0;36m<module>\u001b[1;34m\u001b[0m\n\u001b[0;32m     <a href='vscode-notebook-cell:/c%3A/Users/Admin/Desktop/Github/question_bank/question_to_split/test.ipynb#W0sZmlsZQ%3D%3D?line=23'>24</a>\u001b[0m \u001b[39mfor\u001b[39;00m q \u001b[39min\u001b[39;00m qns:\n\u001b[0;32m     <a href='vscode-notebook-cell:/c%3A/Users/Admin/Desktop/Github/question_bank/question_to_split/test.ipynb#W0sZmlsZQ%3D%3D?line=24'>25</a>\u001b[0m      \u001b[39mprint\u001b[39m(q)\n\u001b[1;32m---> <a href='vscode-notebook-cell:/c%3A/Users/Admin/Desktop/Github/question_bank/question_to_split/test.ipynb#W0sZmlsZQ%3D%3D?line=25'>26</a>\u001b[0m      exam_type, year, paper_no, question_no \u001b[39m=\u001b[39m q[q\u001b[39m.\u001b[39mfind(\u001b[39m'\u001b[39m\u001b[39m{\u001b[39m\u001b[39m[}\u001b[39m\u001b[39m'\u001b[39m)\u001b[39m+\u001b[39m\u001b[39mlen\u001b[39m(\u001b[39m'\u001b[39m\u001b[39m{\u001b[39m\u001b[39m[}\u001b[39m\u001b[39m'\u001b[39m):q\u001b[39m.\u001b[39mfind(\u001b[39m'\u001b[39m\u001b[39m{\u001b[39m\u001b[39m]}\u001b[39m\u001b[39m'\u001b[39m)]\u001b[39m.\u001b[39msplit(\u001b[39m'\u001b[39m\u001b[39m/\u001b[39m\u001b[39m'\u001b[39m)\n\u001b[0;32m     <a href='vscode-notebook-cell:/c%3A/Users/Admin/Desktop/Github/question_bank/question_to_split/test.ipynb#W0sZmlsZQ%3D%3D?line=26'>27</a>\u001b[0m      \u001b[39mprint\u001b[39m(exam_type, year, paper_no, question_no)\n",
      "\u001b[1;31mValueError\u001b[0m: too many values to unpack (expected 4)"
     ]
    }
   ],
   "source": [
    "import os\n",
    "\n",
    "with open(f'test.tex') as f:\n",
    "        reader = f.read()\n",
    "\n",
    "reader_size = len(reader)\n",
    "\n",
    "break_phrase = '\\\\rule[0.5ex]{1\\columnwidth}{1pt}'\n",
    "\n",
    "found_index = reader.find(break_phrase)\n",
    "\n",
    "qns = []\n",
    "\n",
    "while 0 <= found_index < reader_size:\n",
    "    next_index = reader.find(break_phrase, found_index + len(break_phrase))\n",
    "    qns.append(reader[found_index + len(break_phrase):next_index])\n",
    "    found_index = next_index\n",
    "    if found_index == -1:\n",
    "        break\n",
    "\n",
    "qns = [qn.strip()[len('\\\\begin{enumerate}'):-\n",
    "                len('\\\\begin{enumerate}')+1].strip()+'\\n' for qn in qns[:-1]]\n",
    "\n",
    "for q in qns:\n",
    "     print(q)\n",
    "     exam_type, year, paper_no, question_no = q[q.find('{[}')+len('{[}'):q.find('{]}')].split('/')\n",
    "     print(exam_type, year, paper_no, question_no)"
   ]
  },
  {
   "cell_type": "code",
   "execution_count": null,
   "metadata": {},
   "outputs": [],
   "source": []
  }
 ],
 "metadata": {
  "kernelspec": {
   "display_name": "Python 3",
   "language": "python",
   "name": "python3"
  },
  "language_info": {
   "codemirror_mode": {
    "name": "ipython",
    "version": 3
   },
   "file_extension": ".py",
   "mimetype": "text/x-python",
   "name": "python",
   "nbconvert_exporter": "python",
   "pygments_lexer": "ipython3",
   "version": "3.10.2"
  },
  "orig_nbformat": 4
 },
 "nbformat": 4,
 "nbformat_minor": 2
}
